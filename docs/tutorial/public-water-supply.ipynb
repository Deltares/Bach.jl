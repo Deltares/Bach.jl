{
 "cells": [
  {
   "cell_type": "markdown",
   "metadata": {},
   "source": [
    "---\n",
    "title: \"Public water supply\"\n",
    "---"
   ]
  },
  {
   "cell_type": "code",
   "execution_count": null,
   "metadata": {},
   "outputs": [],
   "source": [
    "from pathlib import Path\n",
    "\n",
    "from ribasim import Model, Node\n",
    "from ribasim.nodes import (\n",
    "    user_demand,\n",
    ")\n",
    "from shapely.geometry import Point"
   ]
  },
  {
   "cell_type": "code",
   "execution_count": null,
   "metadata": {},
   "outputs": [],
   "source": [
    "base_dir = Path(\"c:/bin/ribasim\")\n",
    "model_dir = base_dir / \"Crystal_Basin\"\n",
    "data_path = model_dir / \"data/input/ACTINFLW.csv\"\n",
    "\n",
    "starttime = \"2022-01-01\"\n",
    "endtime = \"2023-01-01\"\n",
    "model = Model(\n",
    "    starttime=starttime,\n",
    "    endtime=endtime,\n",
    "    crs=\"EPSG:4326\",\n",
    ")"
   ]
  },
  {
   "cell_type": "markdown",
   "metadata": {},
   "source": [
    "\n",
    "## Public Water Supply\n",
    "\n",
    "### Rename the saving files\n",
    "Rename the files to `Crystal_2.2`\n",
    "\n",
    "### Add a demand node\n",
    "$50.000$ people live in Crystal City.\n",
    "To represents the total flow rate or abstraction rate required to meet the water demand of $50.000$ people, another demand node needs to be added assuming a return flow of $60%$."
   ]
  },
  {
   "cell_type": "code",
   "execution_count": null,
   "metadata": {},
   "outputs": [],
   "source": [
    "model.user_demand.add(\n",
    "    Node(9, Point(0.0, -0.25), name=\"PWS\"),\n",
    "    [\n",
    "        user_demand.Time(\n",
    "            # Total demand in m³/s\n",
    "            demand=[\n",
    "                0.07,\n",
    "                0.08,\n",
    "                0.09,\n",
    "                0.10,\n",
    "                0.12,\n",
    "                0.14,\n",
    "                0.15,\n",
    "                0.14,\n",
    "                0.12,\n",
    "                0.10,\n",
    "                0.09,\n",
    "                0.08,\n",
    "            ],\n",
    "            return_factor=0.6,\n",
    "            min_level=0,\n",
    "            priority=1,\n",
    "            time=[\n",
    "                starttime,\n",
    "                \"2022-02-01\",\n",
    "                \"2022-03-01\",\n",
    "                \"2022-04-01\",\n",
    "                \"2022-05-01\",\n",
    "                \"2022-06-01\",\n",
    "                \"2022-07-01\",\n",
    "                \"2022-08-01\",\n",
    "                \"2022-09-01\",\n",
    "                \"2022-10-01\",\n",
    "                \"2022-11-01\",\n",
    "                \"2022-12-01\",\n",
    "            ],\n",
    "        )\n",
    "    ],\n",
    ")"
   ]
  },
  {
   "cell_type": "markdown",
   "metadata": {},
   "source": [
    "### Add the edges\n",
    "The connection between the reservoir and the demand node needs to be defined:"
   ]
  },
  {
   "cell_type": "code",
   "execution_count": null,
   "metadata": {},
   "outputs": [],
   "source": [
    "model.edge.add(model.flow_boundary[1], model.basin[3])\n",
    "model.edge.add(model.flow_boundary[2], model.basin[4])\n",
    "model.edge.add(model.basin[3], model.user_demand[6])\n",
    "model.edge.add(model.basin[3], model.user_demand[9])\n",
    "model.edge.add(model.user_demand[6], model.basin[4])\n",
    "model.edge.add(model.user_demand[9], model.basin[4])\n",
    "model.edge.add(model.basin[3], model.tabulated_rating_curve[7])\n",
    "model.edge.add(model.tabulated_rating_curve[7], model.basin[4])\n",
    "model.edge.add(model.basin[4], model.tabulated_rating_curve[5])\n",
    "model.edge.add(model.tabulated_rating_curve[5], model.terminal[8])"
   ]
  },
  {
   "cell_type": "markdown",
   "metadata": {},
   "source": [
    "### Adjust the name dictionaries"
   ]
  },
  {
   "cell_type": "code",
   "execution_count": null,
   "metadata": {},
   "outputs": [],
   "source": [
    "# Dictionary mapping node_ids to names\n",
    "edge_names = {\n",
    "    (1, 3): \"Main\",\n",
    "    (2, 4): \"Minor\",\n",
    "    (3, 6): \"IrrA Demand\",\n",
    "    (6, 4): \"IrrA Drain\",\n",
    "    (3, 9): \"PWS Demand\",\n",
    "    (9, 4): \"PWS Return\",\n",
    "    (3, 7): \"Rsv2Main\",\n",
    "    (7, 4): \"Main2Conf\",\n",
    "    (4, 5): \"Conf2TRC\",\n",
    "    (5, 8): \"TRC2Term\",\n",
    "}"
   ]
  },
  {
   "cell_type": "markdown",
   "metadata": {},
   "source": [
    "### Check the simulated demands\n",
    "@fig-sim8 shows the flow to (PWS Demand) and out (PWS Return) of the PWS node.\n",
    "@fig-sim9 shows the downstream flow to the ocean.\n",
    "The impact is clear.\n",
    "Due to the demands upstream (irrigation and public water supply) an expected decrease of discharge is shown downstream.\n",
    "\n",
    "![Simulated flows to and from the city](https://s3.deltares.nl/ribasim/doc-image/quickstart/Simulated-flows-to-and-from-the-city.png){fig-align=\"left\" #fig-sim8}\n",
    "\n",
    "![Simulated basin storages and levels](https://s3.deltares.nl/ribasim/doc-image/quickstart/Simulated-basin-storages-and-levels-reservoir.png){fig-align=\"left\" #fig-sim9}"
   ]
  }
 ],
 "metadata": {
  "kernelspec": {
   "display_name": "Python 3",
   "language": "python",
   "name": "python3"
  },
  "language_info": {
   "codemirror_mode": {
    "name": "ipython",
    "version": 3
   },
   "file_extension": ".py",
   "mimetype": "text/x-python",
   "name": "python",
   "nbconvert_exporter": "python",
   "pygments_lexer": "ipython3",
   "version": "3.12.5"
  }
 },
 "nbformat": 4,
 "nbformat_minor": 4
}
