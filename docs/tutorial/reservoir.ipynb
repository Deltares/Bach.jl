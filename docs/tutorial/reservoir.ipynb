{
 "cells": [
  {
   "cell_type": "code",
   "execution_count": null,
   "metadata": {},
   "outputs": [],
   "source": [
    "from pathlib import Path\n",
    "\n",
    "import matplotlib.pyplot as plt\n",
    "import pandas as pd\n",
    "import plotly.express as px\n",
    "from ribasim import Model, Node\n",
    "from ribasim.nodes import basin\n",
    "from shapely.geometry import Point"
   ]
  },
  {
   "cell_type": "code",
   "execution_count": null,
   "metadata": {},
   "outputs": [],
   "source": [
    "base_dir = Path(\"c:/bin/ribasim\")\n",
    "model_dir = base_dir / \"Crystal_Basin\"\n",
    "data_path = model_dir / \"data/input/ACTINFLW.csv\"\n",
    "\n",
    "starttime = \"2022-01-01\"\n",
    "endtime = \"2023-01-01\"\n",
    "model = Model(\n",
    "    starttime=starttime,\n",
    "    endtime=endtime,\n",
    "    crs=\"EPSG:4326\",\n",
    ")"
   ]
  },
  {
   "cell_type": "markdown",
   "metadata": {},
   "source": [
    "# Reservoirs and Public Water Supply\n",
    "Due to the increase of population and climate change Crystal city has implemented a reservoir upstream to store water for domestic use (See @fig-reservoir).\n",
    "The reservoir is to help ensure a reliable supply during dry periods.\n",
    "In this module, the user will update the model to incorporate the reservoir's impact on the whole Crystal Basin.\n",
    "\n",
    "![Crystal basin with demands and a reservoir](https://s3.deltares.nl/ribasim/doc-image/quickstart/Crystal-basin-with-demands-and-a-reservoir.png){fig-align=\"left\" #fig-reservoir}\n",
    "\n",
    "## Reservoir\n",
    "### Add a Basin\n",
    "This time Basin #3 will function as a reservoir instead of a diversion, meaning it's storage and levels will play an important role for the users (the city and the farmer).\n",
    "The reservoir has a max. area of $32.3 \\text{ km}^2$ and a max. depth of $7 \\text{ m}$.\n",
    "The profile of Basin #3 should change to:"
   ]
  },
  {
   "cell_type": "code",
   "execution_count": null,
   "metadata": {},
   "outputs": [],
   "source": [
    "model.basin.add(\n",
    "    Node(3, Point(-0.75, -0.5), name=\"Rsv\"),\n",
    "    [\n",
    "        basin.Profile(area=[20000000, 32300000], level=[0, 7]),\n",
    "        basin.State(level=[3.5]),\n",
    "        basin.Time(time=[starttime, endtime]),\n",
    "    ],\n",
    ")"
   ]
  },
  {
   "cell_type": "markdown",
   "metadata": {},
   "source": [
    "### Adjust the code\n",
    "Adjust the naming of the Basin in the dictionary mapping and the saving file should be `Crystal_2.1` instead of `*_1.2`."
   ]
  },
  {
   "cell_type": "code",
   "execution_count": null,
   "metadata": {},
   "outputs": [],
   "source": [
    "toml_path = model_dir / \"Crystal_2.1/ribasim.toml\"\n",
    "model.write(toml_path)\n",
    "cli_path = base_dir / \"ribasim_windows/ribasim.exe\"\n",
    "\n",
    "# Dictionary mapping node_ids to names\n",
    "edge_names = {\n",
    "    (1, 3): \"Main\",\n",
    "    (2, 4): \"Minor\",\n",
    "    (3, 6): \"IrrA Demand\",\n",
    "    (6, 4): \"IrrA Drain\",\n",
    "    (3, 7): \"Rsv2Main\",\n",
    "    (7, 4): \"Main2Conf\",\n",
    "    (4, 5): \"Conf2TRC\",\n",
    "    (5, 8): \"TRC2Term\",\n",
    "}\n",
    "\n",
    "# Dictionary mapping basins (node_ids) to names\n",
    "node_names = {\n",
    "    3: \"Rsv\",\n",
    "    4: \"Conf\",\n",
    "}\n",
    "\n",
    "df_basin = pd.read_feather(model_dir / \"Crystal_2.1/results/basin.arrow\")\n",
    "\n",
    "# Create pivot tables and plot for basin data\n",
    "df_basin_wide = df_basin.pivot_table(\n",
    "    index=\"time\", columns=\"node_id\", values=[\"storage\", \"level\"]\n",
    ")\n",
    "\n",
    "# Skip the first timestep as it is the initialization step\n",
    "df_basin_wide = df_basin_wide.iloc[1:]\n",
    "\n",
    "\n",
    "# Create pivot tables and plot for basin data\n",
    "df_basin_rsv = df_basin_wide.xs(\"Rsv\", axis=1, level=1, drop_level=False)\n",
    "df_basin_conf = df_basin_wide.xs(\"Conf\", axis=1, level=1, drop_level=False)\n",
    "\n",
    "\n",
    "def plot_basin_data(\n",
    "    ax, ax_twin, df_basin, level_color=\"b\", storage_color=\"r\", title=\"Basin\"\n",
    "):\n",
    "    # Plot level data\n",
    "    for idx, column in enumerate(df_basin[\"level\"].columns):\n",
    "        ax.plot(\n",
    "            df_basin.index,\n",
    "            df_basin[\"level\"][column],\n",
    "            linestyle=\"-\",\n",
    "            color=level_color,\n",
    "            label=f\"Level - {column}\",\n",
    "        )\n",
    "\n",
    "    # Plot storage data\n",
    "    for idx, column in enumerate(df_basin[\"storage\"].columns):\n",
    "        ax_twin.plot(\n",
    "            df_basin.index,\n",
    "            df_basin[\"storage\"][column],\n",
    "            linestyle=\"--\",\n",
    "            color=storage_color,\n",
    "            label=f\"Storage - {column}\",\n",
    "        )\n",
    "\n",
    "    ax.set_ylabel(\"Level [m]\", color=level_color)\n",
    "    ax_twin.set_ylabel(\"Storage [m³]\", color=storage_color)\n",
    "\n",
    "    ax.tick_params(axis=\"y\", labelcolor=level_color)\n",
    "    ax_twin.tick_params(axis=\"y\", labelcolor=storage_color)\n",
    "\n",
    "    ax.set_title(title)\n",
    "\n",
    "    # Combine legends from both axes\n",
    "    lines, labels = ax.get_legend_handles_labels()\n",
    "    lines_twin, labels_twin = ax_twin.get_legend_handles_labels()\n",
    "    ax.legend(lines + lines_twin, labels + labels_twin, loc=\"upper left\")\n",
    "\n",
    "\n",
    "# Create subplots\n",
    "fig, (ax1, ax3) = plt.subplots(2, 1, figsize=(12, 12), sharex=True)\n",
    "\n",
    "# Plot Rsv basin data\n",
    "ax2 = ax1.twinx()  # Secondary y-axis for storage\n",
    "plot_basin_data(ax1, ax2, df_basin_rsv, title=\"Reservoir Level and Storage Over Time\")"
   ]
  },
  {
   "cell_type": "code",
   "execution_count": null,
   "metadata": {},
   "outputs": [],
   "source": [
    "# Sample data loading and preparation\n",
    "df_flow = pd.read_feather(model_dir / \"Crystal_2.1/results/flow.arrow\")\n",
    "df_flow[\"edge\"] = list(zip(df_flow.from_node_id, df_flow.to_node_id))\n",
    "df_flow[\"name\"] = df_flow[\"edge\"].map(edge_names)\n",
    "\n",
    "# Plot the flow data, interactive plot with Plotly\n",
    "pivot_flow = df_flow.pivot_table(\n",
    "    index=\"time\", columns=\"name\", values=\"flow_rate\"\n",
    ").reset_index()\n",
    "fig = px.line(\n",
    "    pivot_flow, x=\"time\", y=pivot_flow.columns[1:], title=\"Flow Over Time [m3/s]\"\n",
    ")\n",
    "\n",
    "fig.update_layout(legend_title_text=\"Edge\")\n",
    "fig.write_html(model_dir / \"Crystal_2.1/plot_edges.html\")\n",
    "fig.show()"
   ]
  },
  {
   "cell_type": "markdown",
   "metadata": {},
   "source": [
    "### Plotting results\n",
    "@fig-sim7 illustrates the new storage and water level at the reservoir.\n",
    "As expected, after increasing the profile of basin 3 to mimic the reservoir, its storage capacity increased as well.\n",
    "\n",
    "![Simulated basin storages and levels](https://s3.deltares.nl/ribasim/doc-image/quickstart/Simulated-basin-storages-and-levels.png){fig-align=\"left\" #fig-sim7}"
   ]
  }
 ],
 "metadata": {
  "kernelspec": {
   "display_name": "Python 3",
   "language": "python",
   "name": "python3"
  },
  "language_info": {
   "codemirror_mode": {
    "name": "ipython",
    "version": 3
   },
   "file_extension": ".py",
   "mimetype": "text/x-python",
   "name": "python",
   "nbconvert_exporter": "python",
   "pygments_lexer": "ipython3",
   "version": "3.12.5"
  }
 },
 "nbformat": 4,
 "nbformat_minor": 4
}
