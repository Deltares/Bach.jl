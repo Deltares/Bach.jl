{
 "cells": [
  {
   "cell_type": "code",
   "execution_count": null,
   "metadata": {},
   "outputs": [],
   "source": [
    "import subprocess  # For running the model\n",
    "from pathlib import Path\n",
    "\n",
    "import matplotlib.pyplot as plt\n",
    "import pandas as pd\n",
    "from ribasim import Model, Node\n",
    "from ribasim.nodes import basin, flow_boundary, tabulated_rating_curve"
   ]
  },
  {
   "cell_type": "markdown",
   "metadata": {},
   "source": [
    "---\n",
    "title: \"Quick start guide\"\n",
    "---"
   ]
  },
  {
   "cell_type": "markdown",
   "metadata": {},
   "source": [
    "![](https://s3.deltares.nl/ribasim/doc-image/quickstart/cover.png){fig-align=\"left\"}\n",
    "\n",
    "# Introduction\n",
    "Welcome to Ribasim!\n",
    "This tutorial will help you get started with the basics of using Ribasim for river basin simulation.\n",
    "In this tutorial, the schematization of models is done in Python using the Ribasim Python package.\n",
    "The Ribasim Python package (named `ribasim`) simplifies the process of building, updating, and analyzing Ribasim model programmatically.\n",
    "It also allows for the creation of entire models from base data, ensuring that your model setup is fully reproducible.\n",
    "\n",
    "## Learning objectives\n",
    "In this tutorial, we will focus on a fictional river basin called Crystal, which will serve as our case study.\n",
    "The guide is divided into different modules, each covering various scenarios.\n",
    "These include simulating natural flow, implementing reservoirs, and observing the impact of other structures.\n",
    "While not all node types and possibilities will be demonstrated, the focus will be on the most commonly used and significant situations.\n",
    "By the end of the tutorial, users will be able to:\n",
    "\n",
    "- **Set up a basic Ribasim model**: Understand how to create a new model for a river basin using the Ribasim Python package.\n",
    "- **Evaluate the impact of demands**: Introduce water demand (such as irrigation) and assess their effects on the river basin.\n",
    "- **Modify and update models**: Learn how to update existing models with new data and changes.\n",
    "- **Analyze simulation results**: Use built-in tools to analyze and interpret the results of your simulations.\n",
    "\n",
    "## Prerequisites\n",
    "First install the latest release of Ribasim as documented in [the installation guide](/install.qmd).\n",
    "\n",
    "Download the `Crystal_Basin.zip` file from the website. Extract `Crystal_Basin.zip` and place it in the same directory as your Ribasim installation. This folder includes:\n",
    "\n",
    "- `QuickStartGuide.pdf`\n",
    "- `data`: Contains data inputs such as time series needed for running the case.\n",
    "Additionally, your Python model (`.py`) and the results will also be saved in this folder."
   ]
  },
  {
   "cell_type": "markdown",
   "metadata": {},
   "source": [
    "# Crystal River Basin\n",
    "We will examine a straightforward example of the Crystal river basin, which includes a main river and a single tributary flowing into the sea (see @fig-crystal-basin).\n",
    "An average discharge of $44.45 \\text{m}^3/\\text{s}$ is measured at the confluence.\n",
    "In this module, the basin is free of any activities, allowing the model to simulate the natural flow.\n",
    "The next step is to include a demand (irrigation) that taps from a canal out of the main river.\n",
    "\n",
    "![Crystal Basin based on natural flow](https://s3.deltares.nl/ribasim/doc-image/quickstart/Crystal-Basin-based-on-natural-flow.png){fig-align=\"left\" #fig-crystal-basin}\n",
    "\n",
    "After this module the user will be able to:\n",
    "\n",
    "- Build a river basin model from scratch\n",
    "- Understand the functionality of the Demand and Basin nodes\n",
    "- Generate overview of results\n",
    "- Evaluate the simulation results\n",
    "\n",
    "## Natural flow\n",
    "\n",
    "### Import packages\n",
    "Before building the model we need to import some modules.\n",
    "Open your favorite Python editor (Visual Studio Code, Jupyter, ...) and create a new script or notebook and name it `Crystal_1.1` and save it into your model folder `Crystal_Basin`.\n",
    "Import the following modules in Python:"
   ]
  },
  {
   "cell_type": "code",
   "execution_count": null,
   "metadata": {},
   "outputs": [],
   "source": [
    "import plotly.express as px\n",
    "from ribasim.nodes import user_demand"
   ]
  },
  {
   "cell_type": "markdown",
   "metadata": {},
   "source": [
    "### Setup paths and model configuration\n",
    "Reference the paths of the Ribasim installation and model directory and define the time period (2022-01-01 until 2023-01-01) for the model simulation.\n",
    "The coordinate reference system (CRS) is also required, and set to [EPSG:4326](https://epsg.io/4326), which means all coordinates are interpreted as latitude and longitude values.\n",
    "The CRS is important for correctly placing Ribasim models on the map, but since this is a fictional model, it is not important."
   ]
  },
  {
   "cell_type": "code",
   "execution_count": null,
   "metadata": {},
   "outputs": [],
   "source": [
    "base_dir = Path(\"c:/bin/ribasim\")\n",
    "model_dir = base_dir / \"Crystal_Basin\"\n",
    "data_path = model_dir / \"data/input/ACTINFLW.csv\"\n",
    "\n",
    "starttime = \"2022-01-01\"\n",
    "endtime = \"2023-01-01\"\n",
    "model = Model(\n",
    "    starttime=starttime,\n",
    "    endtime=endtime,\n",
    "    crs=\"EPSG:4326\",\n",
    ")"
   ]
  },
  {
   "cell_type": "markdown",
   "metadata": {},
   "source": [
    "### FlowBoundary nodes\n",
    "The Crystal basin consists of two inflow points, the tributary and the main Crystal river, we will call them Minor and Main respectively.\n",
    "In order to define the time series flow rate ($\\text{m}^3/\\text{s}$) we read the discharge data from `ACTINFLW.csv`.\n",
    "This is a monthly inflow timeseries from 2014 to 2023.\n",
    "The used simulation period is defined by the `starttime` and `endtime` of the model, not by the input timeseries."
   ]
  },
  {
   "cell_type": "code",
   "execution_count": null,
   "metadata": {},
   "outputs": [],
   "source": [
    "pd.date_range(start=\"2022-01-01\", end=\"2023-01-01\", freq=\"MS\")"
   ]
  },
  {
   "cell_type": "code",
   "execution_count": null,
   "metadata": {},
   "outputs": [],
   "source": [
    "data = pd.DataFrame({\n",
    "    \"time\": pd.date_range(start=\"2022-01-01\", end=\"2023-01-01\", freq=\"MS\"),\n",
    "    \"main\": [74.7, 57.9, 63.2, 183.9, 91.8, 47.5, 32.6, 27.6, 26.5, 25.1, 39.3, 37.8, 57.9],\n",
    "    \"minor\": [16.3, 3.8, 3.0, 37.6, 18.2, 11.1, 12.9, 12.2, 11.2, 10.8, 15.1, 14.3, 11.8]\n",
    "})  # fmt: skip\n",
    "data[\"total\"] = data[\"minor\"] + data[\"main\"]\n",
    "display(data)\n",
    "\n",
    "# Average and max inflow of the total inflow data timeseries\n",
    "# From 2014 - 2023\n",
    "print(\"Average inflow [m3/s]:\", data[\"total\"].mean())\n",
    "print(\"Maximum inflow [m3/s]:\", data[\"total\"].max())\n",
    "\n",
    "main = model.flow_boundary.add(\n",
    "    Node(1, Point(0.0, 0.0), name=\"main\"),\n",
    "    [\n",
    "        flow_boundary.Time(\n",
    "            time=data.time,\n",
    "            flow_rate=data.main,\n",
    "        )\n",
    "    ],\n",
    ")\n",
    "\n",
    "minor = model.flow_boundary.add(\n",
    "    Node(2, Point(-3.0, 0.0), name=\"minor\"),\n",
    "    [\n",
    "        flow_boundary.Time(\n",
    "            time=data.time,\n",
    "            flow_rate=data.minor,\n",
    "        )\n",
    "    ],\n",
    ")"
   ]
  },
  {
   "cell_type": "markdown",
   "metadata": {},
   "source": [
    "### Basin node (confluence)\n",
    "To schematize the confluence from the tributary we will use the Basin node.\n",
    "The node by itself portrays as water storage with a certain volume of water and can be used for different purposes, such as a reservoir, river reach, lake or in this case a confluence.\n",
    "@fig-confluence visualizes a cross section of the confluence point in our model.\n",
    "\n",
    "![Basin node concept for the confluence](https://s3.deltares.nl/ribasim/doc-image/quickstart/Basin-node-concept-for-the-confluence.png){fig-align=\"left\" #fig-confluence}\n",
    "\n",
    "@tbl-input1 shows the input data for the Basin node profile.\n",
    "\n",
    ": Profile data for the basin node {#tbl-input1}\n",
    "\n",
    "| Area [$\\text{m}^2$] | Level [$\\text{m}$] |\n",
    "|---------------------|--------------------|\n",
    "|    $672000.0$       |      $0.0$         |\n",
    "|   $5600000.0$       |      $6.0$         |\n",
    "\n",
    "Whilst in this case the level starts at $0.0$ and therefore happens to be the same as the depth, it should never be interpreted as a depth.\n",
    "All water levels in Ribasim are assumed to be with respect to a shared reference datum, like mean sea level (MSL).\n",
    "The first water level in the profile is the height of the Basin bottom above this reference datum.\n",
    "\n",
    "To specify the Basin profile, the following code is used:"
   ]
  },
  {
   "cell_type": "code",
   "execution_count": null,
   "metadata": {},
   "outputs": [],
   "source": [
    "confluence = model.basin.add(\n",
    "    Node(3, Point(-1.5, -1), name=\"confluence\"),\n",
    "    [\n",
    "        basin.Profile(area=[672000, 5600000], level=[0, 6]),\n",
    "        basin.State(level=[4]),\n",
    "        basin.Time(time=[starttime, endtime]),\n",
    "    ],\n",
    ")"
   ]
  },
  {
   "cell_type": "markdown",
   "metadata": {},
   "source": [
    "### TabulatedRatingCurve\n",
    "In the previous step we implemented a Basin node that functions as a confluence.\n",
    "Conceptually, the Basin acts as a store of water, accumulating inflows and then releasing them.\n",
    "A Basin cannot directly connect to another Basin, because the rules for water exchange between them need to be defined.\n",
    "Connector nodes take care of this.\n",
    "The first such node we introduce is the TabulatedRatingCurve.\n",
    "It defines a relation between the water level ($h$) in the Basin and the outflow ($Q$) from the Basin.\n",
    "This setup mimics the behavior of a gate or spillway, allowing us to model how varying water levels influence flow rates at the confluence.\n",
    "\n",
    "As the two inflows come together at the confluence, we expect, as mentioned above, a discharge average of $44.45 \\text{m}^3/\\text{s}$.\n",
    "It is therefore expected that the confluence Basin goes towards a level where the outflow is equal to the inflow via the rating curve.\n",
    "Only then is the confluence Basin in equilibrium.\n",
    "The maximum depth of the river is $6 \\text{m}$, and the maximum inflow is $221.5 \\text{m}^3/\\text{s}$\n",
    "The $Q(h)$ relationship in @tbl-input2 allows such inflows with reasonable water levels.\n",
    "\n",
    ": Input data for the Tabulated Rating Curve {#tbl-input2}\n",
    "\n",
    "| Water Level ($h$) [$\\text{m}$] | Outflow ($Q$) [$\\text{m}^3/\\text{s}$] |\n",
    "| -------------------------------|---------------------------------------|\n",
    "| $0.0$                          | $0.0$                                 |\n",
    "| $2.0$                          | $50.0$                                |\n",
    "| $5.0$                          | $200.0$                               |\n",
    "\n",
    "In Ribasim, the $Q(h)$ relation is a piecewise linear function, so the points in between will be linearly interpolated.\n",
    "@fig-discharge illustrates the visual process and shows a progressive increase in discharge with rising water levels.\n",
    "In this case this means:\n",
    "\n",
    "- At level $0.0$: No discharge occurs. This represents a condition where the water level is too low for any flow to be discharged.\n",
    "- At level $2.0$: Discharge is $50.0 \\text{m}^3/\\text{s}$. This is a bit above the average discharge rate, corresponding to the water level where normal flow conditions are established.\n",
    "- At level $5.0$: Discharge rate reaches $200.0 \\text{m}^3/\\text{s}$. This discharge rate occurs at the water level during wet periods, indicating higher flow capacity.\n",
    "\n",
    "![Discharge at corresponding water levels](https://s3.deltares.nl/ribasim/doc-image/quickstart/Discharge-at-corresponding-water-levels.png){fig-align=\"left\" #fig-discharge}\n",
    "\n",
    "Taking this into account, add the `TabulatedRatingCurve` as follows:"
   ]
  },
  {
   "cell_type": "code",
   "execution_count": null,
   "metadata": {},
   "outputs": [],
   "source": [
    "weir = model.tabulated_rating_curve.add(\n",
    "    Node(4, Point(-1.5, -1.5), name=\"weir\"),\n",
    "    [\n",
    "        tabulated_rating_curve.Static(\n",
    "            level=[0.0, 2, 5],\n",
    "            flow_rate=[0.0, 50, 200],\n",
    "        )\n",
    "    ],\n",
    ")"
   ]
  },
  {
   "cell_type": "markdown",
   "metadata": {},
   "source": [
    "### Terminal node\n",
    "Finally all the water will discharge into the sea.\n",
    "We schematize this with the Terminal node, as it portrays the end point of the model, that can receive but not give water.\n",
    "Besides the node number/name and location, no further input is needed."
   ]
  },
  {
   "cell_type": "code",
   "execution_count": null,
   "metadata": {},
   "outputs": [],
   "source": [
    "sea = model.terminal.add(Node(5, Point(-1.5, -3.0), name=\"sea\"))"
   ]
  },
  {
   "cell_type": "markdown",
   "metadata": {},
   "source": [
    "### Defining edges\n",
    "Implement the connections (edges) between the nodes."
   ]
  },
  {
   "cell_type": "code",
   "execution_count": null,
   "metadata": {},
   "outputs": [],
   "source": [
    "model.edge.add(main, confluence)\n",
    "model.edge.add(minor, confluence)\n",
    "model.edge.add(confluence, weir)\n",
    "model.edge.add(weir, sea)"
   ]
  },
  {
   "cell_type": "markdown",
   "metadata": {},
   "source": [
    "### Visualization and model execution\n",
    "Plot the schematization."
   ]
  },
  {
   "cell_type": "code",
   "execution_count": null,
   "metadata": {},
   "outputs": [],
   "source": [
    "model.plot();"
   ]
  },
  {
   "cell_type": "markdown",
   "metadata": {},
   "source": [
    "Write the model configuration to the `TOML` file.\n",
    "Name the output file `Crystal_1.1/ribasim.toml`:"
   ]
  },
  {
   "cell_type": "code",
   "execution_count": null,
   "metadata": {},
   "outputs": [],
   "source": [
    "toml_path = model_dir / \"Crystal_1.1/ribasim.toml\"\n",
    "model.write(toml_path)\n",
    "cli_path = base_dir / \"ribasim_windows/ribasim.exe\""
   ]
  },
  {
   "cell_type": "markdown",
   "metadata": {},
   "source": [
    "\n",
    "The schematization should look like @fig-cs11.\n",
    "\n",
    "![Schematization of the Crystal basin 1.1](https://s3.deltares.nl/ribasim/doc-image/quickstart/Schematization-of-the-Crystal-basin-1.1.png){fig-align=\"left\" #fig-cs11}\n",
    "\n",
    "After running `model.write` a subfolder `Crystal_1.1` is created, which contains the model input data and configuration:\n",
    "\n",
    "- ribasim.toml: The model configuration\n",
    "- database.gpkg: A GeoPackage containing the network geometry and input data of the nodes used.\n",
    "\n",
    "Now run the model:"
   ]
  },
  {
   "cell_type": "code",
   "execution_count": null,
   "metadata": {},
   "outputs": [],
   "source": [
    "result = subprocess.run([cli_path, toml_path], capture_output=True, encoding=\"utf-8\")\n",
    "print(result.stderr)\n",
    "result.check_returncode()"
   ]
  },
  {
   "cell_type": "markdown",
   "metadata": {},
   "source": [
    "### Post-processing results\n",
    "Read the Arrow files and plot the simulated flows from different edges and the levels and storages at our confluence point:"
   ]
  },
  {
   "cell_type": "code",
   "execution_count": null,
   "metadata": {},
   "outputs": [],
   "source": [
    "df_basin = pd.read_feather(model_dir / \"Crystal_1.1/results/basin.arrow\")\n",
    "\n",
    "# Create pivot tables and plot for basin data\n",
    "df_basin_wide = df_basin.pivot_table(\n",
    "    index=\"time\", columns=\"node_id\", values=[\"storage\", \"level\"]\n",
    ")\n",
    "\n",
    "# Skip the first timestep as it is the initialization step\n",
    "df_basin_wide = df_basin_wide.iloc[1:]\n",
    "\n",
    "# Plot level and storage on the same graph with dual y-axes\n",
    "fig, ax1 = plt.subplots(figsize=(12, 6))\n",
    "\n",
    "# Plot level on the primary y-axis\n",
    "color = \"b\"\n",
    "ax1.set_xlabel(\"Time\")\n",
    "ax1.set_ylabel(\"Level [m]\", color=color)\n",
    "ax1.plot(df_basin_wide.index, df_basin_wide[\"level\"], color=color)\n",
    "ax1.tick_params(axis=\"y\", labelcolor=color)\n",
    "\n",
    "# Create a secondary y-axis for storage\n",
    "ax2 = ax1.twinx()\n",
    "color = \"r\"\n",
    "ax2.set_ylabel(\"Storage [m³]\", color=\"r\")\n",
    "ax2.plot(df_basin_wide.index, df_basin_wide[\"storage\"], linestyle=\"--\", color=color)\n",
    "ax2.tick_params(axis=\"y\", labelcolor=color)\n",
    "\n",
    "fig.tight_layout()  # Adjust layout to fit labels\n",
    "plt.title(\"Basin Level and Storage Over Time\")\n",
    "plt.show()"
   ]
  },
  {
   "cell_type": "code",
   "execution_count": null,
   "metadata": {},
   "outputs": [],
   "source": [
    "# Plot flow data\n",
    "# Read the flow results\n",
    "df_flow = pd.read_feather(model_dir / \"Crystal_1.1/results/flow.arrow\")\n",
    "# Create 'edge' and 'flow_m3d' columns\n",
    "df_flow[\"edge\"] = list(zip(df_flow.from_node_id, df_flow.to_node_id))\n",
    "\n",
    "# Create a pivot table\n",
    "pivot_flow = df_flow.pivot_table(index=\"time\", columns=\"edge\", values=\"flow_rate\")\n",
    "\n",
    "# Skip the first timestep\n",
    "pivot_flow = pivot_flow.iloc[1:]\n",
    "\n",
    "line_styles = [\"-\", \"--\", \"-\", \"-.\"]\n",
    "num_styles = len(line_styles)\n",
    "\n",
    "fig, ax = plt.subplots(figsize=(12, 6))\n",
    "for i, column in enumerate(pivot_flow.columns):\n",
    "    pivot_flow[column].plot(\n",
    "        ax=ax, linestyle=line_styles[i % num_styles], linewidth=1.5, alpha=0.8\n",
    "    )\n",
    "\n",
    "# Set labels and title\n",
    "ax.set_xlabel(\"Time\")\n",
    "ax.set_ylabel(\"Flow [m³/s]\")\n",
    "ax.legend(bbox_to_anchor=(1.15, 1), title=\"Edge\")\n",
    "plt.title(\"Flow Over Time\")\n",
    "plt.grid(True)\n",
    "plt.show()"
   ]
  },
  {
   "cell_type": "markdown",
   "metadata": {},
   "source": [
    "@fig-sim1 shows the storage and levels in the Basin node.\n",
    "\n",
    "To accurately represent the relationship between water levels and discharge rates at this confluence, a TabulatedRatingCurve is used.\n",
    "This setup mimics the behavior of a gate or spillway, allowing us to model how varying water levels influence flow rates at the confluence.\n",
    "Since the basin node is functioning as a confluence rather than a storage reservoir, the simulated water levels and storage trends will closely follow the inflow patterns.\n",
    "This is because there is no net change in storage; all incoming water is balanced by outgoing flow.\n",
    "\n",
    "![Simulated basin level and storage](https://s3.deltares.nl/ribasim/doc-image/quickstart/Simulated-basin-level-and-storage.png){fig-align=\"left\" #fig-sim1}\n",
    "\n",
    "@fig-sim2 shows the discharges in $\\text{m}^3/\\text{s}$ on each edge.\n",
    "Edge (3,4) represents the flow from the confluence to the tabulated rating curve and edge (4,5) represents the flow from the tabulated rating curve to the terminal.\n",
    "Both show the same discharge over time.\n",
    "Which is expected in a natural flow environment, as what is coming into the confluence must come out.\n",
    "\n",
    "![Simulated flows on each edge](https://s3.deltares.nl/ribasim/doc-image/quickstart/Simulated-flows-on-each-edge.jpg){fig-align=\"left\" #fig-sim2}\n",
    "\n",
    "## Irrigation demand\n",
    "\n",
    "Let us modify the environment to include agricultural activities within the basin, which necessitate irrigation.\n",
    "Water is diverted from the main river through an irrigation canal, with a portion of it eventually returning to the main river (see @fig-irrigation).\n",
    "\n",
    "![Crystal basin with irrigation](https://s3.deltares.nl/ribasim/doc-image/quickstart/Crystal-basin-with-irrigation.png){fig-align=\"left\" #fig-irrigation}\n",
    "\n",
    "For this schematization update, we need to incorporate three additional nodes:\n",
    "\n",
    "- Basin: Represents a cross-sectional point where water is diverted.\n",
    "- UserDemand: Represents the irrigation demand.\n",
    "- TabulatedRatingCurve: Defines the remaining water flow from the main river at the diversion point."
   ]
  },
  {
   "cell_type": "markdown",
   "metadata": {},
   "source": [
    "### Add a second Basin node\n",
    "Basin #3 will portray as the point in the river where the diversion takes place, getting the name `diversion`.\n",
    "Its profile area at this intersection is slightly smaller than at the confluence."
   ]
  },
  {
   "cell_type": "code",
   "execution_count": null,
   "metadata": {},
   "outputs": [],
   "source": [
    "model.basin.add(\n",
    "    Node(3, Point(-0.75, -0.5), name=\"diversion\"),\n",
    "    [\n",
    "        basin.Profile(area=[500000, 5000000], level=[0, 6]),\n",
    "        basin.State(level=[3]),\n",
    "        basin.Time(time=[starttime, endtime]),\n",
    "    ],\n",
    ")\n",
    "\n",
    "model.basin.add(\n",
    "    Node(4, Point(-1.5, -1), name=\"confluence\"),\n",
    "    [\n",
    "        basin.Profile(area=[672000, 5600000], level=[0, 6]),\n",
    "        basin.State(level=[4]),\n",
    "        basin.Time(time=[starttime, endtime]),\n",
    "    ],\n",
    ")"
   ]
  },
  {
   "cell_type": "markdown",
   "metadata": {},
   "source": [
    "### Add the irrigation demand\n",
    "A big farm company needs to apply irrigation to its field starting from April to September.\n",
    "The irrigated field is $> 17000 \\text{ ha}$ and requires around $5 \\text{ mm/day}$.\n",
    "In this case the farm company diverts from the main river an average flow rate of $10 \\text{ m}^3/\\text{s}$ and $12 \\text{ m}^3/\\text{s}$ during spring and summer, respectively.\n",
    "Start of irrigation takes place on the 1st of April until the end of August.\n",
    "The farmer taps water through a canal (demand).\n",
    "\n",
    "For now, let's assume the return flow remains $0.0$ (`return_factor`).\n",
    "Meaning all the supplied water to fulfill the demand is consumed and does not return back to the river.\n",
    "The user demand node interpolates the demand values. Thus the following code needs to be implemented:"
   ]
  },
  {
   "cell_type": "code",
   "execution_count": null,
   "metadata": {},
   "outputs": [],
   "source": [
    "model.user_demand.add(\n",
    "    Node(6, Point(-1.5, 1.0), name=\"IrrA\"),\n",
    "    [\n",
    "        user_demand.Time(\n",
    "            demand=[0.0, 0.0, 10, 12, 12, 0.0],\n",
    "            return_factor=0,\n",
    "            min_level=0,\n",
    "            priority=1,\n",
    "            time=[\n",
    "                starttime,\n",
    "                \"2022-03-31\",\n",
    "                \"2022-04-01\",\n",
    "                \"2022-07-01\",\n",
    "                \"2022-09-30\",\n",
    "                \"2022-10-01\",\n",
    "            ],\n",
    "        )\n",
    "    ],\n",
    ")"
   ]
  },
  {
   "cell_type": "markdown",
   "metadata": {},
   "source": [
    "### Add a TabulatedRatingCurve\n",
    "The second TabulatedRatingCurve node will simulate the rest of the water that is left after diverting a part from the main river to the farm field.\n",
    "The rest of the water will flow naturally towards the confluence:"
   ]
  },
  {
   "cell_type": "code",
   "execution_count": null,
   "metadata": {},
   "outputs": [],
   "source": [
    "model.tabulated_rating_curve.add(\n",
    "    Node(7, Point(-1.125, -0.75), name=\"MainDiv\"),\n",
    "    [\n",
    "        tabulated_rating_curve.Static(\n",
    "            level=[0.0, 1.5, 5],\n",
    "            flow_rate=[0.0, 45, 200],\n",
    "        )\n",
    "    ],\n",
    ")"
   ]
  },
  {
   "cell_type": "markdown",
   "metadata": {},
   "source": [
    "It is up to the user to renumber the IDs of the nodes.\n",
    "Applying the ID number based on the order of the nodes from up- to downstream keeps it more organized, but not necessary.\n",
    "\n",
    "### Adjust the Terminal node ID and edges\n",
    "Adjust the Terminal node ID.\n",
    "Since we added more nodes we have more edges. Add and adjust the edges:"
   ]
  },
  {
   "cell_type": "code",
   "execution_count": null,
   "metadata": {},
   "outputs": [],
   "source": [
    "model.terminal.add(Node(8, Point(-1.5, -3.0), name=\"Terminal\"))\n",
    "\n",
    "model.edge.add(model.flow_boundary[1], model.basin[3])\n",
    "model.edge.add(model.flow_boundary[2], model.basin[4])\n",
    "model.edge.add(model.basin[3], model.user_demand[6])\n",
    "model.edge.add(model.user_demand[6], model.basin[4])\n",
    "model.edge.add(model.basin[3], model.tabulated_rating_curve[7])\n",
    "model.edge.add(model.tabulated_rating_curve[7], model.basin[4])\n",
    "model.edge.add(model.basin[4], model.tabulated_rating_curve[5])\n",
    "model.edge.add(model.tabulated_rating_curve[5], model.terminal[8])"
   ]
  },
  {
   "cell_type": "markdown",
   "metadata": {},
   "source": [
    "### Plot model and run\n",
    "Plot the schematization and run the model.\n",
    "This time the new outputs should be written in a new folder called `Crystal_1.2`:"
   ]
  },
  {
   "cell_type": "code",
   "execution_count": null,
   "metadata": {},
   "outputs": [],
   "source": [
    "model.plot()\n",
    "\n",
    "toml_path = model_dir / \"Crystal_1.2/ribasim.toml\"\n",
    "model.write(toml_path)\n",
    "cli_path = base_dir / \"ribasim_windows/ribasim.exe\"\n",
    "\n",
    "subprocess.run([cli_path, toml_path], check=True)"
   ]
  },
  {
   "cell_type": "markdown",
   "metadata": {},
   "source": [
    "The schematization should look like @fig-cs12.\n",
    "\n",
    "![Schematization of the Crystal basin with irrigation](https://s3.deltares.nl/ribasim/doc-image/quickstart/Schematization-of-the-Crystal-basin-with-irrigation.png){fig-align=\"left\" #fig-cs12}\n",
    "\n",
    "### Name the edges and basins\n",
    "The names of each nodes are defined and saved in the geopackage.\n",
    "However, in the dataframe this needs to be added by creating a dictionary and map it within the dataframe."
   ]
  },
  {
   "cell_type": "code",
   "execution_count": null,
   "metadata": {},
   "outputs": [],
   "source": [
    "# Dictionary mapping node_ids to names\n",
    "edge_names = {\n",
    "    (1, 3): \"Main\",\n",
    "    (2, 4): \"Minor\",\n",
    "    (3, 6): \"IrrA Demand\",\n",
    "    (6, 4): \"IrrA Drain\",\n",
    "    (3, 7): \"Div2Main\",\n",
    "    (7, 4): \"Main2Conf\",\n",
    "    (4, 5): \"Conf2TRC\",\n",
    "    (5, 8): \"TRC2Term\",\n",
    "}\n",
    "\n",
    "# Dictionary mapping basins (node_ids) to names\n",
    "node_names = {\n",
    "    3: \"Div\",\n",
    "    4: \"Conf\",\n",
    "}"
   ]
  },
  {
   "cell_type": "markdown",
   "metadata": {},
   "source": [
    "### Plot and compare the basin results\n",
    "Plot the simulated levels and storages at the diverted section (basin 3) and at the confluence (basin 4)."
   ]
  },
  {
   "cell_type": "code",
   "execution_count": null,
   "metadata": {},
   "outputs": [],
   "source": [
    "df_basin_div = df_basin_wide.xs(\"Div\", axis=1, level=1, drop_level=False)\n",
    "df_basin_conf = df_basin_wide.xs(\"Conf\", axis=1, level=1, drop_level=False)\n",
    "\n",
    "\n",
    "def plot_basin_data(\n",
    "    ax, ax_twin, df_basin, level_color=\"b\", storage_color=\"r\", title=\"Basin\"\n",
    "):\n",
    "    # Plot level data\n",
    "    for idx, column in enumerate(df_basin[\"level\"].columns):\n",
    "        ax.plot(\n",
    "            df_basin.index,\n",
    "            df_basin[\"level\"][column],\n",
    "            linestyle=\"-\",\n",
    "            color=level_color,\n",
    "            label=f\"Level - {column}\",\n",
    "        )\n",
    "\n",
    "    # Plot storage data\n",
    "    for idx, column in enumerate(df_basin[\"storage\"].columns):\n",
    "        ax_twin.plot(\n",
    "            df_basin.index,\n",
    "            df_basin[\"storage\"][column],\n",
    "            linestyle=\"--\",\n",
    "            color=storage_color,\n",
    "            label=f\"Storage - {column}\",\n",
    "        )\n",
    "\n",
    "    ax.set_ylabel(\"Level [m]\", color=level_color)\n",
    "    ax_twin.set_ylabel(\"Storage [m³]\", color=storage_color)\n",
    "\n",
    "    ax.tick_params(axis=\"y\", labelcolor=level_color)\n",
    "    ax_twin.tick_params(axis=\"y\", labelcolor=storage_color)\n",
    "\n",
    "    ax.set_title(title)\n",
    "\n",
    "    # Combine legends from both axes\n",
    "    lines, labels = ax.get_legend_handles_labels()\n",
    "    lines_twin, labels_twin = ax_twin.get_legend_handles_labels()\n",
    "    ax.legend(lines + lines_twin, labels + labels_twin, loc=\"upper left\")\n",
    "\n",
    "\n",
    "# Create subplots\n",
    "fig, (ax1, ax3) = plt.subplots(2, 1, figsize=(12, 12), sharex=True)\n",
    "\n",
    "# Plot Div basin data\n",
    "ax2 = ax1.twinx()  # Secondary y-axis for storage\n",
    "plot_basin_data(ax1, ax2, df_basin_div, title=\"Div Basin Level and Storage over Time\")\n",
    "\n",
    "# Plot Conf basin data\n",
    "ax4 = ax3.twinx()  # Secondary y-axis for storage\n",
    "plot_basin_data(ax3, ax4, df_basin_conf, title=\"Conf Basin Level and Storage over Time\")\n",
    "\n",
    "# Common X label\n",
    "ax3.set_xlabel(\"Time\")\n",
    "fig.tight_layout()  # Adjust layout to fit labels\n",
    "plt.show()"
   ]
  },
  {
   "cell_type": "markdown",
   "metadata": {},
   "source": [
    "@fig-sim3 illustrates the water levels and storage capacities for each basin.\n",
    "At the diverted section, where the profile is narrower than at the confluence, we anticipate lower storage and water levels compared to the confluence section.\n",
    "\n",
    "When compared to the natural flow conditions, where no water is abstracted for irrigation (See Crystal 1.1), there is a noticeable decrease in both storage and water levels at the confluence downstream.\n",
    "This reduction is attributed to the irrigation demand upstream with no return flow, which decreases the amount of available water in the main river, resulting in lower water levels at the confluence.\n",
    "\n",
    "![Simulated basin levels and storages](https://s3.deltares.nl/ribasim/doc-image/quickstart/Simulated-basin-levels-and-storages.png){fig-align=\"left\" #fig-sim3}\n",
    "\n",
    "### Plot and compare the flow results\n",
    "Plot the flow results in an interactive plotting tool."
   ]
  },
  {
   "cell_type": "code",
   "execution_count": null,
   "metadata": {},
   "outputs": [],
   "source": [
    "df_flow = pd.read_feather(model_dir / \"Crystal_1.2/results/flow.arrow\")\n",
    "df_flow[\"edge\"] = list(zip(df_flow.from_node_id, df_flow.to_node_id))\n",
    "df_flow[\"name\"] = df_flow[\"edge\"].map(edge_names)\n",
    "\n",
    "# Plot the flow data, interactive plot with Plotly\n",
    "pivot_flow = df_flow.pivot_table(\n",
    "    index=\"time\", columns=\"name\", values=\"flow_rate\"\n",
    ").reset_index()\n",
    "fig = px.line(\n",
    "    pivot_flow, x=\"time\", y=pivot_flow.columns[1:], title=\"Flow Over Time [m3/s]\"\n",
    ")\n",
    "\n",
    "fig.update_layout(legend_title_text=\"Edge\")\n",
    "fig.write_html(model_dir / \"Crystal_1.2/plot_edges.html\")\n",
    "fig.show()"
   ]
  },
  {
   "cell_type": "markdown",
   "metadata": {},
   "source": [
    "The plot will be saved as an HTML file, which can be viewed by dragging the file into an internet browser (@fig-sim4).\n",
    "\n",
    "![Simulated flows of each edge](https://s3.deltares.nl/ribasim/doc-image/quickstart/Simulated-flows-of-each-edge.png){fig-align=\"left\" #fig-sim4}\n",
    "\n",
    "When selecting only the flow demanded by the User Demand node, or in other words the supply for irrigation increases at times when it is required (@fig-sim5) and the return flow remains zero, as the assumption defined before was that there is no drain.\n",
    "\n",
    "![Supplied irrigation and return flow](https://s3.deltares.nl/ribasim/doc-image/quickstart/Supplied-irrigation-and-return-flow.png){fig-align=\"left\" #fig-sim5}\n",
    "\n",
    "@fig-sim6 shows the flow to the ocean (Terminal).\n",
    "Compared to Crystal 1.1 the flow has decreased during the irrigated period.\n",
    "Indicating the impact of irrigation without any drain.\n",
    "\n",
    "![Simulated flow to Terminal](https://s3.deltares.nl/ribasim/doc-image/quickstart/Simulated-flow-to-Terminal.png){fig-align=\"left\" #fig-sim6}"
   ]
  },
  {
   "cell_type": "markdown",
   "metadata": {},
   "source": [
    "# Reservoirs and Public Water Supply\n",
    "Due to the increase of population and climate change Crystal city has implemented a reservoir upstream to store water for domestic use (See @fig-reservoir).\n",
    "The reservoir is to help ensure a reliable supply during dry periods.\n",
    "In this module, the user will update the model to incorporate the reservoir's impact on the whole Crystal Basin.\n",
    "\n",
    "![Crystal basin with demands and a reservoir](https://s3.deltares.nl/ribasim/doc-image/quickstart/Crystal-basin-with-demands-and-a-reservoir.png){fig-align=\"left\" #fig-reservoir}\n",
    "\n",
    "## Reservoir\n",
    "### Add a Basin\n",
    "This time Basin #3 will function as a reservoir instead of a diversion, meaning it's storage and levels will play an important role for the users (the city and the farmer).\n",
    "The reservoir has a max. area of $32.3 \\text{ km}^2$ and a max. depth of $7 \\text{ m}$.\n",
    "The profile of Basin #3 should change to:"
   ]
  },
  {
   "cell_type": "code",
   "execution_count": null,
   "metadata": {},
   "outputs": [],
   "source": [
    "model.basin.add(\n",
    "    Node(3, Point(-0.75, -0.5), name=\"Rsv\"),\n",
    "    [\n",
    "        basin.Profile(area=[20000000, 32300000], level=[0, 7]),\n",
    "        basin.State(level=[3.5]),\n",
    "        basin.Time(time=[starttime, endtime]),\n",
    "    ],\n",
    ")"
   ]
  },
  {
   "cell_type": "markdown",
   "metadata": {},
   "source": [
    "### Adjust the code\n",
    "Adjust the naming of the Basin in the dictionary mapping and the saving file should be `Crystal_2.1` instead of `*_1.2`."
   ]
  },
  {
   "cell_type": "code",
   "execution_count": null,
   "metadata": {},
   "outputs": [],
   "source": [
    "toml_path = model_dir / \"Crystal_2.1/ribasim.toml\"\n",
    "model.write(toml_path)\n",
    "cli_path = base_dir / \"ribasim_windows/ribasim.exe\"\n",
    "\n",
    "# Dictionary mapping node_ids to names\n",
    "edge_names = {\n",
    "    (1, 3): \"Main\",\n",
    "    (2, 4): \"Minor\",\n",
    "    (3, 6): \"IrrA Demand\",\n",
    "    (6, 4): \"IrrA Drain\",\n",
    "    (3, 7): \"Rsv2Main\",\n",
    "    (7, 4): \"Main2Conf\",\n",
    "    (4, 5): \"Conf2TRC\",\n",
    "    (5, 8): \"TRC2Term\",\n",
    "}\n",
    "\n",
    "# Dictionary mapping basins (node_ids) to names\n",
    "node_names = {\n",
    "    3: \"Rsv\",\n",
    "    4: \"Conf\",\n",
    "}\n",
    "\n",
    "df_basin = pd.read_feather(model_dir / \"Crystal_2.1/results/basin.arrow\")\n",
    "\n",
    "# Create pivot tables and plot for basin data\n",
    "df_basin_rsv = df_basin_wide.xs(\"Rsv\", axis=1, level=1, drop_level=False)\n",
    "df_basin_conf = df_basin_wide.xs(\"Conf\", axis=1, level=1, drop_level=False)\n",
    "\n",
    "# Plot Rsv basin data\n",
    "ax2 = ax1.twinx()  # Secondary y-axis for storage\n",
    "plot_basin_data(ax1, ax2, df_basin_rsv, title=\"Reservoir Level and Storage Over Time\")"
   ]
  },
  {
   "cell_type": "code",
   "execution_count": null,
   "metadata": {},
   "outputs": [],
   "source": [
    "# Sample data loading and preparation\n",
    "df_flow = pd.read_feather(model_dir / \"Crystal_2.1/results/flow.arrow\")\n",
    "df_flow[\"edge\"] = list(zip(df_flow.from_node_id, df_flow.to_node_id))\n",
    "df_flow[\"name\"] = df_flow[\"edge\"].map(edge_names)\n",
    "\n",
    "# Plot the flow data, interactive plot with Plotly\n",
    "pivot_flow = df_flow.pivot_table(\n",
    "    index=\"time\", columns=\"name\", values=\"flow_rate\"\n",
    ").reset_index()\n",
    "fig = px.line(\n",
    "    pivot_flow, x=\"time\", y=pivot_flow.columns[1:], title=\"Flow Over Time [m3/s]\"\n",
    ")\n",
    "\n",
    "fig.update_layout(legend_title_text=\"Edge\")\n",
    "fig.write_html(model_dir / \"Crystal_2.1/plot_edges.html\")\n",
    "fig.show()"
   ]
  },
  {
   "cell_type": "markdown",
   "metadata": {},
   "source": [
    "### Plotting results\n",
    "@fig-sim7 illustrates the new storage and water level at the reservoir.\n",
    "As expected, after increasing the profile of basin 3 to mimic the reservoir, its storage capacity increased as well.\n",
    "\n",
    "![Simulated basin storages and levels](https://s3.deltares.nl/ribasim/doc-image/quickstart/Simulated-basin-storages-and-levels.png){fig-align=\"left\" #fig-sim7}\n",
    "\n",
    "## Public Water Supply\n",
    "\n",
    "### Rename the saving files\n",
    "Rename the files to `Crystal_2.2`\n",
    "\n",
    "### Add a demand node\n",
    "$50.000$ people live in Crystal City.\n",
    "To represents the total flow rate or abstraction rate required to meet the water demand of $50.000$ people, another demand node needs to be added assuming a return flow of $60%$."
   ]
  },
  {
   "cell_type": "code",
   "execution_count": null,
   "metadata": {},
   "outputs": [],
   "source": [
    "model.user_demand.add(\n",
    "    Node(9, Point(0.0, -0.25), name=\"PWS\"),\n",
    "    [\n",
    "        user_demand.Time(\n",
    "            # Total demand in m³/s\n",
    "            demand=[\n",
    "                0.07,\n",
    "                0.08,\n",
    "                0.09,\n",
    "                0.10,\n",
    "                0.12,\n",
    "                0.14,\n",
    "                0.15,\n",
    "                0.14,\n",
    "                0.12,\n",
    "                0.10,\n",
    "                0.09,\n",
    "                0.08,\n",
    "            ],\n",
    "            return_factor=0.6,\n",
    "            min_level=0,\n",
    "            priority=1,\n",
    "            time=[\n",
    "                starttime,\n",
    "                \"2022-02-01\",\n",
    "                \"2022-03-01\",\n",
    "                \"2022-04-01\",\n",
    "                \"2022-05-01\",\n",
    "                \"2022-06-01\",\n",
    "                \"2022-07-01\",\n",
    "                \"2022-08-01\",\n",
    "                \"2022-09-01\",\n",
    "                \"2022-10-01\",\n",
    "                \"2022-11-01\",\n",
    "                \"2022-12-01\",\n",
    "            ],\n",
    "        )\n",
    "    ],\n",
    ")"
   ]
  },
  {
   "cell_type": "markdown",
   "metadata": {},
   "source": [
    "### Add the edges\n",
    "The connection between the reservoir and the demand node needs to be defined:"
   ]
  },
  {
   "cell_type": "code",
   "execution_count": null,
   "metadata": {},
   "outputs": [],
   "source": [
    "model.edge.add(model.flow_boundary[1], model.basin[3])\n",
    "model.edge.add(model.flow_boundary[2], model.basin[4])\n",
    "model.edge.add(model.basin[3], model.user_demand[6])\n",
    "model.edge.add(model.basin[3], model.user_demand[9])\n",
    "model.edge.add(model.user_demand[6], model.basin[4])\n",
    "model.edge.add(model.user_demand[9], model.basin[4])\n",
    "model.edge.add(model.basin[3], model.tabulated_rating_curve[7])\n",
    "model.edge.add(model.tabulated_rating_curve[7], model.basin[4])\n",
    "model.edge.add(model.basin[4], model.tabulated_rating_curve[5])\n",
    "model.edge.add(model.tabulated_rating_curve[5], model.terminal[8])"
   ]
  },
  {
   "cell_type": "markdown",
   "metadata": {},
   "source": [
    "### Adjust the name dictionaries"
   ]
  },
  {
   "cell_type": "code",
   "execution_count": null,
   "metadata": {},
   "outputs": [],
   "source": [
    "# Dictionary mapping node_ids to names\n",
    "edge_names = {\n",
    "    (1, 3): \"Main\",\n",
    "    (2, 4): \"Minor\",\n",
    "    (3, 6): \"IrrA Demand\",\n",
    "    (6, 4): \"IrrA Drain\",\n",
    "    (3, 9): \"PWS Demand\",\n",
    "    (9, 4): \"PWS Return\",\n",
    "    (3, 7): \"Rsv2Main\",\n",
    "    (7, 4): \"Main2Conf\",\n",
    "    (4, 5): \"Conf2TRC\",\n",
    "    (5, 8): \"TRC2Term\",\n",
    "}"
   ]
  },
  {
   "cell_type": "markdown",
   "metadata": {},
   "source": [
    "### Check the simulated demands\n",
    "@fig-sim8 shows the flow to (PWS Demand) and out (PWS Return) of the PWS node.\n",
    "@fig-sim9 shows the downstream flow to the ocean.\n",
    "The impact is clear.\n",
    "Due to the demands upstream (irrigation and public water supply) an expected decrease of discharge is shown downstream.\n",
    "\n",
    "![Simulated flows to and from the city](https://s3.deltares.nl/ribasim/doc-image/quickstart/Simulated-flows-to-and-from-the-city.png){fig-align=\"left\" #fig-sim8}\n",
    "\n",
    "![Simulated basin storages and levels](https://s3.deltares.nl/ribasim/doc-image/quickstart/Simulated-basin-storages-and-levels-reservoir.png){fig-align=\"left\" #fig-sim9}"
   ]
  }
 ],
 "metadata": {
  "kernelspec": {
   "display_name": "Python 3",
   "language": "python",
   "name": "python3"
  },
  "language_info": {
   "codemirror_mode": {
    "name": "ipython",
    "version": 3
   },
   "file_extension": ".py",
   "mimetype": "text/x-python",
   "name": "python",
   "nbconvert_exporter": "python",
   "pygments_lexer": "ipython3",
   "version": "3.12.5"
  }
 },
 "nbformat": 4,
 "nbformat_minor": 4
}
