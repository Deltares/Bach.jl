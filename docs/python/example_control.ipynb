{
 "cells": [
  {
   "attachments": {},
   "cell_type": "markdown",
   "metadata": {},
   "source": [
    "---\n",
    "title: \"Example with control\"\n",
    "---"
   ]
  },
  {
   "cell_type": "code",
   "execution_count": 1,
   "metadata": {},
   "outputs": [],
   "source": [
    "# | include: false\n",
    "import os\n",
    "\n",
    "os.environ[\"USE_PYGEOS\"] = \"0\""
   ]
  },
  {
   "cell_type": "code",
   "execution_count": 2,
   "metadata": {},
   "outputs": [],
   "source": [
    "import geopandas as gpd\n",
    "import numpy as np\n",
    "import pandas as pd\n",
    "\n",
    "import ribasim\n",
    "\n",
    "from pathlib import Path"
   ]
  },
  {
   "attachments": {},
   "cell_type": "markdown",
   "metadata": {},
   "source": [
    "Set up the nodes:"
   ]
  },
  {
   "cell_type": "code",
   "execution_count": 3,
   "metadata": {},
   "outputs": [],
   "source": [
    "xy = np.array(\n",
    "    [\n",
    "        (0.0, 0.0), # 1: Basin\n",
    "        (1.0, 1.0), # 2: Control\n",
    "        (1.0, 0.0), # 3: Pump\n",
    "        (1.0, -1.0), # 4: LinearResistance\n",
    "        (2.0, 0.0) # 5: Basin\n",
    "    ]\n",
    ")\n",
    "node_xy = gpd.points_from_xy(x=xy[:, 0], y=xy[:, 1])\n",
    "\n",
    "node_type = [\n",
    "    \"Basin\",\n",
    "    \"Control\",\n",
    "    \"Pump\",\n",
    "    \"LinearResistance\",\n",
    "    \"Basin\",\n",
    "]\n",
    "\n",
    "# Make sure the feature id starts at 1: explicitly give an index.\n",
    "node = ribasim.Node(\n",
    "    static=gpd.GeoDataFrame(\n",
    "        data={\"type\": node_type},\n",
    "        index=pd.Index(np.arange(len(xy)) + 1, name=\"fid\"),\n",
    "        geometry=node_xy,\n",
    "        crs=\"EPSG:28992\",\n",
    "    )\n",
    ")"
   ]
  },
  {
   "attachments": {},
   "cell_type": "markdown",
   "metadata": {},
   "source": [
    "Setup the edges:"
   ]
  },
  {
   "cell_type": "code",
   "execution_count": 4,
   "metadata": {},
   "outputs": [],
   "source": [
    "from_id = np.array(\n",
    "    [1,1,2,3,4], dtype=np.int64\n",
    ")\n",
    "to_id = np.array(\n",
    "    [3,4,3,5,5], dtype=np.int64\n",
    ")\n",
    "\n",
    "edge_type = [\"flow\",\"flow\",\"control\",\"flow\",\"flow\"]\n",
    "\n",
    "lines = ribasim.utils.geometry_from_connectivity(node, from_id, to_id)\n",
    "edge = ribasim.Edge(\n",
    "    static=gpd.GeoDataFrame(\n",
    "        data={\"from_node_id\": from_id, \"to_node_id\": to_id,\n",
    "              \"edge_type\": edge_type},\n",
    "        geometry=lines,\n",
    "        crs=\"EPSG:28992\",\n",
    "    )\n",
    ")"
   ]
  },
  {
   "attachments": {},
   "cell_type": "markdown",
   "metadata": {},
   "source": [
    "Setup the basins:"
   ]
  },
  {
   "cell_type": "code",
   "execution_count": 5,
   "metadata": {},
   "outputs": [],
   "source": [
    "profile = pd.DataFrame(\n",
    "    data={\n",
    "        \"node_id\": [1,1,5,5],\n",
    "        \"storage\": [0.0, 100.0] * 2,\n",
    "        \"area\": [100.0, 100.0] * 2,\n",
    "        \"level\": [0.0, 1.0] * 2,\n",
    "    }\n",
    ")\n",
    "\n",
    "static = pd.DataFrame(\n",
    "    data={\n",
    "        \"node_id\": [1,5],\n",
    "        \"drainage\": [0.0] * 2,\n",
    "        \"potential_evaporation\": [0.0] * 2,\n",
    "        \"infiltration\": [0.0] * 2,\n",
    "        \"precipitation\": [0.0] * 2,\n",
    "        \"urban_runoff\": [0.0] * 2,\n",
    "    }\n",
    ")\n",
    "\n",
    "state = pd.DataFrame(\n",
    "    data={\n",
    "        \"node_id\": [1,5],\n",
    "        \"storage\": [100.0, 0.0]\n",
    "    }\n",
    ")\n",
    "\n",
    "basin = ribasim.Basin(profile=profile, static=static, state=state)"
   ]
  },
  {
   "attachments": {},
   "cell_type": "markdown",
   "metadata": {},
   "source": [
    "Setup the control:"
   ]
  },
  {
   "cell_type": "code",
   "execution_count": 12,
   "metadata": {},
   "outputs": [],
   "source": [
    "condition = pd.DataFrame(\n",
    "    data={\n",
    "        \"node_id\": [2,2],\n",
    "        \"listen_node_id\": [5,1],\n",
    "        \"variable\": [\"level\",\"level\"],\n",
    "        \"greater_than\": [0.4,0.8],\n",
    "    }\n",
    ")\n",
    "\n",
    "# False, False -> \"Off\" \n",
    "# True,  False -> \"On\"\n",
    "# False, True  -> \"Off\" \n",
    "# True,  True  -> \"On\"\n",
    "\n",
    "# Truth state as subset of the conditions above and in that order\n",
    "\n",
    "logic = pd.DataFrame(\n",
    "    data={\n",
    "        \"node_id\":[2,2,2,2],\n",
    "        \"truth_state\":[\"FF\", \"TF\", \"FT\", \"TT\"],\n",
    "        \"control_state\":[\"off\",\"on\", \"off\", \"on\"],\n",
    "    }\n",
    ")\n",
    "\n",
    "control = ribasim.Control(condition = condition, logic=logic)"
   ]
  },
  {
   "attachments": {},
   "cell_type": "markdown",
   "metadata": {},
   "source": [
    "Setup the pump:"
   ]
  },
  {
   "cell_type": "code",
   "execution_count": 7,
   "metadata": {},
   "outputs": [],
   "source": [
    "pump = ribasim.Pump(\n",
    "    static=pd.DataFrame(\n",
    "        data={\n",
    "            \"node_id\": [3],\n",
    "            \"flow_rate\": [0],\n",
    "        }\n",
    "    ),\n",
    "    control=pd.DataFrame(\n",
    "        data={\n",
    "            \"node_id\": [3,3],\n",
    "            \"control_state\": [\"On\", \"Off\"],\n",
    "            \"flow_rate\": [1e-3,0.0]\n",
    "        }\n",
    "    )\n",
    ")"
   ]
  },
  {
   "attachments": {},
   "cell_type": "markdown",
   "metadata": {},
   "source": [
    "Setup the linear resistance:"
   ]
  },
  {
   "cell_type": "code",
   "execution_count": 8,
   "metadata": {},
   "outputs": [],
   "source": [
    "linear_resistance = ribasim.LinearResistance(\n",
    "    static=pd.DataFrame(\n",
    "        data={\n",
    "            \"node_id\": [4],\n",
    "            \"resistance\": [1e5],\n",
    "        }\n",
    "    )\n",
    ")"
   ]
  },
  {
   "attachments": {},
   "cell_type": "markdown",
   "metadata": {},
   "source": [
    "Setup a model:"
   ]
  },
  {
   "cell_type": "code",
   "execution_count": 9,
   "metadata": {},
   "outputs": [],
   "source": [
    "model = ribasim.Model(\n",
    "    modelname=\"control\",\n",
    "    node=node,\n",
    "    edge=edge,\n",
    "    basin=basin,\n",
    "    linear_resistance=linear_resistance,\n",
    "    pump=pump,\n",
    "    control=control,\n",
    "    starttime=\"2020-01-01 00:00:00\",\n",
    "    endtime=\"2021-01-01 00:00:00\",\n",
    ")"
   ]
  },
  {
   "cell_type": "code",
   "execution_count": 10,
   "metadata": {},
   "outputs": [
    {
     "data": {
      "text/plain": [
       "<Axes: >"
      ]
     },
     "execution_count": 10,
     "metadata": {},
     "output_type": "execute_result"
    },
    {
     "data": {
      "image/png": "[encoded data removed]",
      "text/plain": [
       "<Figure size 640x480 with 1 Axes>"
      ]
     },
     "metadata": {},
     "output_type": "display_data"
    }
   ],
   "source": [
    "model.plot()"
   ]
  },
  {
   "cell_type": "code",
   "execution_count": 11,
   "metadata": {},
   "outputs": [],
   "source": [
    "datadir = Path(\"data\")\n",
    "model.write(datadir / \"control\")"
   ]
  },
  {
   "cell_type": "code",
   "execution_count": 12,
   "metadata": {},
   "outputs": [
    {
     "data": {
      "text/plain": [
       "CompletedProcess(args=['julia', '--project=../../core', '--eval', 'using Ribasim; Ribasim.run(\"data/control/control.toml\")'], returncode=0)"
      ]
     },
     "execution_count": 12,
     "metadata": {},
     "output_type": "execute_result"
    }
   ],
   "source": [
    "# | include: false\n",
    "from subprocess import run\n",
    "\n",
    "run(\n",
    "    [\n",
    "        \"julia\",\n",
    "        \"--project=../../core\",\n",
    "        \"--eval\",\n",
    "        f'using Ribasim; Ribasim.run(\"{datadir.as_posix()}/control/control.toml\")',\n",
    "    ],\n",
    "    check=True,\n",
    ")"
   ]
  },
  {
   "cell_type": "code",
   "execution_count": 13,
   "metadata": {},
   "outputs": [
    {
     "data": {
      "text/plain": [
       "<Axes: xlabel='time'>"
      ]
     },
     "execution_count": 13,
     "metadata": {},
     "output_type": "execute_result"
    },
    {
     "data": {
      "image/png": "[encoded data removed]",
      "text/plain": [
       "<Figure size 640x480 with 1 Axes>"
      ]
     },
     "metadata": {},
     "output_type": "display_data"
    }
   ],
   "source": [
    "df_basin = pd.read_feather(datadir / \"control/output/basin.arrow\")\n",
    "df_basin_wide = df_basin.pivot_table(\n",
    "    index=\"time\", columns=\"node_id\", values=[\"storage\", \"level\"]\n",
    ")\n",
    "df_basin_wide[\"level\"].plot()"
   ]
  },
  {
   "cell_type": "code",
   "execution_count": 24,
   "metadata": {},
   "outputs": [],
   "source": [
    "edges = set()"
   ]
  },
  {
   "cell_type": "code",
   "execution_count": 25,
   "metadata": {},
   "outputs": [],
   "source": [
    "condition = model.control.condition"
   ]
  },
  {
   "cell_type": "code",
   "execution_count": 26,
   "metadata": {},
   "outputs": [],
   "source": [
    "for node_id in condition.node_id.unique():\n",
    "    for listen_node_id in condition.loc[condition.node_id==node_id,\"listen_node_id\"]:\n",
    "        edges.add((node_id-1, listen_node_id-1))"
   ]
  },
  {
   "cell_type": "code",
   "execution_count": 27,
   "metadata": {},
   "outputs": [],
   "source": [
    "start, end = list(zip(*edges))"
   ]
  },
  {
   "cell_type": "code",
   "execution_count": 28,
   "metadata": {},
   "outputs": [],
   "source": [
    "x_start = model.node.static.iloc[list(start)].geometry.x"
   ]
  },
  {
   "cell_type": "code",
   "execution_count": 29,
   "metadata": {},
   "outputs": [
    {
     "data": {
      "text/plain": [
       "(0, 4)"
      ]
     },
     "execution_count": 29,
     "metadata": {},
     "output_type": "execute_result"
    }
   ],
   "source": [
    "end"
   ]
  },
  {
   "cell_type": "code",
   "execution_count": 30,
   "metadata": {},
   "outputs": [],
   "source": [
    "x_end = model.node.static.iloc[list(end)].geometry.x"
   ]
  },
  {
   "cell_type": "code",
   "execution_count": null,
   "metadata": {},
   "outputs": [],
   "source": []
  }
 ],
 "metadata": {
  "kernelspec": {
   "display_name": "Python 3 (ipykernel)",
   "language": "python",
   "name": "python3"
  },
  "language_info": {
   "codemirror_mode": {
    "name": "ipython",
    "version": 3
   },
   "file_extension": ".py",
   "mimetype": "text/x-python",
   "name": "python",
   "nbconvert_exporter": "python",
   "pygments_lexer": "ipython3",
   "version": "3.11.3"
  }
 },
 "nbformat": 4,
 "nbformat_minor": 2
}
