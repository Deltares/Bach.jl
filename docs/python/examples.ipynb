{
 "cells": [
  {
   "cell_type": "raw",
   "metadata": {},
   "source": [
    "---\n",
    "title: \"Examples\"\n",
    "---"
   ]
  },
  {
   "attachments": {},
   "cell_type": "markdown",
   "metadata": {},
   "source": [
    "# Basic model with static forcing\n"
   ]
  },
  {
   "cell_type": "code",
   "execution_count": null,
   "metadata": {},
   "outputs": [],
   "source": [
    "# | include: false\n",
    "import os\n",
    "\n",
    "os.environ[\"USE_PYGEOS\"] = \"0\""
   ]
  },
  {
   "cell_type": "code",
   "execution_count": null,
   "metadata": {},
   "outputs": [],
   "source": [
    "import shutil\n",
    "from pathlib import Path\n",
    "\n",
    "import matplotlib.pyplot as plt\n",
    "import numpy as np\n",
    "import pandas as pd\n",
    "from ribasim import Allocation, Model, Node\n",
    "from ribasim.nodes import (\n",
    "    basin,\n",
    "    discrete_control,\n",
    "    flow_boundary,\n",
    "    fractional_flow,\n",
    "    level_boundary,\n",
    "    level_demand,\n",
    "    linear_resistance,\n",
    "    manning_resistance,\n",
    "    outlet,\n",
    "    pid_control,\n",
    "    pump,\n",
    "    tabulated_rating_curve,\n",
    "    user_demand,\n",
    ")\n",
    "from shapely.geometry import Point"
   ]
  },
  {
   "cell_type": "code",
   "execution_count": null,
   "metadata": {},
   "outputs": [],
   "source": [
    "datadir = Path(\"data\")\n",
    "shutil.rmtree(datadir, ignore_errors=True)"
   ]
  },
  {
   "cell_type": "code",
   "execution_count": null,
   "metadata": {},
   "outputs": [],
   "source": [
    "model = Model(starttime=\"2020-01-01\", endtime=\"2021-01-01\", crs=\"EPSG:4326\")"
   ]
  },
  {
   "attachments": {},
   "cell_type": "markdown",
   "metadata": {},
   "source": [
    "Setup the basins:\n"
   ]
  },
  {
   "cell_type": "code",
   "execution_count": null,
   "metadata": {},
   "outputs": [],
   "source": [
    "time = pd.date_range(model.starttime, model.endtime)\n",
    "day_of_year = time.day_of_year.to_numpy()\n",
    "seconds_per_day = 24 * 60 * 60\n",
    "evaporation = (\n",
    "    (-1.0 * np.cos(day_of_year / 365.0 * 2 * np.pi) + 1.0) * 0.0025 / seconds_per_day\n",
    ")\n",
    "rng = np.random.default_rng(seed=0)\n",
    "precipitation = (\n",
    "    rng.lognormal(mean=-1.0, sigma=1.7, size=time.size) * 0.001 / seconds_per_day\n",
    ")\n",
    "\n",
    "# Convert steady forcing to m/s\n",
    "# 2 mm/d precipitation, 1 mm/d evaporation\n",
    "\n",
    "basin_data = [\n",
    "    basin.Profile(area=[0.01, 1000.0], level=[0.0, 1.0]),\n",
    "    basin.Time(\n",
    "        time=pd.date_range(model.starttime, model.endtime),\n",
    "        drainage=0.0,\n",
    "        potential_evaporation=evaporation,\n",
    "        infiltration=0.0,\n",
    "        precipitation=precipitation,\n",
    "        urban_runoff=0.0,\n",
    "    ),\n",
    "    basin.State(level=[1.4]),\n",
    "]\n",
    "\n",
    "model.basin.add(Node(1, Point(0.0, 0.0)), basin_data)\n",
    "model.basin.add(Node(3, Point(2.0, 0.0)), basin_data)\n",
    "model.basin.add(Node(6, Point(3.0, 2.0)), basin_data)\n",
    "model.basin.add(Node(9, Point(5.0, 0.0)), basin_data)"
   ]
  },
  {
   "attachments": {},
   "cell_type": "markdown",
   "metadata": {},
   "source": [
    "Setup linear resistance:\n"
   ]
  },
  {
   "cell_type": "code",
   "execution_count": null,
   "metadata": {},
   "outputs": [],
   "source": [
    "model.linear_resistance.add(\n",
    "    Node(10, Point(6.0, 0.0)),\n",
    "    [linear_resistance.Static(resistance=[5e3])],\n",
    ")\n",
    "model.linear_resistance.add(\n",
    "    Node(12, Point(2.0, 1.0)),\n",
    "    [linear_resistance.Static(resistance=[3600.0 * 24.0 / 100.0])],\n",
    ")"
   ]
  },
  {
   "attachments": {},
   "cell_type": "markdown",
   "metadata": {},
   "source": [
    "Setup Manning resistance:\n"
   ]
  },
  {
   "cell_type": "code",
   "execution_count": null,
   "metadata": {},
   "outputs": [],
   "source": [
    "model.manning_resistance.add(\n",
    "    Node(2, Point(1.0, 0.0)),\n",
    "    [\n",
    "        manning_resistance.Static(\n",
    "            length=[900], manning_n=[0.04], profile_width=[6.0], profile_slope=[3.0]\n",
    "        )\n",
    "    ],\n",
    ")"
   ]
  },
  {
   "attachments": {},
   "cell_type": "markdown",
   "metadata": {},
   "source": [
    "Set up a rating curve node:\n"
   ]
  },
  {
   "cell_type": "code",
   "execution_count": null,
   "metadata": {},
   "outputs": [],
   "source": [
    "model.tabulated_rating_curve.add(\n",
    "    Node(4, Point(3.0, 0.0)),\n",
    "    [tabulated_rating_curve.Static(level=[0.0, 1.0], flow_rate=[0.0, 10 / 86400])],\n",
    ")"
   ]
  },
  {
   "attachments": {},
   "cell_type": "markdown",
   "metadata": {},
   "source": [
    "Setup fractional flows:\n"
   ]
  },
  {
   "cell_type": "code",
   "execution_count": null,
   "metadata": {},
   "outputs": [],
   "source": [
    "model.fractional_flow.add(\n",
    "    Node(5, Point(3.0, 1.0)), [fractional_flow.Static(fraction=[0.3])]\n",
    ")\n",
    "model.fractional_flow.add(\n",
    "    Node(8, Point(4.0, 0.0)), [fractional_flow.Static(fraction=[0.6])]\n",
    ")\n",
    "model.fractional_flow.add(\n",
    "    Node(13, Point(3.0, -1.0)),\n",
    "    [fractional_flow.Static(fraction=[0.1])],\n",
    ")"
   ]
  },
  {
   "attachments": {},
   "cell_type": "markdown",
   "metadata": {},
   "source": [
    "Setup pump:\n"
   ]
  },
  {
   "cell_type": "code",
   "execution_count": null,
   "metadata": {},
   "outputs": [],
   "source": [
    "model.pump.add(Node(7, Point(4.0, 1.0)), [pump.Static(flow_rate=[0.5 / 3600])])"
   ]
  },
  {
   "attachments": {},
   "cell_type": "markdown",
   "metadata": {},
   "source": [
    "Setup level boundary:\n"
   ]
  },
  {
   "cell_type": "code",
   "execution_count": null,
   "metadata": {},
   "outputs": [],
   "source": [
    "model.level_boundary.add(\n",
    "    Node(11, Point(2.0, 2.0)), [level_boundary.Static(level=[0.5])]\n",
    ")\n",
    "model.level_boundary.add(\n",
    "    Node(17, Point(6.0, 1.0)), [level_boundary.Static(level=[1.5])]\n",
    ")"
   ]
  },
  {
   "attachments": {},
   "cell_type": "markdown",
   "metadata": {},
   "source": [
    "Setup flow boundary:\n"
   ]
  },
  {
   "cell_type": "code",
   "execution_count": null,
   "metadata": {},
   "outputs": [],
   "source": [
    "model.flow_boundary.add(\n",
    "    Node(15, Point(3.0, 3.0)), [flow_boundary.Static(flow_rate=[1e-4])]\n",
    ")\n",
    "model.flow_boundary.add(\n",
    "    Node(16, Point(0.0, 1.0)), [flow_boundary.Static(flow_rate=[1e-4])]\n",
    ")"
   ]
  },
  {
   "attachments": {},
   "cell_type": "markdown",
   "metadata": {},
   "source": [
    "Setup terminal:\n"
   ]
  },
  {
   "cell_type": "code",
   "execution_count": null,
   "metadata": {},
   "outputs": [],
   "source": [
    "model.terminal.add(Node(14, Point(3.0, -2.0)))"
   ]
  },
  {
   "cell_type": "markdown",
   "metadata": {},
   "source": [
    "Setup the edges:\n"
   ]
  },
  {
   "cell_type": "code",
   "execution_count": null,
   "metadata": {},
   "outputs": [],
   "source": [
    "model.edge.add(model.basin[1], model.manning_resistance[2])\n",
    "model.edge.add(model.manning_resistance[2], model.basin[3])\n",
    "model.edge.add(model.basin[3], model.tabulated_rating_curve[4])\n",
    "model.edge.add(model.tabulated_rating_curve[4], model.fractional_flow[5])\n",
    "model.edge.add(model.tabulated_rating_curve[4], model.fractional_flow[8])\n",
    "model.edge.add(model.fractional_flow[5], model.basin[6])\n",
    "model.edge.add(model.basin[6], model.pump[7])\n",
    "model.edge.add(model.fractional_flow[8], model.basin[9])\n",
    "model.edge.add(model.pump[7], model.basin[9])\n",
    "model.edge.add(model.basin[9], model.linear_resistance[10])\n",
    "model.edge.add(model.level_boundary[11], model.linear_resistance[12])\n",
    "model.edge.add(model.linear_resistance[12], model.basin[3])\n",
    "model.edge.add(model.tabulated_rating_curve[4], model.fractional_flow[13])\n",
    "model.edge.add(model.fractional_flow[13], model.terminal[14])\n",
    "model.edge.add(model.flow_boundary[15], model.basin[6])\n",
    "model.edge.add(model.flow_boundary[16], model.basin[1])\n",
    "model.edge.add(model.linear_resistance[10], model.level_boundary[17])"
   ]
  },
  {
   "attachments": {},
   "cell_type": "markdown",
   "metadata": {},
   "source": [
    "Let's take a look at the model:\n"
   ]
  },
  {
   "cell_type": "code",
   "execution_count": null,
   "metadata": {},
   "outputs": [],
   "source": [
    "model.plot()"
   ]
  },
  {
   "attachments": {},
   "cell_type": "markdown",
   "metadata": {},
   "source": [
    "Write the model to a TOML and GeoPackage:\n"
   ]
  },
  {
   "cell_type": "code",
   "execution_count": null,
   "metadata": {},
   "outputs": [],
   "source": [
    "toml_path = datadir / \"basic/ribasim.toml\"\n",
    "model.write(toml_path)"
   ]
  },
  {
   "cell_type": "code",
   "execution_count": null,
   "metadata": {},
   "outputs": [],
   "source": [
    "# | include: false\n",
    "from subprocess import run\n",
    "\n",
    "run(\n",
    "    [\n",
    "        \"julia\",\n",
    "        \"--project=../../core\",\n",
    "        \"--eval\",\n",
    "        f'using Ribasim; Ribasim.main(\"{toml_path.as_posix()}\")',\n",
    "    ],\n",
    "    check=True,\n",
    ")"
   ]
  },
  {
   "attachments": {},
   "cell_type": "markdown",
   "metadata": {},
   "source": [
    "Now run the model. From Python you can run it with:\n",
    "\n",
    "```python\n",
    "import subprocess\n",
    "subprocess.run([cli_path, toml_path], check=True)\n",
    "```\n",
    "\n",
    "Windows users should note that if you put the `ribasim_cli` folder in your Path, `cli_path` needs to have the cmd suffix; `ribasim.cmd`.\n",
    "\n",
    "Or similarly you can from the terminal with:\n",
    "```bash\n",
    "ribasim basic/ribasim.toml\n",
    "```\n",
    "\n",
    "After running the model, read back the results:"
   ]
  },
  {
   "cell_type": "code",
   "execution_count": null,
   "metadata": {},
   "outputs": [],
   "source": [
    "df_basin = pd.read_feather(datadir / \"basic/results/basin.arrow\")\n",
    "df_basin_wide = df_basin.pivot_table(\n",
    "    index=\"time\", columns=\"node_id\", values=[\"storage\", \"level\"]\n",
    ")\n",
    "df_basin_wide[\"level\"].plot()"
   ]
  },
  {
   "cell_type": "code",
   "execution_count": null,
   "metadata": {},
   "outputs": [],
   "source": [
    "df_flow = pd.read_feather(datadir / \"basic/results/flow.arrow\")\n",
    "df_flow[\"edge\"] = list(zip(df_flow.from_node_id, df_flow.to_node_id))\n",
    "df_flow[\"flow_m3d\"] = df_flow.flow_rate * 86400\n",
    "ax = df_flow.pivot_table(index=\"time\", columns=\"edge\", values=\"flow_m3d\").plot()\n",
    "ax.legend(bbox_to_anchor=(1.3, 1), title=\"Edge\")"
   ]
  },
  {
   "attachments": {},
   "cell_type": "markdown",
   "metadata": {},
   "source": [
    "# Model with discrete control\n",
    "\n",
    "The model constructed below consists of a single basin which slowly drains trough a `TabulatedRatingCurve`, but is held within a range by two connected pumps. These two pumps together behave like a reversible pump. When pumping can be done in only one direction, and the other direction is only possible under gravity, use an Outlet for that direction.\n"
   ]
  },
  {
   "attachments": {},
   "cell_type": "markdown",
   "metadata": {},
   "source": [
    "Setup the basins:\n"
   ]
  },
  {
   "cell_type": "code",
   "execution_count": null,
   "metadata": {},
   "outputs": [],
   "source": [
    "model = Model(starttime=\"2020-01-01\", endtime=\"2021-01-01\", crs=\"EPSG:4326\")"
   ]
  },
  {
   "cell_type": "code",
   "execution_count": null,
   "metadata": {},
   "outputs": [],
   "source": [
    "model.basin.add(\n",
    "    Node(1, Point(0.0, 0.0)),\n",
    "    [\n",
    "        basin.Profile(area=[1000.0, 1000.0], level=[0.0, 1.0]),\n",
    "        basin.State(level=[20.0]),\n",
    "        basin.Time(time=[\"2020-01-01\", \"2020-07-01\"], precipitation=[0.0, 3e-6]),\n",
    "    ],\n",
    ")"
   ]
  },
  {
   "attachments": {},
   "cell_type": "markdown",
   "metadata": {},
   "source": [
    "Setup the discrete control:\n"
   ]
  },
  {
   "cell_type": "code",
   "execution_count": null,
   "metadata": {},
   "outputs": [],
   "source": [
    "model.discrete_control.add(\n",
    "    Node(7, Point(1.0, 0.0)),\n",
    "    [\n",
    "        discrete_control.Variable(\n",
    "            compound_variable_id=1,\n",
    "            listen_node_id=1,\n",
    "            listen_node_type=[\"Basin\"],\n",
    "            variable=[\"level\"],\n",
    "        ),\n",
    "        discrete_control.Condition(\n",
    "            compound_variable_id=1,\n",
    "            # min, max\n",
    "            greater_than=[5.0, 15.0],\n",
    "        ),\n",
    "        discrete_control.Logic(\n",
    "            truth_state=[\"FF\", \"TF\", \"TT\"],\n",
    "            control_state=[\"in\", \"none\", \"out\"],\n",
    "        ),\n",
    "    ],\n",
    ")"
   ]
  },
  {
   "cell_type": "markdown",
   "metadata": {},
   "source": [
    "The above control logic can be summarized as follows:\n",
    "\n",
    "- If the level is above the maximum, activate the control state \"out\";\n",
    "- If the level is below the minimum, active the control state \"in\";\n",
    "- Otherwise activate the control state \"none\".\n"
   ]
  },
  {
   "attachments": {},
   "cell_type": "markdown",
   "metadata": {},
   "source": [
    "Setup the pump:\n"
   ]
  },
  {
   "cell_type": "code",
   "execution_count": null,
   "metadata": {},
   "outputs": [],
   "source": [
    "model.pump.add(\n",
    "    Node(2, Point(1.0, 1.0)),\n",
    "    [pump.Static(control_state=[\"none\", \"in\", \"out\"], flow_rate=[0.0, 2e-3, 0.0])],\n",
    ")\n",
    "model.pump.add(\n",
    "    Node(3, Point(1.0, -1.0)),\n",
    "    [pump.Static(control_state=[\"none\", \"in\", \"out\"], flow_rate=[0.0, 0.0, 2e-3])],\n",
    ")"
   ]
  },
  {
   "cell_type": "markdown",
   "metadata": {},
   "source": [
    "The pump data defines the following:\n",
    "\n",
    "| Control state | Pump #2 flow rate (m/s) | Pump #3 flow rate (m/s) |\n",
    "| ------------- | ----------------------- | ----------------------- |\n",
    "| \"none\"        | 0.0                     | 0.0                     |\n",
    "| \"in\"          | 2e-3                    | 0.0                     |\n",
    "| \"out\"         | 0.0                     | 2e-3                    |\n"
   ]
  },
  {
   "cell_type": "markdown",
   "metadata": {},
   "source": [
    "Setup the level boundary:\n"
   ]
  },
  {
   "cell_type": "code",
   "execution_count": null,
   "metadata": {},
   "outputs": [],
   "source": [
    "model.level_boundary.add(\n",
    "    Node(4, Point(2.0, 0.0)), [level_boundary.Static(level=[10.0])]\n",
    ")"
   ]
  },
  {
   "cell_type": "markdown",
   "metadata": {},
   "source": [
    "Setup the rating curve:\n"
   ]
  },
  {
   "cell_type": "code",
   "execution_count": null,
   "metadata": {},
   "outputs": [],
   "source": [
    "model.tabulated_rating_curve.add(\n",
    "    Node(5, Point(-1.0, 0.0)),\n",
    "    [tabulated_rating_curve.Static(level=[2.0, 15.0], flow_rate=[0.0, 2e-3])],\n",
    ")"
   ]
  },
  {
   "attachments": {},
   "cell_type": "markdown",
   "metadata": {},
   "source": [
    "Setup the terminal:\n"
   ]
  },
  {
   "cell_type": "code",
   "execution_count": null,
   "metadata": {},
   "outputs": [],
   "source": [
    "model.terminal.add(Node(6, Point(-2.0, 0.0)))"
   ]
  },
  {
   "attachments": {},
   "cell_type": "markdown",
   "metadata": {},
   "source": [
    "Setup edges:\n"
   ]
  },
  {
   "cell_type": "code",
   "execution_count": null,
   "metadata": {},
   "outputs": [],
   "source": [
    "model.edge.add(model.basin[1], model.pump[3])\n",
    "model.edge.add(model.pump[3], model.level_boundary[4])\n",
    "model.edge.add(model.level_boundary[4], model.pump[2])\n",
    "model.edge.add(model.pump[2], model.basin[1])\n",
    "model.edge.add(model.basin[1], model.tabulated_rating_curve[5])\n",
    "model.edge.add(model.tabulated_rating_curve[5], model.terminal[6])\n",
    "model.edge.add(model.discrete_control[7], model.pump[2])\n",
    "model.edge.add(model.discrete_control[7], model.pump[3])"
   ]
  },
  {
   "attachments": {},
   "cell_type": "markdown",
   "metadata": {},
   "source": [
    "Let’s take a look at the model:\n"
   ]
  },
  {
   "cell_type": "code",
   "execution_count": null,
   "metadata": {},
   "outputs": [],
   "source": [
    "model.plot()"
   ]
  },
  {
   "attachments": {},
   "cell_type": "markdown",
   "metadata": {},
   "source": [
    "Listen edges are plotted with a dashed line since they are not present in the \"Edge / static\" schema but only in the \"Control / condition\" schema.\n"
   ]
  },
  {
   "cell_type": "code",
   "execution_count": null,
   "metadata": {},
   "outputs": [],
   "source": [
    "datadir = Path(\"data\")\n",
    "model.write(datadir / \"level_range/ribasim.toml\")"
   ]
  },
  {
   "cell_type": "code",
   "execution_count": null,
   "metadata": {},
   "outputs": [],
   "source": [
    "# | include: false\n",
    "from subprocess import run\n",
    "\n",
    "run(\n",
    "    [\n",
    "        \"julia\",\n",
    "        \"--project=../../core\",\n",
    "        \"--eval\",\n",
    "        f'using Ribasim; Ribasim.main(\"{datadir.as_posix()}/level_range/ribasim.toml\")',\n",
    "    ],\n",
    "    check=True,\n",
    ")"
   ]
  },
  {
   "cell_type": "markdown",
   "metadata": {},
   "source": [
    "Now run the model with `ribasim level_range/ribasim.toml`.\n",
    "After running the model, read back the results:\n"
   ]
  },
  {
   "cell_type": "code",
   "execution_count": null,
   "metadata": {},
   "outputs": [],
   "source": [
    "df_basin = pd.read_feather(datadir / \"level_range/results/basin.arrow\")\n",
    "df_basin_wide = df_basin.pivot_table(\n",
    "    index=\"time\", columns=\"node_id\", values=[\"storage\", \"level\"]\n",
    ")\n",
    "\n",
    "ax = df_basin_wide[\"level\"].plot()\n",
    "\n",
    "greater_than = model.discrete_control.condition.df.greater_than\n",
    "\n",
    "ax.hlines(\n",
    "    greater_than,\n",
    "    df_basin.time[0],\n",
    "    df_basin.time.max(),\n",
    "    lw=1,\n",
    "    ls=\"--\",\n",
    "    color=\"k\",\n",
    ")\n",
    "\n",
    "ax.set_yticks(greater_than, [\"min\", \"max\"])\n",
    "ax.set_ylabel(\"level\")\n",
    "plt.show()"
   ]
  },
  {
   "cell_type": "markdown",
   "metadata": {},
   "source": [
    "We see that in January the level of the basin is too high and thus water is pumped out until the maximum level of the desired range is reached. Then until May water flows out of the basin freely through the tabulated rating curve until the minimum level is reached. From \n",
    "this point until the start of July water is pumped into the basin in short bursts to stay within the desired range. At the start of July rain starts falling on the basin, which causes the basin level to rise until the maximum level. From this point onward water is pumped out of the basin in short bursts to stay within the desired range."
   ]
  },
  {
   "cell_type": "markdown",
   "metadata": {},
   "source": [
    "# Model with PID control\n"
   ]
  },
  {
   "cell_type": "markdown",
   "metadata": {},
   "source": [
    "Set up the model:\n"
   ]
  },
  {
   "cell_type": "code",
   "execution_count": null,
   "metadata": {},
   "outputs": [],
   "source": [
    "model = Model(starttime=\"2020-01-01\", endtime=\"2020-12-01\", crs=\"EPSG:4326\")"
   ]
  },
  {
   "cell_type": "markdown",
   "metadata": {},
   "source": [
    "Setup the basins:\n"
   ]
  },
  {
   "cell_type": "code",
   "execution_count": null,
   "metadata": {},
   "outputs": [],
   "source": [
    "model.basin.add(\n",
    "    Node(2, Point(1.0, 0.0)),\n",
    "    [basin.Profile(area=[1000.0, 1000.0], level=[0.0, 1.0]), basin.State(level=[6.0])],\n",
    ")"
   ]
  },
  {
   "cell_type": "markdown",
   "metadata": {},
   "source": [
    "Setup the pump:\n"
   ]
  },
  {
   "cell_type": "code",
   "execution_count": null,
   "metadata": {},
   "outputs": [],
   "source": [
    "model.pump.add(\n",
    "    Node(3, Point(2.0, 0.5)),\n",
    "    [pump.Static(flow_rate=[0.0])],  # Will be overwritten by PID controller\n",
    ")"
   ]
  },
  {
   "cell_type": "markdown",
   "metadata": {},
   "source": [
    "Setup the outlet:\n"
   ]
  },
  {
   "cell_type": "code",
   "execution_count": null,
   "metadata": {},
   "outputs": [],
   "source": [
    "model.outlet.add(\n",
    "    Node(6, Point(2.0, -0.5)),\n",
    "    [outlet.Static(flow_rate=[0.0])],  # Will be overwritten by PID controller\n",
    ")"
   ]
  },
  {
   "cell_type": "markdown",
   "metadata": {},
   "source": [
    "Setup flow boundary:\n"
   ]
  },
  {
   "cell_type": "code",
   "execution_count": null,
   "metadata": {},
   "outputs": [],
   "source": [
    "model.flow_boundary.add(\n",
    "    Node(1, Point(0.0, 0.0)),\n",
    "    [flow_boundary.Static(flow_rate=[1e-3])],\n",
    ")"
   ]
  },
  {
   "cell_type": "markdown",
   "metadata": {},
   "source": [
    "Setup level boundary:\n"
   ]
  },
  {
   "cell_type": "code",
   "execution_count": null,
   "metadata": {},
   "outputs": [],
   "source": [
    "model.level_boundary.add(\n",
    "    Node(4, Point(3.0, 0.0)),\n",
    "    [level_boundary.Static(level=[5.0])],\n",
    ")"
   ]
  },
  {
   "cell_type": "markdown",
   "metadata": {},
   "source": [
    "Setup PID control:\n"
   ]
  },
  {
   "cell_type": "code",
   "execution_count": null,
   "metadata": {},
   "outputs": [],
   "source": [
    "for node, proportional, integral in [\n",
    "    (Node(5, Point(1.5, 1.0)), -1e-3, -1e-7),\n",
    "    (Node(7, Point(1.5, -1.0)), 1e-3, 1e-7),\n",
    "]:\n",
    "    pid_control_data = [\n",
    "        pid_control.Time(\n",
    "            time=[\n",
    "                \"2020-01-01\",\n",
    "                \"2020-05-01\",\n",
    "                \"2020-07-01\",\n",
    "                \"2020-12-01\",\n",
    "            ],\n",
    "            listen_node_id=2,\n",
    "            listen_node_type=\"Basin\",\n",
    "            target=[5.0, 5.0, 7.5, 7.5],\n",
    "            proportional=proportional,\n",
    "            integral=integral,\n",
    "            derivative=0.0,\n",
    "        )\n",
    "    ]\n",
    "    model.pid_control.add(node, pid_control_data)"
   ]
  },
  {
   "cell_type": "markdown",
   "metadata": {},
   "source": [
    "Note that the coefficients for the pump and the outlet are equal in magnitude but opposite in sign. This way the pump and the outlet equally work towards the same goal, while having opposite effects on the controlled basin due to their connectivity to this basin.\n"
   ]
  },
  {
   "cell_type": "markdown",
   "metadata": {},
   "source": [
    "Setup the edges:\n"
   ]
  },
  {
   "cell_type": "code",
   "execution_count": null,
   "metadata": {},
   "outputs": [],
   "source": [
    "model.edge.add(model.flow_boundary[1], model.basin[2])\n",
    "model.edge.add(model.basin[2], model.pump[3])\n",
    "model.edge.add(model.pump[3], model.level_boundary[4])\n",
    "model.edge.add(model.level_boundary[4], model.outlet[6])\n",
    "model.edge.add(model.outlet[6], model.basin[2])\n",
    "model.edge.add(model.pid_control[5], model.pump[3])\n",
    "model.edge.add(model.pid_control[7], model.outlet[6])"
   ]
  },
  {
   "cell_type": "markdown",
   "metadata": {},
   "source": [
    "Let's take a look at the model:\n"
   ]
  },
  {
   "cell_type": "code",
   "execution_count": null,
   "metadata": {},
   "outputs": [],
   "source": [
    "model.plot()"
   ]
  },
  {
   "cell_type": "markdown",
   "metadata": {},
   "source": [
    "Write the model to a TOML and GeoPackage:\n"
   ]
  },
  {
   "cell_type": "code",
   "execution_count": null,
   "metadata": {},
   "outputs": [],
   "source": [
    "datadir = Path(\"data\")\n",
    "model.write(datadir / \"pid_control/ribasim.toml\")"
   ]
  },
  {
   "cell_type": "code",
   "execution_count": null,
   "metadata": {},
   "outputs": [],
   "source": [
    "# | include: false\n",
    "from subprocess import run\n",
    "\n",
    "run(\n",
    "    [\n",
    "        \"julia\",\n",
    "        \"--project=../../core\",\n",
    "        \"--eval\",\n",
    "        f'using Ribasim; Ribasim.main(\"{datadir.as_posix()}/pid_control/ribasim.toml\")',\n",
    "    ],\n",
    "    check=True,\n",
    ")"
   ]
  },
  {
   "cell_type": "markdown",
   "metadata": {},
   "source": [
    "Now run the model with `ribasim pid_control/ribasim.toml`.\n",
    "After running the model, read back the results:\n"
   ]
  },
  {
   "cell_type": "code",
   "execution_count": null,
   "metadata": {},
   "outputs": [],
   "source": [
    "from matplotlib.dates import date2num\n",
    "\n",
    "df_basin = pd.read_feather(datadir / \"pid_control/results/basin.arrow\")\n",
    "df_basin_wide = df_basin.pivot_table(\n",
    "    index=\"time\", columns=\"node_id\", values=[\"storage\", \"level\"]\n",
    ")\n",
    "ax = df_basin_wide[\"level\"].plot()\n",
    "ax.set_ylabel(\"level [m]\")\n",
    "\n",
    "# Plot target level\n",
    "level_demands = model.pid_control.time.df.target.to_numpy()[:4]\n",
    "times = date2num(model.pid_control.time.df.time)[:4]\n",
    "ax.plot(times, level_demands, color=\"k\", ls=\":\", label=\"target level\")\n",
    "pass"
   ]
  },
  {
   "cell_type": "markdown",
   "metadata": {},
   "source": [
    "# Model with allocation (user demand)\n"
   ]
  },
  {
   "cell_type": "markdown",
   "metadata": {},
   "source": [
    "Setup a model:\n"
   ]
  },
  {
   "cell_type": "code",
   "execution_count": null,
   "metadata": {},
   "outputs": [],
   "source": [
    "model = Model(starttime=\"2020-01-01\", endtime=\"2020-01-20\", crs=\"EPSG:4326\")"
   ]
  },
  {
   "cell_type": "markdown",
   "metadata": {},
   "source": [
    "Setup the basins:\n"
   ]
  },
  {
   "cell_type": "code",
   "execution_count": null,
   "metadata": {},
   "outputs": [],
   "source": [
    "basin_data = [\n",
    "    basin.Profile(area=[300_000.0, 300_000.0], level=[0.0, 1.0]),\n",
    "    basin.State(level=[1.0]),\n",
    "]\n",
    "\n",
    "model.basin.add(\n",
    "    Node(2, Point(1.0, 0.0), subnetwork_id=1),\n",
    "    basin_data,\n",
    ")\n",
    "model.basin.add(\n",
    "    Node(5, Point(3.0, 0.0), subnetwork_id=1),\n",
    "    basin_data,\n",
    ")\n",
    "model.basin.add(\n",
    "    Node(12, Point(4.5, 1.0), subnetwork_id=1),\n",
    "    basin_data,\n",
    ")"
   ]
  },
  {
   "cell_type": "markdown",
   "metadata": {},
   "source": [
    "Setup the flow boundary:\n"
   ]
  },
  {
   "cell_type": "code",
   "execution_count": null,
   "metadata": {},
   "outputs": [],
   "source": [
    "model.flow_boundary.add(\n",
    "    Node(1, Point(0.0, 0.0), subnetwork_id=1), [flow_boundary.Static(flow_rate=[2.0])]\n",
    ")"
   ]
  },
  {
   "cell_type": "markdown",
   "metadata": {},
   "source": [
    "Setup the linear resistance:\n"
   ]
  },
  {
   "cell_type": "code",
   "execution_count": null,
   "metadata": {},
   "outputs": [],
   "source": [
    "model.linear_resistance.add(\n",
    "    Node(4, Point(2.0, 0.0), subnetwork_id=1),\n",
    "    [linear_resistance.Static(resistance=[0.06])],\n",
    ")"
   ]
  },
  {
   "cell_type": "markdown",
   "metadata": {},
   "source": [
    "Setup the tabulated rating curve:\n"
   ]
  },
  {
   "cell_type": "code",
   "execution_count": null,
   "metadata": {},
   "outputs": [],
   "source": [
    "model.tabulated_rating_curve.add(\n",
    "    Node(7, Point(4.0, 0.0), subnetwork_id=1),\n",
    "    [tabulated_rating_curve.Static(level=[0.0, 0.5, 1.0], flow_rate=[0.0, 0.0, 2.0])],\n",
    ")"
   ]
  },
  {
   "cell_type": "markdown",
   "metadata": {},
   "source": [
    "Setup the fractional flow:\n"
   ]
  },
  {
   "cell_type": "code",
   "execution_count": null,
   "metadata": {},
   "outputs": [],
   "source": [
    "model.fractional_flow.add(\n",
    "    Node(8, Point(4.5, 0.0), subnetwork_id=1),\n",
    "    [fractional_flow.Static(fraction=[0.6, 0.9], control_state=[\"divert\", \"close\"])],\n",
    ")\n",
    "model.fractional_flow.add(\n",
    "    Node(9, Point(4.5, 0.5), subnetwork_id=1),\n",
    "    [fractional_flow.Static(fraction=[0.4, 0.1], control_state=[\"divert\", \"close\"])],\n",
    ")"
   ]
  },
  {
   "cell_type": "markdown",
   "metadata": {},
   "source": [
    "Setup the terminal:\n"
   ]
  },
  {
   "cell_type": "code",
   "execution_count": null,
   "metadata": {},
   "outputs": [],
   "source": [
    "model.terminal.add(Node(10, Point(5.0, 0.0), subnetwork_id=1))"
   ]
  },
  {
   "cell_type": "markdown",
   "metadata": {},
   "source": [
    "Setup the discrete control:\n"
   ]
  },
  {
   "cell_type": "code",
   "execution_count": null,
   "metadata": {},
   "outputs": [],
   "source": [
    "model.discrete_control.add(\n",
    "    Node(11, Point(4.5, 0.25), subnetwork_id=1),\n",
    "    [\n",
    "        discrete_control.Variable(\n",
    "            compound_variable_id=1,\n",
    "            listen_node_id=[5],\n",
    "            listen_node_type=[\"Basin\"],\n",
    "            variable=[\"level\"],\n",
    "        ),\n",
    "        discrete_control.Condition(\n",
    "            compound_variable_id=1,\n",
    "            greater_than=[0.52],\n",
    "        ),\n",
    "        discrete_control.Logic(\n",
    "            truth_state=[\"T\", \"F\"], control_state=[\"divert\", \"close\"]\n",
    "        ),\n",
    "    ],\n",
    ")"
   ]
  },
  {
   "cell_type": "markdown",
   "metadata": {},
   "source": [
    "Setup the users:\n"
   ]
  },
  {
   "cell_type": "code",
   "execution_count": null,
   "metadata": {},
   "outputs": [],
   "source": [
    "model.user_demand.add(\n",
    "    Node(6, Point(3.0, 1.0), subnetwork_id=1),\n",
    "    [\n",
    "        user_demand.Static(\n",
    "            demand=[1.5], return_factor=[0.0], min_level=[-1.0], priority=[1]\n",
    "        )\n",
    "    ],\n",
    ")\n",
    "model.user_demand.add(\n",
    "    Node(13, Point(5.0, 1.0), subnetwork_id=1),\n",
    "    [\n",
    "        user_demand.Static(\n",
    "            demand=[1.0], return_factor=[0.0], min_level=[-1.0], priority=[3]\n",
    "        )\n",
    "    ],\n",
    ")\n",
    "model.user_demand.add(\n",
    "    Node(3, Point(1.0, 1.0), subnetwork_id=1),\n",
    "    [\n",
    "        user_demand.Time(\n",
    "            demand=[0.0, 1.0, 1.2, 1.2],\n",
    "            return_factor=[0.0, 0.0, 0.0, 0.0],\n",
    "            min_level=[-1.0, -1.0, -1.0, -1.0],\n",
    "            priority=[1, 1, 2, 2],\n",
    "            time=2 * [\"2020-01-01\", \"2020-01-20\"],\n",
    "        )\n",
    "    ],\n",
    ")"
   ]
  },
  {
   "cell_type": "markdown",
   "metadata": {},
   "source": [
    "Setup the allocation:\n"
   ]
  },
  {
   "cell_type": "code",
   "execution_count": null,
   "metadata": {},
   "outputs": [],
   "source": [
    "model.allocation = Allocation(use_allocation=True, timestep=86400)"
   ]
  },
  {
   "cell_type": "markdown",
   "metadata": {},
   "source": [
    "Setup the edges:\n"
   ]
  },
  {
   "cell_type": "code",
   "execution_count": null,
   "metadata": {},
   "outputs": [],
   "source": [
    "model.edge.add(model.flow_boundary[1], model.basin[2], subnetwork_id=1)\n",
    "model.edge.add(model.basin[2], model.user_demand[3])\n",
    "model.edge.add(model.basin[2], model.linear_resistance[4])\n",
    "model.edge.add(model.linear_resistance[4], model.basin[5])\n",
    "model.edge.add(model.basin[5], model.user_demand[6])\n",
    "model.edge.add(model.basin[5], model.tabulated_rating_curve[7])\n",
    "model.edge.add(model.tabulated_rating_curve[7], model.fractional_flow[8])\n",
    "model.edge.add(model.user_demand[3], model.basin[2])\n",
    "model.edge.add(model.user_demand[6], model.basin[5])\n",
    "model.edge.add(model.tabulated_rating_curve[7], model.fractional_flow[9])\n",
    "model.edge.add(model.fractional_flow[8], model.terminal[10])\n",
    "model.edge.add(model.fractional_flow[9], model.basin[12])\n",
    "model.edge.add(model.basin[12], model.user_demand[13])\n",
    "model.edge.add(model.user_demand[13], model.terminal[10])\n",
    "model.edge.add(model.discrete_control[11], model.fractional_flow[8])\n",
    "model.edge.add(model.discrete_control[11], model.fractional_flow[9])"
   ]
  },
  {
   "cell_type": "markdown",
   "metadata": {},
   "source": [
    "Let's take a look at the model:\n"
   ]
  },
  {
   "cell_type": "code",
   "execution_count": null,
   "metadata": {},
   "outputs": [],
   "source": [
    "model.plot()"
   ]
  },
  {
   "cell_type": "markdown",
   "metadata": {},
   "source": [
    "Write the model to a TOML and GeoPackage:\n"
   ]
  },
  {
   "cell_type": "code",
   "execution_count": null,
   "metadata": {},
   "outputs": [],
   "source": [
    "datadir = Path(\"data\")\n",
    "model.write(datadir / \"allocation_example/ribasim.toml\")"
   ]
  },
  {
   "cell_type": "code",
   "execution_count": null,
   "metadata": {},
   "outputs": [],
   "source": [
    "# | include: false\n",
    "from subprocess import run\n",
    "\n",
    "run(\n",
    "    [\n",
    "        \"julia\",\n",
    "        \"--project=../../core\",\n",
    "        \"--eval\",\n",
    "        f'using Ribasim; Ribasim.main(\"{datadir.as_posix()}/allocation_example/ribasim.toml\")',\n",
    "    ],\n",
    "    check=True,\n",
    ")"
   ]
  },
  {
   "cell_type": "markdown",
   "metadata": {},
   "source": [
    "Now run the model with `ribasim allocation_example/ribasim.toml`.\n",
    "After running the model, read back the results:\n"
   ]
  },
  {
   "cell_type": "code",
   "execution_count": null,
   "metadata": {},
   "outputs": [],
   "source": [
    "import matplotlib.ticker as plticker\n",
    "\n",
    "df_allocation = pd.read_feather(datadir / \"allocation_example/results/allocation.arrow\")\n",
    "df_allocation_wide = df_allocation.pivot_table(\n",
    "    index=\"time\",\n",
    "    columns=[\"node_type\", \"node_id\", \"priority\"],\n",
    "    values=[\"demand\", \"allocated\", \"realized\"],\n",
    ")\n",
    "df_allocation_wide = df_allocation_wide.loc[:, (df_allocation_wide != 0).any(axis=0)]\n",
    "\n",
    "fig, axs = plt.subplots(1, 3, figsize=(8, 5))\n",
    "\n",
    "df_allocation_wide[\"demand\"].plot(ax=axs[0], ls=\":\")\n",
    "df_allocation_wide[\"allocated\"].plot(ax=axs[1], ls=\"--\")\n",
    "df_allocation_wide[\"realized\"].plot(ax=axs[2])\n",
    "\n",
    "fig.tight_layout()\n",
    "loc = plticker.MultipleLocator(2)\n",
    "\n",
    "axs[0].set_ylabel(\"level [m]\")\n",
    "\n",
    "for ax, title in zip(axs, [\"Demand\", \"Allocated\", \"Abstracted\"]):\n",
    "    ax.set_title(title)\n",
    "    ax.set_ylim(0.0, 1.6)\n",
    "    ax.xaxis.set_major_locator(loc)"
   ]
  },
  {
   "cell_type": "markdown",
   "metadata": {},
   "source": [
    "Some things to note about this plot:\n",
    "\n",
    "- Abstraction behaves somewhat erratically at the start of the simulation. This is because allocation is based on flows computed in the physical layer, and at the start of the simulation these are not known yet.\n",
    "\n",
    "- Although there is a plotted line for abstraction per priority, abstraction is actually accumulated over all priorities per user.\n"
   ]
  },
  {
   "cell_type": "code",
   "execution_count": null,
   "metadata": {},
   "outputs": [],
   "source": [
    "df_basin = pd.read_feather(datadir / \"allocation_example/results/basin.arrow\")\n",
    "df_basin_wide = df_basin.pivot_table(\n",
    "    index=\"time\", columns=\"node_id\", values=[\"storage\", \"level\"]\n",
    ")\n",
    "\n",
    "ax = df_basin_wide[\"level\"].plot()\n",
    "ax.set_title(\"Basin levels\")\n",
    "ax.set_ylabel(\"level [m]\")"
   ]
  },
  {
   "cell_type": "markdown",
   "metadata": {},
   "source": [
    "# Model with allocation (basin supply/demand)\n"
   ]
  },
  {
   "cell_type": "markdown",
   "metadata": {},
   "source": [
    "Setup a model:\n"
   ]
  },
  {
   "cell_type": "code",
   "execution_count": null,
   "metadata": {},
   "outputs": [],
   "source": [
    "model = Model(starttime=\"2020-01-01\", endtime=\"2020-02-01\", crs=\"EPSG:4326\")"
   ]
  },
  {
   "cell_type": "markdown",
   "metadata": {},
   "source": [
    "Setup the basins:\n"
   ]
  },
  {
   "cell_type": "code",
   "execution_count": null,
   "metadata": {},
   "outputs": [],
   "source": [
    "basin_data = [\n",
    "    basin.Profile(area=[1e3, 1e3], level=[0.0, 1.0]),\n",
    "    basin.State(level=[0.5]),\n",
    "]\n",
    "model.basin.add(\n",
    "    Node(2, Point(1.0, 0.0), subnetwork_id=2),\n",
    "    [\n",
    "        *basin_data,\n",
    "        basin.Time(\n",
    "            time=[\"2020-01-01\", \"2020-01-16\"],\n",
    "            drainage=[0.0, 0.0],\n",
    "            potential_evaporation=[0.0, 0.0],\n",
    "            infiltration=[0.0, 0.0],\n",
    "            precipitation=[1e-6, 0.0],\n",
    "            urban_runoff=[0.0, 0.0],\n",
    "        ),\n",
    "    ],\n",
    ")\n",
    "model.basin.add(\n",
    "    Node(5, Point(2.0, -1.0), subnetwork_id=2),\n",
    "    [\n",
    "        *basin_data,\n",
    "        basin.Static(\n",
    "            drainage=[0.0],\n",
    "            potential_evaporation=[0.0],\n",
    "            infiltration=[0.0],\n",
    "            precipitation=[0.0],\n",
    "            urban_runoff=[0.0],\n",
    "        ),\n",
    "    ],\n",
    ")"
   ]
  },
  {
   "cell_type": "markdown",
   "metadata": {},
   "source": [
    "Setup the flow boundary:\n"
   ]
  },
  {
   "cell_type": "code",
   "execution_count": null,
   "metadata": {},
   "outputs": [],
   "source": [
    "model.flow_boundary.add(\n",
    "    Node(1, Point(0.0, 0.0), subnetwork_id=2), [flow_boundary.Static(flow_rate=[1e-3])]\n",
    ")"
   ]
  },
  {
   "cell_type": "markdown",
   "metadata": {},
   "source": [
    "Setup level demand:\n"
   ]
  },
  {
   "cell_type": "code",
   "execution_count": null,
   "metadata": {},
   "outputs": [],
   "source": [
    "model.level_demand.add(\n",
    "    Node(4, Point(1.0, -1.0), subnetwork_id=2),\n",
    "    [level_demand.Static(priority=[1], min_level=[1.0], max_level=[1.5])],\n",
    ")"
   ]
  },
  {
   "cell_type": "markdown",
   "metadata": {},
   "source": [
    "Setup the users:\n"
   ]
  },
  {
   "cell_type": "code",
   "execution_count": null,
   "metadata": {},
   "outputs": [],
   "source": [
    "model.user_demand.add(\n",
    "    Node(3, Point(2.0, 0.0), subnetwork_id=2),\n",
    "    [\n",
    "        user_demand.Static(\n",
    "            priority=[2], demand=[1.5e-3], return_factor=[0.2], min_level=[0.2]\n",
    "        )\n",
    "    ],\n",
    ")"
   ]
  },
  {
   "cell_type": "markdown",
   "metadata": {},
   "source": [
    "Setup the allocation:\n"
   ]
  },
  {
   "cell_type": "code",
   "execution_count": null,
   "metadata": {},
   "outputs": [],
   "source": [
    "model.allocation = Allocation(use_allocation=True, timestep=1e5)"
   ]
  },
  {
   "cell_type": "markdown",
   "metadata": {},
   "source": [
    "Setup the edges:\n"
   ]
  },
  {
   "cell_type": "code",
   "execution_count": null,
   "metadata": {},
   "outputs": [],
   "source": [
    "model.edge.add(model.flow_boundary[1], model.basin[2], subnetwork_id=2)\n",
    "model.edge.add(model.basin[2], model.user_demand[3])\n",
    "model.edge.add(model.level_demand[4], model.basin[2])\n",
    "model.edge.add(model.user_demand[3], model.basin[5])\n",
    "model.edge.add(model.level_demand[4], model.basin[5])"
   ]
  },
  {
   "cell_type": "markdown",
   "metadata": {},
   "source": [
    "Let's take a look at the model:\n"
   ]
  },
  {
   "cell_type": "code",
   "execution_count": null,
   "metadata": {},
   "outputs": [],
   "source": [
    "model.plot()"
   ]
  },
  {
   "cell_type": "markdown",
   "metadata": {},
   "source": [
    "Write the model to a TOML and GeoPackage:\n"
   ]
  },
  {
   "cell_type": "code",
   "execution_count": null,
   "metadata": {},
   "outputs": [],
   "source": [
    "model.write(datadir / \"level_demand/ribasim.toml\")"
   ]
  },
  {
   "cell_type": "code",
   "execution_count": null,
   "metadata": {},
   "outputs": [],
   "source": [
    "# | include: false\n",
    "from subprocess import run\n",
    "\n",
    "run(\n",
    "    [\n",
    "        \"julia\",\n",
    "        \"--project=../../core\",\n",
    "        \"--eval\",\n",
    "        f'using Ribasim; Ribasim.main(\"{datadir.as_posix()}/level_demand/ribasim.toml\")',\n",
    "    ],\n",
    "    check=True,\n",
    ")"
   ]
  },
  {
   "cell_type": "markdown",
   "metadata": {},
   "source": [
    "Now run the model with `ribasim level_demand/ribasim.toml`.\n",
    "After running the model, read back the results:\n"
   ]
  },
  {
   "cell_type": "code",
   "execution_count": null,
   "metadata": {},
   "outputs": [],
   "source": [
    "df_basin = pd.read_feather(datadir / \"level_demand/results/basin.arrow\")\n",
    "df_basin = df_basin[df_basin.node_id == 2]\n",
    "df_basin_wide = df_basin.pivot_table(\n",
    "    index=\"time\", columns=\"node_id\", values=[\"storage\", \"level\"]\n",
    ")\n",
    "ax = df_basin_wide[\"level\"].plot(ylabel=\"level [m]\")"
   ]
  },
  {
   "cell_type": "markdown",
   "metadata": {},
   "source": [
    "In the plot above, the line denotes the level of Basin #2 over time.\n",
    "The Basin level is a piecewise linear function of time, with several stages explained below.\n",
    "\n",
    "Constants:\n",
    "\n",
    "- $d$: UserDemand #3 demand,\n",
    "- $\\phi$: Basin #2 precipitation rate,\n",
    "- $q$: LevelBoundary flow.\n"
   ]
  },
  {
   "cell_type": "markdown",
   "metadata": {},
   "source": [
    "Stages:\n",
    "\n",
    "- In the first stage the UserDemand abstracts fully, so the net change of Basin #2 is $q + \\phi - d$;\n",
    "- In the second stage the Basin takes precedence so the UserDemand doesn't abstract, hence the net change of Basin #2 is $q + \\phi$;\n",
    "- In the third stage (and following stages) the Basin no longer has a positive demand, since precipitation provides enough water to get the Basin to its target level. The FlowBoundary flow gets fully allocated to the UserDemand, hence the net change of Basin #2 is $\\phi$;\n",
    "- In the fourth stage the Basin enters its surplus stage, even though initially the level is below the maximum level. This is because the simulation anticipates that the current precipitation is going to bring the Basin level over its maximum level. The net change of Basin #2 is now $q + \\phi - d$;\n",
    "- At the start of the fifth stage the precipitation stops, and so the UserDemand partly uses surplus water from the Basin to fulfill its demand. The net change of Basin #2 becomes $q - d$.\n",
    "- In the final stage the Basin is in a dynamical equilibrium, since the Basin has no supply so the user abstracts precisely the flow from the LevelBoundary.\n"
   ]
  },
  {
   "cell_type": "markdown",
   "metadata": {},
   "source": [
    "# Guidance of modelling a cascade of polder basins"
   ]
  },
  {
   "cell_type": "markdown",
   "metadata": {},
   "source": [
    "**Situation description**: This example shows how to make a model for a given practical water system, which consists of a cascade of level control polder basins with inlet and outlet to the main systems. Note that alternative model layouts are feasible for the same water system, each having its positive items and drawbacks."
   ]
  },
  {
   "cell_type": "markdown",
   "metadata": {},
   "source": [
    "![](image/cascade-polder.jpg)"
   ]
  },
  {
   "cell_type": "markdown",
   "metadata": {},
   "source": [
    "The polder system is composed of a sequence of level controlled polder basins with weirs inbetween each basin and an inlet and outlet to main system"
   ]
  },
  {
   "cell_type": "code",
   "execution_count": null,
   "metadata": {},
   "outputs": [],
   "source": [
    "model = Model(starttime=\"2020-01-01\", endtime=\"2021-01-01\", crs=\"EPSG:28992\")"
   ]
  },
  {
   "cell_type": "markdown",
   "metadata": {},
   "source": [
    "All the polder basins are exposed to time varying forcings (precipitation, evaporation, drainage, infiltration) to mimic situations of water excess and water shortage.\n",
    "\n",
    "In case of water excess, a pump in the most downstream polder will need to pump the surplus water to the main water system. In case of water shortage, an inlet at the most upstream polder will need to bring water into the cascase of polders. The main water system acts as a water source.\n",
    "\n",
    "**Model approach**:  All polder basins as well as the main water system are modelled with basin nodes. To let the system experience all 4 excess/shortage situation, forcing time series are made in a way that is adapting to them. Overall, assume that in one year, the system will experience precipitation (situation 1) in winter and early spring, precipitation shortage (situation 2) from late spring until early autumn. During situation 2, polder basin 4 will experience additional seepage (compoensating its shortage), and later polder basin 3 will also receive more seepage."
   ]
  },
  {
   "cell_type": "markdown",
   "metadata": {},
   "source": [
    "Setting up the basins:"
   ]
  },
  {
   "cell_type": "code",
   "execution_count": null,
   "metadata": {},
   "outputs": [],
   "source": [
    "time = pd.date_range(model.starttime, model.endtime)\n",
    "day_of_year = time.day_of_year.to_numpy()\n",
    "\n",
    "precipitation = np.zeros(day_of_year.size)\n",
    "precipitation[0:90] = 1.72e-8\n",
    "precipitation[330:366] = 1.72e-8\n",
    "\n",
    "evaporation = np.zeros(day_of_year.size)\n",
    "evaporation[130:270] = 2.87e-8\n",
    "\n",
    "drainage = np.zeros(day_of_year.size)\n",
    "drainage[120:270] = 0.4 * 2.87e-8\n",
    "drainage_3 = drainage.copy()\n",
    "drainage_3[210:240] = 17 * 2.87e-8\n",
    "drainage_4 = drainage.copy()\n",
    "drainage_4[160:240] = 13 * 2.87e-8\n",
    "\n",
    "infiltration = np.zeros(day_of_year.size)\n",
    "infiltration[0:90] = 5e-8\n",
    "\n",
    "polder_profile = basin.Profile(area=[100, 100], level=[0.0, 3.0])\n",
    "\n",
    "basin_time = [\n",
    "    basin.Time(\n",
    "        time=pd.date_range(model.starttime, model.endtime),\n",
    "        drainage=drainage,\n",
    "        potential_evaporation=evaporation,\n",
    "        infiltration=0.0,\n",
    "        precipitation=precipitation,\n",
    "        urban_runoff=0.0,\n",
    "    ),\n",
    "]\n",
    "\n",
    "basin_time4 = [\n",
    "    basin.Time(\n",
    "        time=pd.date_range(model.starttime, model.endtime),\n",
    "        drainage=drainage_4,\n",
    "        potential_evaporation=evaporation,\n",
    "        infiltration=0.0,\n",
    "        precipitation=precipitation,\n",
    "        urban_runoff=0.0,\n",
    "    ),\n",
    "]\n",
    "basin_time3 = [\n",
    "    basin.Time(\n",
    "        time=pd.date_range(model.starttime, model.endtime),\n",
    "        drainage=drainage_3,\n",
    "        potential_evaporation=evaporation,\n",
    "        infiltration=0.0,\n",
    "        precipitation=precipitation,\n",
    "        urban_runoff=0.0,\n",
    "    ),\n",
    "]\n",
    "\n",
    "model.basin.add(\n",
    "    Node(1, Point(2.0, 0.0)),\n",
    "    [\n",
    "        basin.State(level=[2.5]),\n",
    "        basin.Profile(area=[1000, 1000], level=[0.0, 3.0]),\n",
    "        basin.Time(\n",
    "            time=pd.date_range(model.starttime, model.endtime),\n",
    "            drainage=0.0,\n",
    "            potential_evaporation=0.0,\n",
    "            infiltration=0.0,\n",
    "            precipitation=0.0,\n",
    "            urban_runoff=0.0,\n",
    "        ),\n",
    "    ],\n",
    ")\n",
    "model.basin.add(\n",
    "    Node(4, Point(0.0, -2.0)),\n",
    "    [basin.State(level=[1.5]), polder_profile, *basin_time],\n",
    ")\n",
    "model.basin.add(\n",
    "    Node(6, Point(0.0, -4.0)),\n",
    "    [basin.State(level=[1.0]), polder_profile, *basin_time],\n",
    ")\n",
    "model.basin.add(\n",
    "    Node(8, Point(2.0, -4.0)),\n",
    "    [basin.State(level=[1.5]), polder_profile, *basin_time3],\n",
    ")\n",
    "model.basin.add(\n",
    "    Node(10, Point(4.0, -4.0)),\n",
    "    [basin.State(level=[1.3]), polder_profile, *basin_time4],\n",
    ")\n",
    "model.basin.add(\n",
    "    Node(12, Point(4.0, -2.0)),\n",
    "    [basin.State(level=[0.1]), polder_profile, *basin_time],\n",
    ")"
   ]
  },
  {
   "cell_type": "markdown",
   "metadata": {},
   "source": [
    "After all the basins are defined the connecting component inbetween the basins needs to be determined. For polder basin 5 (node 12), the water level needs to be maintain at 0.0 meter. This means that either there should be no water in this basin, or the basin bottom is lower than the reference level, and the water level should be maintained at the reference level.\n",
    "\n",
    "Since the water level of the main system is at 2.5 meter above the reference level a pump is needed to remove the water from polder basin 5."
   ]
  },
  {
   "cell_type": "markdown",
   "metadata": {},
   "source": [
    "Setup the pumps:"
   ]
  },
  {
   "cell_type": "code",
   "execution_count": null,
   "metadata": {},
   "outputs": [],
   "source": [
    "model.pump.add(\n",
    "    Node(13, Point(4.0, -1.0)),\n",
    "    [pump.Static(flow_rate=[0.5 / 3600])],\n",
    ")"
   ]
  },
  {
   "cell_type": "markdown",
   "metadata": {},
   "source": [
    "According to the description of situation 1 and 2, the water in one polder basin needs to be able to flow to the downstream basin if the current basin has too much water (i.e. the water level is above the setpoint) or if the downstream basin is below setpoint and needs more water. This could be modelled with an uncontrolled TabulatedRatingCurve node with Q=0 at the setpoint level (and Q rising when the level rises above setpoint) , or with an Outlet node where the minimum crest is specified at or just below the setpoint. In this example, we've chosen for the Outlet where we specify the minimum crest level 5 cm below the setpoint. For example: the Outlet of polder basin 1 (node 4) is specified with a minimum crest level of 1.95 meter."
   ]
  },
  {
   "cell_type": "markdown",
   "metadata": {},
   "source": [
    "Setup the outlets:"
   ]
  },
  {
   "cell_type": "code",
   "execution_count": null,
   "metadata": {},
   "outputs": [],
   "source": [
    "# Set up outlet\n",
    "model.outlet.add(\n",
    "    Node(2, Point(0.0, -1.0)),\n",
    "    [outlet.Static(flow_rate=[2 * 0.5 / 3600], min_crest_level=[0.0])],\n",
    ")\n",
    "model.outlet.add(\n",
    "    Node(5, Point(0.0, -3.0)),\n",
    "    [outlet.Static(flow_rate=[0.5 / 3600], min_crest_level=[1.95])],\n",
    ")\n",
    "model.outlet.add(\n",
    "    Node(7, Point(1.0, -4.0)),\n",
    "    [outlet.Static(flow_rate=[0.5 / 3600], min_crest_level=[1.45])],\n",
    ")\n",
    "model.outlet.add(\n",
    "    Node(9, Point(3.0, -4.0)),\n",
    "    [outlet.Static(flow_rate=[0.5 / 3600], min_crest_level=[0.95])],\n",
    ")\n",
    "model.outlet.add(\n",
    "    Node(11, Point(4.0, -3.0)),\n",
    "    [outlet.Static(flow_rate=[0.5 / 3600], min_crest_level=[0.45])],\n",
    ")"
   ]
  },
  {
   "cell_type": "markdown",
   "metadata": {},
   "source": [
    "When using Outlets as connecting nodes, the flow over the Outlet needs to be controlled to maintain the water level at the setpoint. For this purpose we introduce local PidControllers, where the targets of the PidControllers are set to the setpoints. Disadvantage of this local control approach is the delay that is introduced to transport the 'basin X has a shortage' message upstream through the cascade to the inlet. Current functionality does not offer the capability for PidControl to take multiple observations into account when controlling the inlet. Combining multiple observations in one control is feasible with DiscreteControl. This could be an alternative approach to controlling the inlet for the cascading water system."
   ]
  },
  {
   "cell_type": "markdown",
   "metadata": {},
   "source": [
    "Setup the PID control:"
   ]
  },
  {
   "cell_type": "code",
   "execution_count": null,
   "metadata": {},
   "outputs": [],
   "source": [
    "pid_control_data = {\n",
    "    \"listen_node_type\": \"Basin\",\n",
    "    \"proportional\": [0.05],\n",
    "    \"integral\": [0.00],\n",
    "    \"derivative\": [0.0],\n",
    "}\n",
    "model.pid_control.add(\n",
    "    Node(3, Point(-1.0, -1.0)),\n",
    "    [pid_control.Static(listen_node_id=[4], target=[2.0], **pid_control_data)],\n",
    ")\n",
    "model.pid_control.add(\n",
    "    Node(14, Point(-1.0, -3.0)),\n",
    "    [pid_control.Static(listen_node_id=[6], target=[1.5], **pid_control_data)],\n",
    ")\n",
    "model.pid_control.add(\n",
    "    Node(15, Point(1.0, -3.0)),\n",
    "    [pid_control.Static(listen_node_id=[8], target=[1.0], **pid_control_data)],\n",
    ")\n",
    "model.pid_control.add(\n",
    "    Node(16, Point(3.0, -3.0)),\n",
    "    [pid_control.Static(listen_node_id=[10], target=[0.5], **pid_control_data)],\n",
    ")"
   ]
  },
  {
   "cell_type": "markdown",
   "metadata": {},
   "source": [
    "Setup the edges:"
   ]
  },
  {
   "cell_type": "code",
   "execution_count": null,
   "metadata": {},
   "outputs": [],
   "source": [
    "model.edge.add(model.basin[1], model.outlet[2])\n",
    "model.edge.add(model.pid_control[3], model.outlet[2])\n",
    "model.edge.add(model.outlet[2], model.basin[4])\n",
    "model.edge.add(model.basin[4], model.outlet[5])\n",
    "model.edge.add(model.outlet[5], model.basin[6])\n",
    "model.edge.add(model.basin[6], model.outlet[7])\n",
    "model.edge.add(model.outlet[7], model.basin[8])\n",
    "model.edge.add(model.basin[8], model.outlet[9])\n",
    "model.edge.add(model.outlet[9], model.basin[10])\n",
    "model.edge.add(model.basin[10], model.outlet[11])\n",
    "model.edge.add(model.outlet[11], model.basin[12])\n",
    "model.edge.add(model.basin[12], model.pump[13])\n",
    "model.edge.add(model.pump[13], model.basin[1])\n",
    "model.edge.add(model.pid_control[14], model.outlet[5])\n",
    "model.edge.add(model.pid_control[15], model.outlet[7])\n",
    "model.edge.add(model.pid_control[16], model.outlet[9])"
   ]
  },
  {
   "cell_type": "markdown",
   "metadata": {},
   "source": [
    "To plot the model"
   ]
  },
  {
   "cell_type": "code",
   "execution_count": null,
   "metadata": {},
   "outputs": [],
   "source": [
    "model.plot()"
   ]
  },
  {
   "cell_type": "markdown",
   "metadata": {},
   "source": [
    "Write the model to a TOML file and run it in the Julia."
   ]
  },
  {
   "cell_type": "code",
   "execution_count": null,
   "metadata": {},
   "outputs": [],
   "source": [
    "datadir = Path(\"data\")\n",
    "model.write(datadir / \"local_pidcontrolled_cascade/ribasim.toml\")"
   ]
  },
  {
   "cell_type": "code",
   "execution_count": null,
   "metadata": {},
   "outputs": [],
   "source": [
    "# | include: false\n",
    "from subprocess import run\n",
    "\n",
    "run(\n",
    "    [\n",
    "        \"julia\",\n",
    "        \"--project=../../core\",\n",
    "        \"--eval\",\n",
    "        f'using Ribasim; Ribasim.main(\"{datadir.as_posix()}/local_pidcontrolled_cascade/ribasim.toml\")',\n",
    "    ],\n",
    "    check=True,\n",
    ")"
   ]
  },
  {
   "cell_type": "markdown",
   "metadata": {},
   "source": [
    "After running the model, read back the result to plot the flow of each polder basin."
   ]
  },
  {
   "cell_type": "code",
   "execution_count": null,
   "metadata": {},
   "outputs": [],
   "source": [
    "datadir_flow = datadir / \"local_pidcontrolled_cascade/results/flow.arrow\"\n",
    "df_flow = pd.read_feather(datadir_flow)\n",
    "df_flow[\"edge\"] = list(zip(df_flow.from_node_id, df_flow.to_node_id))\n",
    "df_flow[\"flow_m3d\"] = df_flow.flow_rate * 86400\n",
    "\n",
    "df_pivot = df_flow.pivot_table(index=\"time\", columns=\"edge\", values=\"flow_m3d\")"
   ]
  },
  {
   "cell_type": "markdown",
   "metadata": {},
   "source": [
    "Below graphs show the flow exchanged with the mainsystem (i.e. the inlet and the pump), and the flow of weirs inbetween the polder basins."
   ]
  },
  {
   "cell_type": "code",
   "execution_count": null,
   "metadata": {},
   "outputs": [],
   "source": [
    "df_input = df_pivot.loc[:, [(1, 2), (13, 1)]]\n",
    "df_input.plot(ylim=[-1.0, 20.0])\n",
    "df_weirs = df_pivot.loc[:, [(4, 5), (6, 7), (8, 9), (10, 11)]]\n",
    "df_weirs.plot(ylim=[-1.0, 15.0])"
   ]
  },
  {
   "cell_type": "markdown",
   "metadata": {},
   "source": [
    " Below graph shows the vertical flux on each basin."
   ]
  },
  {
   "cell_type": "code",
   "execution_count": null,
   "metadata": {},
   "outputs": [],
   "source": [
    "datadir_basin = datadir / \"local_pidcontrolled_cascade/results/basin.arrow\"\n",
    "df_basin = pd.read_feather(datadir_basin)\n",
    "df_basin[\"vertical_flux\"] = (\n",
    "    df_basin[\"precipitation\"]\n",
    "    - df_basin[\"evaporation\"]\n",
    "    + df_basin[\"drainage\"]\n",
    "    + df_basin[\"infiltration\"]\n",
    ")\n",
    "df_basin_wide = df_basin.pivot_table(\n",
    "    index=\"time\", columns=\"node_id\", values=[\"storage\", \"level\", \"vertical_flux\"]\n",
    ")\n",
    "df_basin_wide[\"vertical_flux\"].plot()"
   ]
  },
  {
   "cell_type": "markdown",
   "metadata": {},
   "source": [
    "In the following graph, the water level of basins are shown. The five polder basins are given starting levels that are different from their setpoints. It can be observed that in the beginning, the water level are changing and approaching to the set points. Later when the water levels are stable, they will not be affected by the forcing."
   ]
  },
  {
   "cell_type": "code",
   "execution_count": null,
   "metadata": {},
   "outputs": [],
   "source": [
    "df_basin_wide[\"level\"].plot()"
   ]
  }
 ],
 "metadata": {
  "kernelspec": {
   "display_name": "Python 3 (ipykernel)",
   "language": "python",
   "name": "python3"
  },
  "language_info": {
   "codemirror_mode": {
    "name": "ipython",
    "version": 3
   },
   "file_extension": ".py",
   "mimetype": "text/x-python",
   "name": "python",
   "nbconvert_exporter": "python",
   "pygments_lexer": "ipython3",
   "version": "3.12.2"
  }
 },
 "nbformat": 4,
 "nbformat_minor": 4
}
