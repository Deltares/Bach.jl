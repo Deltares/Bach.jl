{
 "cells": [
  {
   "cell_type": "raw",
   "metadata": {},
   "source": [
    "---\n",
    "title: \"Examples\"\n",
    "---"
   ]
  },
  {
   "attachments": {},
   "cell_type": "markdown",
   "metadata": {},
   "source": [
    "# Basic model with static forcing\n"
   ]
  },
  {
   "cell_type": "code",
   "execution_count": null,
   "metadata": {},
   "outputs": [],
   "source": [
    "# | include: false\n",
    "import os\n",
    "\n",
    "os.environ[\"USE_PYGEOS\"] = \"0\""
   ]
  },
  {
   "cell_type": "code",
   "execution_count": null,
   "metadata": {},
   "outputs": [],
   "source": [
    "import shutil\n",
    "from pathlib import Path\n",
    "\n",
    "import matplotlib.pyplot as plt\n",
    "import numpy as np\n",
    "import pandas as pd\n",
    "import ribasim\n",
    "from ribasim import Model, Node\n",
    "from ribasim.nodes import (\n",
    "    basin,\n",
    "    discrete_control,\n",
    "    flow_boundary,\n",
    "    fractional_flow,\n",
    "    level_boundary,\n",
    "    level_demand,\n",
    "    linear_resistance,\n",
    "    manning_resistance,\n",
    "    outlet,\n",
    "    pid_control,\n",
    "    pump,\n",
    "    tabulated_rating_curve,\n",
    "    user_demand,\n",
    ")\n",
    "from shapely.geometry import Point"
   ]
  },
  {
   "cell_type": "code",
   "execution_count": null,
   "metadata": {},
   "outputs": [],
   "source": [
    "datadir = Path(\"data\")\n",
    "shutil.rmtree(datadir, ignore_errors=True)"
   ]
  },
  {
   "cell_type": "code",
   "execution_count": null,
   "metadata": {},
   "outputs": [],
   "source": [
    "model = Model(starttime=\"2020-01-01\", endtime=\"2021-01-01\")"
   ]
  },
  {
   "attachments": {},
   "cell_type": "markdown",
   "metadata": {},
   "source": [
    "Setup the basins:\n"
   ]
  },
  {
   "cell_type": "code",
   "execution_count": null,
   "metadata": {},
   "outputs": [],
   "source": [
    "time = pd.date_range(model.starttime, model.endtime)\n",
    "day_of_year = time.day_of_year.to_numpy()\n",
    "seconds_per_day = 24 * 60 * 60\n",
    "evaporation = (\n",
    "    (-1.0 * np.cos(day_of_year / 365.0 * 2 * np.pi) + 1.0) * 0.0025 / seconds_per_day\n",
    ")\n",
    "rng = np.random.default_rng(seed=0)\n",
    "precipitation = (\n",
    "    rng.lognormal(mean=-1.0, sigma=1.7, size=time.size) * 0.001 / seconds_per_day\n",
    ")\n",
    "\n",
    "# Convert steady forcing to m/s\n",
    "# 2 mm/d precipitation, 1 mm/d evaporation\n",
    "\n",
    "basin_data = [\n",
    "    basin.Profile(area=[0.01, 1000.0], level=[0.0, 1.0]),\n",
    "    basin.Time(\n",
    "        time=pd.date_range(model.starttime, model.endtime),\n",
    "        drainage=0.0,\n",
    "        potential_evaporation=evaporation,\n",
    "        infiltration=0.0,\n",
    "        precipitation=precipitation,\n",
    "        urban_runoff=0.0,\n",
    "    ),\n",
    "    basin.State(level=[1.4]),\n",
    "]\n",
    "\n",
    "model.basin.add(Node(1, Point(0.0, 0.0)), basin_data)\n",
    "model.basin.add(Node(3, Point(2.0, 0.0)), basin_data)\n",
    "model.basin.add(Node(6, Point(3.0, 2.0)), basin_data)\n",
    "model.basin.add(Node(9, Point(5.0, 0.0)), basin_data)"
   ]
  },
  {
   "attachments": {},
   "cell_type": "markdown",
   "metadata": {},
   "source": [
    "Setup linear resistance:\n"
   ]
  },
  {
   "cell_type": "code",
   "execution_count": null,
   "metadata": {},
   "outputs": [],
   "source": [
    "model.linear_resistance.add(\n",
    "    Node(10, Point(6.0, 0.0)),\n",
    "    [linear_resistance.Static(resistance=[5e3])],\n",
    ")\n",
    "model.linear_resistance.add(\n",
    "    Node(12, Point(2.0, 1.0)),\n",
    "    [linear_resistance.Static(resistance=[3600.0 * 24.0 / 100.0])],\n",
    ")"
   ]
  },
  {
   "attachments": {},
   "cell_type": "markdown",
   "metadata": {},
   "source": [
    "Setup Manning resistance:\n"
   ]
  },
  {
   "cell_type": "code",
   "execution_count": null,
   "metadata": {},
   "outputs": [],
   "source": [
    "model.manning_resistance.add(\n",
    "    Node(2, Point(1.0, 0.0)),\n",
    "    [\n",
    "        manning_resistance.Static(\n",
    "            length=[900], manning_n=[0.04], profile_width=[6.0], profile_slope=[3.0]\n",
    "        )\n",
    "    ],\n",
    ")"
   ]
  },
  {
   "attachments": {},
   "cell_type": "markdown",
   "metadata": {},
   "source": [
    "Set up a rating curve node:\n"
   ]
  },
  {
   "cell_type": "code",
   "execution_count": null,
   "metadata": {},
   "outputs": [],
   "source": [
    "model.tabulated_rating_curve.add(\n",
    "    Node(4, Point(3.0, 0.0)),\n",
    "    [tabulated_rating_curve.Static(level=[0.0, 1.0], flow_rate=[0.0, 10 / 86400])],\n",
    ")"
   ]
  },
  {
   "attachments": {},
   "cell_type": "markdown",
   "metadata": {},
   "source": [
    "Setup fractional flows:\n"
   ]
  },
  {
   "cell_type": "code",
   "execution_count": null,
   "metadata": {},
   "outputs": [],
   "source": [
    "model.fractional_flow.add(\n",
    "    Node(5, Point(3.0, 1.0)), [fractional_flow.Static(fraction=[0.3])]\n",
    ")\n",
    "model.fractional_flow.add(\n",
    "    Node(8, Point(4.0, 0.0)), [fractional_flow.Static(fraction=[0.6])]\n",
    ")\n",
    "model.fractional_flow.add(\n",
    "    Node(13, Point(3.0, -1.0)),\n",
    "    [fractional_flow.Static(fraction=[0.1])],\n",
    ")"
   ]
  },
  {
   "attachments": {},
   "cell_type": "markdown",
   "metadata": {},
   "source": [
    "Setup pump:\n"
   ]
  },
  {
   "cell_type": "code",
   "execution_count": null,
   "metadata": {},
   "outputs": [],
   "source": [
    "model.pump.add(Node(7, Point(4.0, 1.0)), [pump.Static(flow_rate=[0.5 / 3600])])"
   ]
  },
  {
   "attachments": {},
   "cell_type": "markdown",
   "metadata": {},
   "source": [
    "Setup level boundary:\n"
   ]
  },
  {
   "cell_type": "code",
   "execution_count": null,
   "metadata": {},
   "outputs": [],
   "source": [
    "model.level_boundary.add(\n",
    "    Node(11, Point(2.0, 2.0)), [level_boundary.Static(level=[0.5])]\n",
    ")\n",
    "model.level_boundary.add(\n",
    "    Node(17, Point(6.0, 1.0)), [level_boundary.Static(level=[1.5])]\n",
    ")"
   ]
  },
  {
   "attachments": {},
   "cell_type": "markdown",
   "metadata": {},
   "source": [
    "Setup flow boundary:\n"
   ]
  },
  {
   "cell_type": "code",
   "execution_count": null,
   "metadata": {},
   "outputs": [],
   "source": [
    "model.flow_boundary.add(\n",
    "    Node(15, Point(3.0, 3.0)), [flow_boundary.Static(flow_rate=[1e-4])]\n",
    ")\n",
    "model.flow_boundary.add(\n",
    "    Node(16, Point(0.0, 1.0)), [flow_boundary.Static(flow_rate=[1e-4])]\n",
    ")"
   ]
  },
  {
   "attachments": {},
   "cell_type": "markdown",
   "metadata": {},
   "source": [
    "Setup terminal:\n"
   ]
  },
  {
   "cell_type": "code",
   "execution_count": null,
   "metadata": {},
   "outputs": [],
   "source": [
    "model.terminal.add(Node(14, Point(3.0, -2.0)))"
   ]
  },
  {
   "cell_type": "markdown",
   "metadata": {},
   "source": [
    "Setup the edges:\n"
   ]
  },
  {
   "cell_type": "code",
   "execution_count": null,
   "metadata": {},
   "outputs": [],
   "source": [
    "model.edge.add(model.basin[1], model.manning_resistance[2], \"flow\")\n",
    "model.edge.add(model.manning_resistance[2], model.basin[3], \"flow\")\n",
    "model.edge.add(model.basin[3], model.tabulated_rating_curve[4], \"flow\")\n",
    "model.edge.add(model.tabulated_rating_curve[4], model.fractional_flow[5], \"flow\")\n",
    "model.edge.add(model.tabulated_rating_curve[4], model.fractional_flow[8], \"flow\")\n",
    "model.edge.add(model.fractional_flow[5], model.basin[6], \"flow\")\n",
    "model.edge.add(model.basin[6], model.pump[7], \"flow\")\n",
    "model.edge.add(model.fractional_flow[8], model.basin[9], \"flow\")\n",
    "model.edge.add(model.pump[7], model.basin[9], \"flow\")\n",
    "model.edge.add(model.basin[9], model.linear_resistance[10], \"flow\")\n",
    "model.edge.add(model.level_boundary[11], model.linear_resistance[12], \"flow\")\n",
    "model.edge.add(model.linear_resistance[12], model.basin[3], \"flow\")\n",
    "model.edge.add(model.tabulated_rating_curve[4], model.fractional_flow[13], \"flow\")\n",
    "model.edge.add(model.fractional_flow[13], model.terminal[14], \"flow\")\n",
    "model.edge.add(model.flow_boundary[15], model.basin[6], \"flow\")\n",
    "model.edge.add(model.flow_boundary[16], model.basin[1], \"flow\")\n",
    "model.edge.add(model.linear_resistance[10], model.level_boundary[17], \"flow\")"
   ]
  },
  {
   "attachments": {},
   "cell_type": "markdown",
   "metadata": {},
   "source": [
    "Let's take a look at the model:\n"
   ]
  },
  {
   "cell_type": "code",
   "execution_count": null,
   "metadata": {},
   "outputs": [],
   "source": [
    "model.plot()"
   ]
  },
  {
   "attachments": {},
   "cell_type": "markdown",
   "metadata": {},
   "source": [
    "Write the model to a TOML and GeoPackage:\n"
   ]
  },
  {
   "cell_type": "code",
   "execution_count": null,
   "metadata": {},
   "outputs": [],
   "source": [
    "model.write(datadir / \"basic/ribasim.toml\")"
   ]
  },
  {
   "cell_type": "code",
   "execution_count": null,
   "metadata": {},
   "outputs": [],
   "source": [
    "# | include: false\n",
    "from subprocess import run\n",
    "\n",
    "run(\n",
    "    [\n",
    "        \"julia\",\n",
    "        \"--project=../../core\",\n",
    "        \"--eval\",\n",
    "        f'using Ribasim; Ribasim.main(\"{datadir.as_posix()}/basic/ribasim.toml\")',\n",
    "    ],\n",
    "    check=True,\n",
    ")"
   ]
  },
  {
   "attachments": {},
   "cell_type": "markdown",
   "metadata": {},
   "source": [
    "Now run the model with `ribasim basic/ribasim.toml`.\n",
    "After running the model, read back the results:\n"
   ]
  },
  {
   "cell_type": "code",
   "execution_count": null,
   "metadata": {},
   "outputs": [],
   "source": [
    "df_basin = pd.read_feather(datadir / \"basic/results/basin.arrow\")\n",
    "df_basin_wide = df_basin.pivot_table(\n",
    "    index=\"time\", columns=\"node_id\", values=[\"storage\", \"level\"]\n",
    ")\n",
    "df_basin_wide[\"level\"].plot()"
   ]
  },
  {
   "cell_type": "code",
   "execution_count": null,
   "metadata": {},
   "outputs": [],
   "source": [
    "df_flow = pd.read_feather(datadir / \"basic/results/flow.arrow\")\n",
    "df_flow[\"edge\"] = list(zip(df_flow.from_node_id, df_flow.to_node_id))\n",
    "df_flow[\"flow_m3d\"] = df_flow.flow_rate * 86400\n",
    "ax = df_flow.pivot_table(index=\"time\", columns=\"edge\", values=\"flow_m3d\").plot()\n",
    "ax.legend(bbox_to_anchor=(1.3, 1), title=\"Edge\")"
   ]
  },
  {
   "attachments": {},
   "cell_type": "markdown",
   "metadata": {},
   "source": [
    "# Model with discrete control\n",
    "\n",
    "The model constructed below consists of a single basin which slowly drains trough a `TabulatedRatingCurve`, but is held within a range around a target level (setpoint) by two connected pumps. These two pumps behave like a reversible pump. When pumping can be done in only one direction, and the other direction is only possible under gravity, use an Outlet for that direction.\n"
   ]
  },
  {
   "attachments": {},
   "cell_type": "markdown",
   "metadata": {},
   "source": [
    "Setup the basins:\n"
   ]
  },
  {
   "cell_type": "code",
   "execution_count": null,
   "metadata": {},
   "outputs": [],
   "source": [
    "model = Model(starttime=\"2020-01-01\", endtime=\"2021-01-01\")"
   ]
  },
  {
   "cell_type": "code",
   "execution_count": null,
   "metadata": {},
   "outputs": [],
   "source": [
    "model.basin.add(\n",
    "    Node(1, Point(0.0, 0.0)),\n",
    "    [\n",
    "        basin.Profile(area=[1000.0, 1000.0], level=[0.0, 1.0]),\n",
    "        basin.State(level=[20.0]),\n",
    "    ],\n",
    ")"
   ]
  },
  {
   "attachments": {},
   "cell_type": "markdown",
   "metadata": {},
   "source": [
    "Setup the discrete control:\n"
   ]
  },
  {
   "cell_type": "code",
   "execution_count": null,
   "metadata": {},
   "outputs": [],
   "source": [
    "model.discrete_control.add(\n",
    "    Node(7, Point(1.0, 0.0)),\n",
    "    [\n",
    "        discrete_control.Condition(\n",
    "            listen_node_id=[1, 1, 1],\n",
    "            listen_node_type=[\"Basin\", \"Basin\", \"Basin\"],\n",
    "            variable=[\"level\", \"level\", \"level\"],\n",
    "            greater_than=[5.0, 10.0, 15.0],\n",
    "        ),\n",
    "        discrete_control.Logic(\n",
    "            truth_state=[\"FFF\", \"U**\", \"T*F\", \"**D\", \"TTT\"],\n",
    "            control_state=[\"in\", \"in\", \"none\", \"out\", \"out\"],\n",
    "        ),\n",
    "    ],\n",
    ")"
   ]
  },
  {
   "cell_type": "markdown",
   "metadata": {},
   "source": [
    "The above control logic can be summarized as follows:\n",
    "\n",
    "- If the level gets above the maximum, activate the control state \"out\" until the setpoint is reached;\n",
    "- If the level gets below the minimum, active the control state \"in\" until the setpoint is reached;\n",
    "- Otherwise activate the control state \"none\".\n"
   ]
  },
  {
   "attachments": {},
   "cell_type": "markdown",
   "metadata": {},
   "source": [
    "Setup the pump:\n"
   ]
  },
  {
   "cell_type": "code",
   "execution_count": null,
   "metadata": {},
   "outputs": [],
   "source": [
    "model.pump.add(\n",
    "    Node(2, Point(1.0, 1.0)),\n",
    "    [pump.Static(control_state=[\"none\", \"in\", \"out\"], flow_rate=[0.0, 2e-3, 0.0])],\n",
    ")\n",
    "model.pump.add(\n",
    "    Node(3, Point(1.0, -1.0)),\n",
    "    [pump.Static(control_state=[\"none\", \"in\", \"out\"], flow_rate=[0.0, 0.0, 2e-3])],\n",
    ")"
   ]
  },
  {
   "cell_type": "markdown",
   "metadata": {},
   "source": [
    "The pump data defines the following:\n",
    "\n",
    "| Control state | Pump #2 flow rate (m/s) | Pump #3 flow rate (m/s) |\n",
    "| ------------- | ----------------------- | ----------------------- |\n",
    "| \"none\"        | 0.0                     | 0.0                     |\n",
    "| \"in\"          | 2e-3                    | 0.0                     |\n",
    "| \"out\"         | 0.0                     | 2e-3                    |\n"
   ]
  },
  {
   "cell_type": "markdown",
   "metadata": {},
   "source": [
    "Setup the level boundary:\n"
   ]
  },
  {
   "cell_type": "code",
   "execution_count": null,
   "metadata": {},
   "outputs": [],
   "source": [
    "model.level_boundary.add(\n",
    "    Node(4, Point(2.0, 0.0)), [level_boundary.Static(level=[10.0])]\n",
    ")"
   ]
  },
  {
   "cell_type": "markdown",
   "metadata": {},
   "source": [
    "Setup the rating curve:\n"
   ]
  },
  {
   "cell_type": "code",
   "execution_count": null,
   "metadata": {},
   "outputs": [],
   "source": [
    "model.tabulated_rating_curve.add(\n",
    "    Node(5, Point(-1.0, 0.0)),\n",
    "    [tabulated_rating_curve.Static(level=[2.0, 15.0], flow_rate=[0.0, 1e-3])],\n",
    ")"
   ]
  },
  {
   "attachments": {},
   "cell_type": "markdown",
   "metadata": {},
   "source": [
    "Setup the terminal:\n"
   ]
  },
  {
   "cell_type": "code",
   "execution_count": null,
   "metadata": {},
   "outputs": [],
   "source": [
    "model.terminal.add(Node(6, Point(-2.0, 0.0)))"
   ]
  },
  {
   "attachments": {},
   "cell_type": "markdown",
   "metadata": {},
   "source": [
    "Setup edges:\n"
   ]
  },
  {
   "cell_type": "code",
   "execution_count": null,
   "metadata": {},
   "outputs": [],
   "source": [
    "model.edge.add(model.basin[1], model.pump[3], \"flow\")\n",
    "model.edge.add(model.pump[3], model.level_boundary[4], \"flow\")\n",
    "model.edge.add(model.level_boundary[4], model.pump[2], \"flow\")\n",
    "model.edge.add(model.pump[2], model.basin[1], \"flow\")\n",
    "model.edge.add(model.basin[1], model.tabulated_rating_curve[5], \"flow\")\n",
    "model.edge.add(model.tabulated_rating_curve[5], model.terminal[6], \"flow\")\n",
    "model.edge.add(model.discrete_control[7], model.pump[2], \"control\")\n",
    "model.edge.add(model.discrete_control[7], model.pump[3], \"control\")"
   ]
  },
  {
   "attachments": {},
   "cell_type": "markdown",
   "metadata": {},
   "source": [
    "Let’s take a look at the model:\n"
   ]
  },
  {
   "cell_type": "code",
   "execution_count": null,
   "metadata": {},
   "outputs": [],
   "source": [
    "model.plot()"
   ]
  },
  {
   "attachments": {},
   "cell_type": "markdown",
   "metadata": {},
   "source": [
    "Listen edges are plotted with a dashed line since they are not present in the \"Edge / static\" schema but only in the \"Control / condition\" schema.\n"
   ]
  },
  {
   "cell_type": "code",
   "execution_count": null,
   "metadata": {},
   "outputs": [],
   "source": [
    "datadir = Path(\"data\")\n",
    "model.write(datadir / \"level_setpoint_with_minmax/ribasim.toml\")"
   ]
  },
  {
   "cell_type": "code",
   "execution_count": null,
   "metadata": {},
   "outputs": [],
   "source": [
    "# | include: false\n",
    "from subprocess import run\n",
    "\n",
    "run(\n",
    "    [\n",
    "        \"julia\",\n",
    "        \"--project=../../core\",\n",
    "        \"--eval\",\n",
    "        f'using Ribasim; Ribasim.main(\"{datadir.as_posix()}/level_setpoint_with_minmax/ribasim.toml\")',\n",
    "    ],\n",
    "    check=True,\n",
    ")"
   ]
  },
  {
   "cell_type": "markdown",
   "metadata": {},
   "source": [
    "Now run the model with `level_setpoint_with_minmax/ribasim.toml`.\n",
    "After running the model, read back the results:\n"
   ]
  },
  {
   "cell_type": "code",
   "execution_count": null,
   "metadata": {},
   "outputs": [],
   "source": [
    "from matplotlib.dates import date2num\n",
    "\n",
    "df_basin = pd.read_feather(datadir / \"level_setpoint_with_minmax/results/basin.arrow\")\n",
    "df_basin_wide = df_basin.pivot_table(\n",
    "    index=\"time\", columns=\"node_id\", values=[\"storage\", \"level\"]\n",
    ")\n",
    "\n",
    "ax = df_basin_wide[\"level\"].plot()\n",
    "\n",
    "greater_than = model.discrete_control.condition.df.greater_than\n",
    "\n",
    "ax.hlines(\n",
    "    greater_than,\n",
    "    df_basin.time[0],\n",
    "    df_basin.time.max(),\n",
    "    lw=1,\n",
    "    ls=\"--\",\n",
    "    color=\"k\",\n",
    ")\n",
    "\n",
    "df_control = pd.read_feather(\n",
    "    datadir / \"level_setpoint_with_minmax/results/control.arrow\"\n",
    ")\n",
    "\n",
    "y_min, y_max = ax.get_ybound()\n",
    "ax.fill_between(df_control.time[:2], 2 * [y_min], 2 * [y_max], alpha=0.2, color=\"C0\")\n",
    "ax.fill_between(df_control.time[2:4], 2 * [y_min], 2 * [y_max], alpha=0.2, color=\"C0\")\n",
    "\n",
    "ax.set_xticks(\n",
    "    date2num(df_control.time).tolist(),\n",
    "    df_control.control_state.tolist(),\n",
    "    rotation=50,\n",
    ")\n",
    "\n",
    "ax.set_yticks(greater_than, [\"min\", \"setpoint\", \"max\"])\n",
    "ax.set_ylabel(\"level\")\n",
    "plt.show()"
   ]
  },
  {
   "cell_type": "markdown",
   "metadata": {},
   "source": [
    "The highlighted regions show where a pump is active.\n"
   ]
  },
  {
   "cell_type": "markdown",
   "metadata": {},
   "source": [
    "# Model with PID control\n"
   ]
  },
  {
   "cell_type": "markdown",
   "metadata": {},
   "source": [
    "Set up the model:\n"
   ]
  },
  {
   "cell_type": "code",
   "execution_count": null,
   "metadata": {},
   "outputs": [],
   "source": [
    "model = Model(\n",
    "    starttime=\"2020-01-01\",\n",
    "    endtime=\"2020-12-01\",\n",
    ")"
   ]
  },
  {
   "cell_type": "markdown",
   "metadata": {},
   "source": [
    "Setup the basins:\n"
   ]
  },
  {
   "cell_type": "code",
   "execution_count": null,
   "metadata": {},
   "outputs": [],
   "source": [
    "model.basin.add(\n",
    "    Node(2, Point(1.0, 0.0)),\n",
    "    [basin.Profile(area=[1000.0, 1000.0], level=[0.0, 1.0]), basin.State(level=[6.0])],\n",
    ")"
   ]
  },
  {
   "cell_type": "markdown",
   "metadata": {},
   "source": [
    "Setup the pump:\n"
   ]
  },
  {
   "cell_type": "code",
   "execution_count": null,
   "metadata": {},
   "outputs": [],
   "source": [
    "model.pump.add(\n",
    "    Node(3, Point(2.0, 0.5)),\n",
    "    [pump.Static(flow_rate=[0.0])],  # Will be overwritten by PID controller\n",
    ")"
   ]
  },
  {
   "cell_type": "markdown",
   "metadata": {},
   "source": [
    "Setup the outlet:\n"
   ]
  },
  {
   "cell_type": "code",
   "execution_count": null,
   "metadata": {},
   "outputs": [],
   "source": [
    "model.outlet.add(\n",
    "    Node(6, Point(2.0, -0.5)),\n",
    "    [outlet.Static(flow_rate=[0.0])],  # Will be overwritten by PID controller\n",
    ")"
   ]
  },
  {
   "cell_type": "markdown",
   "metadata": {},
   "source": [
    "Setup flow boundary:\n"
   ]
  },
  {
   "cell_type": "code",
   "execution_count": null,
   "metadata": {},
   "outputs": [],
   "source": [
    "model.flow_boundary.add(\n",
    "    Node(1, Point(0.0, 0.0)),\n",
    "    [flow_boundary.Static(flow_rate=[1e-3])],\n",
    ")"
   ]
  },
  {
   "cell_type": "markdown",
   "metadata": {},
   "source": [
    "Setup flow boundary:\n"
   ]
  },
  {
   "cell_type": "code",
   "execution_count": null,
   "metadata": {},
   "outputs": [],
   "source": [
    "model.level_boundary.add(\n",
    "    Node(4, Point(3.0, 0.0)),\n",
    "    [level_boundary.Static(level=[1])],\n",
    ")"
   ]
  },
  {
   "cell_type": "markdown",
   "metadata": {},
   "source": [
    "Setup PID control:\n"
   ]
  },
  {
   "cell_type": "code",
   "execution_count": null,
   "metadata": {},
   "outputs": [],
   "source": [
    "model.pid_control.add(\n",
    "    Node(5, Point(1.5, 1.0)),\n",
    "    [\n",
    "        pid_control.Time(\n",
    "            time=[\n",
    "                \"2020-01-01\",\n",
    "                \"2020-05-01\",\n",
    "                \"2020-07-01\",\n",
    "                \"2020-12-01\",\n",
    "            ],\n",
    "            listen_node_id=[2, 2, 2, 2],\n",
    "            listen_node_type=[\"Basin\", \"Basin\", \"Basin\", \"Basin\"],\n",
    "            target=[5.0, 5.0, 7.5, 7.5],\n",
    "            proportional=[-1e-3, 1e-3, 1e-3, 1e-3],\n",
    "            integral=[-1e-7, 1e-7, -1e-7, 1e-7],\n",
    "            derivative=[0.0, 0.0, 0.0, 0.0],\n",
    "        )\n",
    "    ],\n",
    ")\n",
    "model.pid_control.add(\n",
    "    Node(7, Point(1.5, -1.0)),\n",
    "    [\n",
    "        pid_control.Time(\n",
    "            time=[\n",
    "                \"2020-01-01\",\n",
    "                \"2020-05-01\",\n",
    "                \"2020-07-01\",\n",
    "                \"2020-12-01\",\n",
    "            ],\n",
    "            listen_node_id=[2, 2, 2, 2],\n",
    "            listen_node_type=[\"Basin\", \"Basin\", \"Basin\", \"Basin\"],\n",
    "            target=[5.0, 5.0, 7.5, 7.5],\n",
    "            proportional=[-1e-3, 1e-3, 1e-3, 1e-3],\n",
    "            integral=[-1e-7, 1e-7, -1e-7, 1e-7],\n",
    "            derivative=[0.0, 0.0, 0.0, 0.0],\n",
    "        )\n",
    "    ],\n",
    ")"
   ]
  },
  {
   "cell_type": "markdown",
   "metadata": {},
   "source": [
    "Note that the coefficients for the pump and the outlet are equal in magnitude but opposite in sign. This way the pump and the outlet equally work towards the same goal, while having opposite effects on the controlled basin due to their connectivity to this basin.\n"
   ]
  },
  {
   "cell_type": "markdown",
   "metadata": {},
   "source": [
    "Setup the edges:\n"
   ]
  },
  {
   "cell_type": "code",
   "execution_count": null,
   "metadata": {},
   "outputs": [],
   "source": [
    "model.edge.add(model.flow_boundary[1], model.basin[2], \"flow\")\n",
    "model.edge.add(model.basin[2], model.pump[3], \"flow\")\n",
    "model.edge.add(model.pump[3], model.level_boundary[4], \"flow\")\n",
    "model.edge.add(model.level_boundary[4], model.outlet[6], \"flow\")\n",
    "model.edge.add(model.outlet[6], model.basin[2], \"flow\")\n",
    "model.edge.add(model.pid_control[5], model.pump[3], \"control\")\n",
    "model.edge.add(model.pid_control[7], model.outlet[6], \"control\")"
   ]
  },
  {
   "cell_type": "markdown",
   "metadata": {},
   "source": [
    "Let's take a look at the model:\n"
   ]
  },
  {
   "cell_type": "code",
   "execution_count": null,
   "metadata": {},
   "outputs": [],
   "source": [
    "model.plot()"
   ]
  },
  {
   "cell_type": "markdown",
   "metadata": {},
   "source": [
    "Write the model to a TOML and GeoPackage:\n"
   ]
  },
  {
   "cell_type": "code",
   "execution_count": null,
   "metadata": {},
   "outputs": [],
   "source": [
    "datadir = Path(\"data\")\n",
    "model.write(datadir / \"pid_control/ribasim.toml\")"
   ]
  },
  {
   "cell_type": "code",
   "execution_count": null,
   "metadata": {},
   "outputs": [],
   "source": [
    "# | include: false\n",
    "from subprocess import run\n",
    "\n",
    "run(\n",
    "    [\n",
    "        \"julia\",\n",
    "        \"--project=../../core\",\n",
    "        \"--eval\",\n",
    "        f'using Ribasim; Ribasim.main(\"{datadir.as_posix()}/pid_control/ribasim.toml\")',\n",
    "    ],\n",
    "    check=True,\n",
    ")"
   ]
  },
  {
   "cell_type": "markdown",
   "metadata": {},
   "source": [
    "Now run the model with `ribasim pid_control/ribasim.toml`.\n",
    "After running the model, read back the results:\n"
   ]
  },
  {
   "cell_type": "code",
   "execution_count": null,
   "metadata": {},
   "outputs": [],
   "source": [
    "from matplotlib.dates import date2num\n",
    "\n",
    "df_basin = pd.read_feather(datadir / \"pid_control/results/basin.arrow\")\n",
    "df_basin_wide = df_basin.pivot_table(\n",
    "    index=\"time\", columns=\"node_id\", values=[\"storage\", \"level\"]\n",
    ")\n",
    "ax = df_basin_wide[\"level\"].plot()\n",
    "ax.set_ylabel(\"level [m]\")\n",
    "\n",
    "# Plot target level\n",
    "level_demands = model.pid_control.time.df.target.to_numpy()[:4]\n",
    "times = date2num(model.pid_control.time.df.time)[:4]\n",
    "ax.plot(times, level_demands, color=\"k\", ls=\":\", label=\"target level\")\n",
    "pass"
   ]
  },
  {
   "cell_type": "markdown",
   "metadata": {},
   "source": [
    "# Model with allocation (user demand)\n"
   ]
  },
  {
   "cell_type": "markdown",
   "metadata": {},
   "source": [
    "Setup a model:\n"
   ]
  },
  {
   "cell_type": "code",
   "execution_count": null,
   "metadata": {},
   "outputs": [],
   "source": [
    "model = Model(\n",
    "    starttime=\"2020-01-01\",\n",
    "    endtime=\"2020-01-20\",\n",
    ")"
   ]
  },
  {
   "cell_type": "markdown",
   "metadata": {},
   "source": [
    "Setup the basins:\n"
   ]
  },
  {
   "cell_type": "code",
   "execution_count": null,
   "metadata": {},
   "outputs": [],
   "source": [
    "basin_data = [\n",
    "    basin.Profile(area=[300_000.0, 300_000.0], level=[0.0, 1.0]),\n",
    "    basin.State(level=[1.0]),\n",
    "]\n",
    "\n",
    "model.basin.add(\n",
    "    Node(2, Point(1.0, 0.0), subnetwork_id=1),\n",
    "    basin_data,\n",
    ")\n",
    "model.basin.add(\n",
    "    Node(5, Point(3.0, 0.0), subnetwork_id=1),\n",
    "    basin_data,\n",
    ")\n",
    "model.basin.add(\n",
    "    Node(12, Point(4.5, 1.0), subnetwork_id=1),\n",
    "    basin_data,\n",
    ")"
   ]
  },
  {
   "cell_type": "markdown",
   "metadata": {},
   "source": [
    "Setup the flow boundary:\n"
   ]
  },
  {
   "cell_type": "code",
   "execution_count": null,
   "metadata": {},
   "outputs": [],
   "source": [
    "model.flow_boundary.add(\n",
    "    Node(1, Point(0.0, 0.0), subnetwork_id=1), [flow_boundary.Static(flow_rate=[2.0])]\n",
    ")"
   ]
  },
  {
   "cell_type": "markdown",
   "metadata": {},
   "source": [
    "Setup the linear resistance:\n"
   ]
  },
  {
   "cell_type": "code",
   "execution_count": null,
   "metadata": {},
   "outputs": [],
   "source": [
    "model.linear_resistance.add(\n",
    "    Node(4, Point(2.0, 0.0), subnetwork_id=1),\n",
    "    [linear_resistance.Static(resistance=[0.06])],\n",
    ")"
   ]
  },
  {
   "cell_type": "markdown",
   "metadata": {},
   "source": [
    "Setup the tabulated rating curve:\n"
   ]
  },
  {
   "cell_type": "code",
   "execution_count": null,
   "metadata": {},
   "outputs": [],
   "source": [
    "model.tabulated_rating_curve.add(\n",
    "    Node(7, Point(4.0, 0.0), subnetwork_id=1),\n",
    "    [tabulated_rating_curve.Static(level=[0.0, 0.5, 1.0], flow_rate=[0.0, 0.0, 2.0])],\n",
    ")"
   ]
  },
  {
   "cell_type": "markdown",
   "metadata": {},
   "source": [
    "Setup the fractional flow:\n"
   ]
  },
  {
   "cell_type": "code",
   "execution_count": null,
   "metadata": {},
   "outputs": [],
   "source": [
    "model.fractional_flow.add(\n",
    "    Node(8, Point(4.5, 0.0), subnetwork_id=1),\n",
    "    [fractional_flow.Static(fraction=[0.6, 0.9], control_state=[\"divert\", \"close\"])],\n",
    ")\n",
    "model.fractional_flow.add(\n",
    "    Node(9, Point(4.5, 0.5), subnetwork_id=1),\n",
    "    [fractional_flow.Static(fraction=[0.4, 0.1], control_state=[\"divert\", \"close\"])],\n",
    ")"
   ]
  },
  {
   "cell_type": "markdown",
   "metadata": {},
   "source": [
    "Setup the terminal:\n"
   ]
  },
  {
   "cell_type": "code",
   "execution_count": null,
   "metadata": {},
   "outputs": [],
   "source": [
    "model.terminal.add(Node(10, Point(5.0, 0.0), subnetwork_id=1))"
   ]
  },
  {
   "cell_type": "markdown",
   "metadata": {},
   "source": [
    "Setup the discrete control:\n"
   ]
  },
  {
   "cell_type": "code",
   "execution_count": null,
   "metadata": {},
   "outputs": [],
   "source": [
    "model.discrete_control.add(\n",
    "    Node(11, Point(4.5, 0.25), subnetwork_id=1),\n",
    "    [\n",
    "        discrete_control.Condition(\n",
    "            listen_node_id=[5],\n",
    "            listen_node_type=[\"Basin\"],\n",
    "            variable=[\"level\"],\n",
    "            greater_than=[0.52],\n",
    "        ),\n",
    "        discrete_control.Logic(\n",
    "            truth_state=[\"T\", \"F\"], control_state=[\"divert\", \"close\"]\n",
    "        ),\n",
    "    ],\n",
    ")"
   ]
  },
  {
   "cell_type": "markdown",
   "metadata": {},
   "source": [
    "Setup the users:\n"
   ]
  },
  {
   "cell_type": "code",
   "execution_count": null,
   "metadata": {},
   "outputs": [],
   "source": [
    "model.user_demand.add(\n",
    "    Node(6, Point(3.0, 1.0), subnetwork_id=1),\n",
    "    [\n",
    "        user_demand.Static(\n",
    "            demand=[1.5], return_factor=[0.0], min_level=[-1.0], priority=[1]\n",
    "        )\n",
    "    ],\n",
    ")\n",
    "model.user_demand.add(\n",
    "    Node(13, Point(5.0, 1.0), subnetwork_id=1),\n",
    "    [\n",
    "        user_demand.Static(\n",
    "            demand=[1.0], return_factor=[0.0], min_level=[-1.0], priority=[3]\n",
    "        )\n",
    "    ],\n",
    ")\n",
    "model.user_demand.add(\n",
    "    Node(3, Point(1.0, 1.0), subnetwork_id=1),\n",
    "    [\n",
    "        user_demand.Time(\n",
    "            demand=[0.0, 1.0, 1.2, 1.2],\n",
    "            return_factor=[0.0, 0.0, 0.0, 0.0],\n",
    "            min_level=[-1.0, -1.0, -1.0, -1.0],\n",
    "            priority=[1, 1, 2, 2],\n",
    "            time=2 * [\"2020-01-01\", \"2020-01-20\"],\n",
    "        )\n",
    "    ],\n",
    ")"
   ]
  },
  {
   "cell_type": "markdown",
   "metadata": {},
   "source": [
    "Setup the allocation:\n"
   ]
  },
  {
   "cell_type": "code",
   "execution_count": null,
   "metadata": {},
   "outputs": [],
   "source": [
    "model.allocation = ribasim.Allocation(use_allocation=True, timestep=86400)"
   ]
  },
  {
   "cell_type": "markdown",
   "metadata": {},
   "source": [
    "Setup the edges:\n"
   ]
  },
  {
   "cell_type": "code",
   "execution_count": null,
   "metadata": {},
   "outputs": [],
   "source": [
    "model.edge.add(model.flow_boundary[1], model.basin[2], \"flow\", subnetwork_id=1)\n",
    "model.edge.add(model.basin[2], model.user_demand[3], \"flow\")\n",
    "model.edge.add(model.basin[2], model.linear_resistance[4], \"flow\")\n",
    "model.edge.add(model.linear_resistance[4], model.basin[5], \"flow\")\n",
    "model.edge.add(model.basin[5], model.user_demand[6], \"flow\")\n",
    "model.edge.add(model.basin[5], model.tabulated_rating_curve[7], \"flow\")\n",
    "model.edge.add(model.tabulated_rating_curve[7], model.fractional_flow[8], \"flow\")\n",
    "model.edge.add(model.user_demand[3], model.basin[2], \"flow\")\n",
    "model.edge.add(model.user_demand[6], model.basin[5], \"flow\")\n",
    "model.edge.add(model.tabulated_rating_curve[7], model.fractional_flow[9], \"flow\")\n",
    "model.edge.add(model.fractional_flow[8], model.terminal[10], \"flow\")\n",
    "model.edge.add(model.fractional_flow[9], model.basin[12], \"flow\")\n",
    "model.edge.add(model.basin[12], model.user_demand[13], \"flow\")\n",
    "model.edge.add(model.user_demand[13], model.terminal[10], \"flow\")\n",
    "model.edge.add(model.discrete_control[11], model.fractional_flow[8], \"control\")\n",
    "model.edge.add(model.discrete_control[11], model.fractional_flow[9], \"control\")"
   ]
  },
  {
   "cell_type": "markdown",
   "metadata": {},
   "source": [
    "Let's take a look at the model:\n"
   ]
  },
  {
   "cell_type": "code",
   "execution_count": null,
   "metadata": {},
   "outputs": [],
   "source": [
    "model.plot()"
   ]
  },
  {
   "cell_type": "markdown",
   "metadata": {},
   "source": [
    "Write the model to a TOML and GeoPackage:\n"
   ]
  },
  {
   "cell_type": "code",
   "execution_count": null,
   "metadata": {},
   "outputs": [],
   "source": [
    "datadir = Path(\"data\")\n",
    "model.write(datadir / \"allocation_example/ribasim.toml\")"
   ]
  },
  {
   "cell_type": "code",
   "execution_count": null,
   "metadata": {},
   "outputs": [],
   "source": [
    "# | include: false\n",
    "from subprocess import run\n",
    "\n",
    "run(\n",
    "    [\n",
    "        \"julia\",\n",
    "        \"--project=../../core\",\n",
    "        \"--eval\",\n",
    "        f'using Ribasim; Ribasim.main(\"{datadir.as_posix()}/allocation_example/ribasim.toml\")',\n",
    "    ],\n",
    "    check=True,\n",
    ")"
   ]
  },
  {
   "cell_type": "markdown",
   "metadata": {},
   "source": [
    "Now run the model with `ribasim allocation_example/ribasim.toml`.\n",
    "After running the model, read back the results:\n"
   ]
  },
  {
   "cell_type": "code",
   "execution_count": null,
   "metadata": {},
   "outputs": [],
   "source": [
    "import matplotlib.ticker as plticker\n",
    "\n",
    "df_allocation = pd.read_feather(datadir / \"allocation_example/results/allocation.arrow\")\n",
    "df_allocation_wide = df_allocation.pivot_table(\n",
    "    index=\"time\",\n",
    "    columns=[\"node_type\", \"node_id\", \"priority\"],\n",
    "    values=[\"demand\", \"allocated\", \"realized\"],\n",
    ")\n",
    "df_allocation_wide = df_allocation_wide.loc[:, (df_allocation_wide != 0).any(axis=0)]\n",
    "\n",
    "fig, axs = plt.subplots(1, 3, figsize=(8, 5))\n",
    "\n",
    "df_allocation_wide[\"demand\"].plot(ax=axs[0], ls=\":\")\n",
    "df_allocation_wide[\"allocated\"].plot(ax=axs[1], ls=\"--\")\n",
    "df_allocation_wide[\"realized\"].plot(ax=axs[2])\n",
    "\n",
    "fig.tight_layout()\n",
    "loc = plticker.MultipleLocator(2)\n",
    "\n",
    "axs[0].set_ylabel(\"level [m]\")\n",
    "\n",
    "for ax, title in zip(axs, [\"Demand\", \"Allocated\", \"Abstracted\"]):\n",
    "    ax.set_title(title)\n",
    "    ax.set_ylim(0.0, 1.6)\n",
    "    ax.xaxis.set_major_locator(loc)"
   ]
  },
  {
   "cell_type": "markdown",
   "metadata": {},
   "source": [
    "Some things to note about this plot:\n",
    "\n",
    "- Abstraction behaves somewhat erratically at the start of the simulation. This is because allocation is based on flows computed in the physical layer, and at the start of the simulation these are not known yet.\n",
    "\n",
    "- Although there is a plotted line for abstraction per priority, abstraction is actually accumulated over all priorities per user.\n"
   ]
  },
  {
   "cell_type": "code",
   "execution_count": null,
   "metadata": {},
   "outputs": [],
   "source": [
    "df_basin = pd.read_feather(datadir / \"allocation_example/results/basin.arrow\")\n",
    "df_basin_wide = df_basin.pivot_table(\n",
    "    index=\"time\", columns=\"node_id\", values=[\"storage\", \"level\"]\n",
    ")\n",
    "\n",
    "ax = df_basin_wide[\"level\"].plot()\n",
    "ax.set_title(\"Basin levels\")\n",
    "ax.set_ylabel(\"level [m]\")"
   ]
  },
  {
   "cell_type": "markdown",
   "metadata": {},
   "source": [
    "# Model with allocation (basin supply/demand)\n"
   ]
  },
  {
   "cell_type": "markdown",
   "metadata": {},
   "source": [
    "Setup a model:\n"
   ]
  },
  {
   "cell_type": "code",
   "execution_count": null,
   "metadata": {},
   "outputs": [],
   "source": [
    "model = ribasim.Model(\n",
    "    starttime=\"2020-01-01\",\n",
    "    endtime=\"2020-02-01\",\n",
    ")"
   ]
  },
  {
   "cell_type": "markdown",
   "metadata": {},
   "source": [
    "Setup the basins:\n"
   ]
  },
  {
   "cell_type": "code",
   "execution_count": null,
   "metadata": {},
   "outputs": [],
   "source": [
    "basin_data = [\n",
    "    basin.Profile(area=[1e3, 1e3], level=[0.0, 1.0]),\n",
    "    basin.State(level=[0.5]),\n",
    "]\n",
    "model.basin.add(\n",
    "    Node(2, Point(1.0, 0.0)),\n",
    "    [\n",
    "        *basin_data,\n",
    "        basin.Time(\n",
    "            time=[\"2020-01-01\", \"2020-01-16\"],\n",
    "            drainage=[0.0, 0.0],\n",
    "            potential_evaporation=[0.0, 0.0],\n",
    "            infiltration=[0.0, 0.0],\n",
    "            precipitation=[1e-6, 0.0],\n",
    "            urban_runoff=[0.0, 0.0],\n",
    "        ),\n",
    "    ],\n",
    ")\n",
    "model.basin.add(\n",
    "    Node(5, Point(2.0, -1.0)),\n",
    "    [\n",
    "        *basin_data,\n",
    "        basin.Static(\n",
    "            drainage=[0.0],\n",
    "            potential_evaporation=[0.0],\n",
    "            infiltration=[0.0],\n",
    "            precipitation=[0.0],\n",
    "            urban_runoff=[0.0],\n",
    "        ),\n",
    "    ],\n",
    ")\n",
    "profile = pd.DataFrame(\n",
    "    data={\"node_id\": [2, 2, 5, 5], \"area\": 1e3, \"level\": [0.0, 1.0, 0.0, 1.0]}\n",
    ")"
   ]
  },
  {
   "cell_type": "markdown",
   "metadata": {},
   "source": [
    "Setup the flow boundary:\n"
   ]
  },
  {
   "cell_type": "code",
   "execution_count": null,
   "metadata": {},
   "outputs": [],
   "source": [
    "model.flow_boundary.add(\n",
    "    Node(1, Point(0.0, 0.0)), [flow_boundary.Static(flow_rate=[1e-3])]\n",
    ")"
   ]
  },
  {
   "cell_type": "markdown",
   "metadata": {},
   "source": [
    "Setup allocation level control:\n"
   ]
  },
  {
   "cell_type": "code",
   "execution_count": null,
   "metadata": {},
   "outputs": [],
   "source": [
    "model.level_demand.add(\n",
    "    Node(4, Point(1.0, -1.0)),\n",
    "    [level_demand.Static(priority=[1], min_level=[1.0], max_level=[1.5])],\n",
    ")"
   ]
  },
  {
   "cell_type": "markdown",
   "metadata": {},
   "source": [
    "Setup the users:\n"
   ]
  },
  {
   "cell_type": "code",
   "execution_count": null,
   "metadata": {},
   "outputs": [],
   "source": [
    "model.user_demand.add(\n",
    "    Node(3, Point(2.0, 0.0)),\n",
    "    [\n",
    "        user_demand.Static(\n",
    "            priority=[2], demand=[1.5e-3], return_factor=[0.2], min_level=[0.2]\n",
    "        )\n",
    "    ],\n",
    ")"
   ]
  },
  {
   "cell_type": "markdown",
   "metadata": {},
   "source": [
    "Setup the allocation:\n"
   ]
  },
  {
   "cell_type": "code",
   "execution_count": null,
   "metadata": {},
   "outputs": [],
   "source": [
    "model.allocation = ribasim.Allocation(use_allocation=True, timestep=1e5)"
   ]
  },
  {
   "cell_type": "markdown",
   "metadata": {},
   "source": [
    "Setup the edges:\n"
   ]
  },
  {
   "cell_type": "code",
   "execution_count": null,
   "metadata": {},
   "outputs": [],
   "source": [
    "model.edge.add(model.flow_boundary[1], model.basin[2], \"flow\", subnetwork_id=2)\n",
    "model.edge.add(model.basin[2], model.user_demand[3], \"flow\")\n",
    "model.edge.add(model.level_demand[4], model.basin[2], \"control\")\n",
    "model.edge.add(model.user_demand[3], model.basin[5], \"flow\")\n",
    "model.edge.add(model.level_demand[4], model.basin[5], \"control\")"
   ]
  },
  {
   "cell_type": "markdown",
   "metadata": {},
   "source": [
    "Let's take a look at the model:\n"
   ]
  },
  {
   "cell_type": "code",
   "execution_count": null,
   "metadata": {},
   "outputs": [],
   "source": [
    "model.plot()"
   ]
  },
  {
   "cell_type": "markdown",
   "metadata": {},
   "source": [
    "Write the model to a TOML and GeoPackage:\n"
   ]
  },
  {
   "cell_type": "code",
   "execution_count": null,
   "metadata": {},
   "outputs": [],
   "source": [
    "model.write(datadir / \"level_demand/ribasim.toml\")"
   ]
  },
  {
   "cell_type": "code",
   "execution_count": null,
   "metadata": {},
   "outputs": [],
   "source": [
    "# | include: false\n",
    "from subprocess import run\n",
    "\n",
    "run(\n",
    "    [\n",
    "        \"julia\",\n",
    "        \"--project=../../core\",\n",
    "        \"--eval\",\n",
    "        f'using Ribasim; Ribasim.main(\"{datadir.as_posix()}/level_demand/ribasim.toml\")',\n",
    "    ],\n",
    "    check=True,\n",
    ")"
   ]
  },
  {
   "cell_type": "markdown",
   "metadata": {},
   "source": [
    "Now run the model with `ribasim level_demand/ribasim.toml`.\n",
    "After running the model, read back the results:\n"
   ]
  },
  {
   "cell_type": "code",
   "execution_count": null,
   "metadata": {},
   "outputs": [],
   "source": [
    "df_basin = pd.read_feather(datadir / \"level_demand/results/basin.arrow\")\n",
    "df_basin = df_basin[df_basin.node_id == 2]\n",
    "df_basin_wide = df_basin.pivot_table(\n",
    "    index=\"time\", columns=\"node_id\", values=[\"storage\", \"level\"]\n",
    ")\n",
    "ax = df_basin_wide[\"level\"].plot()\n",
    "where_allocation = (\n",
    "    df_basin_wide.index - df_basin_wide.index[0]\n",
    ").total_seconds() % model.allocation.timestep == 0\n",
    "where_allocation[0] = False\n",
    "df_basin_wide[where_allocation][\"level\"].plot(\n",
    "    style=\"o\",\n",
    "    ax=ax,\n",
    ")\n",
    "ax.set_ylabel(\"level [m]\")"
   ]
  },
  {
   "cell_type": "markdown",
   "metadata": {},
   "source": [
    "In the plot above, the line denotes the level of Basin #2 over time and the dots denote the times at which allocation optimization was run, with intervals of $\\Delta t_{\\text{alloc}}$.\n",
    "The Basin level is a piecewise linear function of time, with several stages explained below.\n",
    "\n",
    "Constants:\n",
    "\n",
    "- $d$: UserDemand #3 demand,\n",
    "- $\\phi$: Basin #2 precipitation rate,\n",
    "- $q$: LevelBoundary flow.\n"
   ]
  },
  {
   "cell_type": "markdown",
   "metadata": {},
   "source": [
    "Stages:\n",
    "\n",
    "- In the first stage the UserDemand abstracts fully, so the net change of Basin #2 is $q + \\phi - d$;\n",
    "- In the second stage the Basin takes precedence so the UserDemand doesn't abstract, hence the net change of Basin #2 is $q + \\phi$;\n",
    "- In the third stage (and following stages) the Basin no longer has a positive demand, since precipitation provides enough water to get the Basin to its target level. The FlowBoundary flow gets fully allocated to the UserDemand, hence the net change of Basin #2 is $\\phi$;\n",
    "- In the fourth stage the Basin enters its surplus stage, even though initially the level is below the maximum level. This is because the simulation anticipates that the current precipitation is going to bring the Basin level over its maximum level. The net change of Basin #2 is now $q + \\phi - d$;\n",
    "- At the start of the fifth stage the precipitation stops, and so the UserDemand partly uses surplus water from the Basin to fulfill its demand. The net change of Basin #2 becomes $q - d$.\n",
    "- In the final stage the Basin is in a dynamical equilibrium, since the Basin has no supply so the user abstracts precisely the flow from the LevelBoundary.\n"
   ]
  },
  {
   "cell_type": "markdown",
   "metadata": {},
   "source": []
  }
 ],
 "metadata": {
  "kernelspec": {
   "display_name": "Python 3 (ipykernel)",
   "language": "python",
   "name": "python3"
  },
  "language_info": {
   "codemirror_mode": {
    "name": "ipython",
    "version": 3
   },
   "file_extension": ".py",
   "mimetype": "text/x-python",
   "name": "python",
   "nbconvert_exporter": "python",
   "pygments_lexer": "ipython3",
   "version": "3.11.8"
  }
 },
 "nbformat": 4,
 "nbformat_minor": 4
}
