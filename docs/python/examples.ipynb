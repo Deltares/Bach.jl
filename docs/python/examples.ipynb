{
 "cells": [
  {
   "cell_type": "raw",
   "metadata": {},
   "source": [
    "---\n",
    "title: \"Examples\"\n",
    "---"
   ]
  },
  {
   "attachments": {},
   "cell_type": "markdown",
   "metadata": {},
   "source": [
    "# Basic model with static forcing"
   ]
  },
  {
   "cell_type": "code",
   "execution_count": null,
   "metadata": {},
   "outputs": [],
   "source": [
    "# | include: false\n",
    "import os\n",
    "\n",
    "os.environ[\"USE_PYGEOS\"] = \"0\""
   ]
  },
  {
   "cell_type": "code",
   "execution_count": null,
   "metadata": {},
   "outputs": [],
   "source": [
    "from pathlib import Path\n",
    "\n",
    "import geopandas as gpd\n",
    "import matplotlib.pyplot as plt\n",
    "import numpy as np\n",
    "import pandas as pd\n",
    "import ribasim"
   ]
  },
  {
   "attachments": {},
   "cell_type": "markdown",
   "metadata": {},
   "source": [
    "Setup the basins:"
   ]
  },
  {
   "cell_type": "code",
   "execution_count": null,
   "metadata": {},
   "outputs": [],
   "source": [
    "profile = pd.DataFrame(\n",
    "    data={\n",
    "        \"node_id\": [1, 1, 3, 3, 6, 6, 9, 9],\n",
    "        \"area\": [0.01, 1000.0] * 4,\n",
    "        \"level\": [0.0, 1.0] * 4,\n",
    "    }\n",
    ")\n",
    "\n",
    "# Convert steady forcing to m/s\n",
    "# 2 mm/d precipitation, 1 mm/d evaporation\n",
    "seconds_in_day = 24 * 3600\n",
    "precipitation = 0.002 / seconds_in_day\n",
    "evaporation = 0.001 / seconds_in_day\n",
    "\n",
    "static = pd.DataFrame(\n",
    "    data={\n",
    "        \"node_id\": [0],\n",
    "        \"drainage\": [0.0],\n",
    "        \"potential_evaporation\": [evaporation],\n",
    "        \"infiltration\": [0.0],\n",
    "        \"precipitation\": [precipitation],\n",
    "        \"urban_runoff\": [0.0],\n",
    "    }\n",
    ")\n",
    "static = static.iloc[[0, 0, 0, 0]]\n",
    "static[\"node_id\"] = [1, 3, 6, 9]\n",
    "\n",
    "basin = ribasim.Basin(profile=profile, static=static)"
   ]
  },
  {
   "attachments": {},
   "cell_type": "markdown",
   "metadata": {},
   "source": [
    "Setup linear resistance:"
   ]
  },
  {
   "cell_type": "code",
   "execution_count": null,
   "metadata": {},
   "outputs": [],
   "source": [
    "linear_resistance = ribasim.LinearResistance(\n",
    "    static=pd.DataFrame(\n",
    "        data={\"node_id\": [10, 12], \"resistance\": [5e3, (3600.0 * 24) / 100.0]}\n",
    "    )\n",
    ")"
   ]
  },
  {
   "attachments": {},
   "cell_type": "markdown",
   "metadata": {},
   "source": [
    "Setup Manning resistance:"
   ]
  },
  {
   "cell_type": "code",
   "execution_count": null,
   "metadata": {},
   "outputs": [],
   "source": [
    "manning_resistance = ribasim.ManningResistance(\n",
    "    static=pd.DataFrame(\n",
    "        data={\n",
    "            \"node_id\": [2],\n",
    "            \"length\": [900.0],\n",
    "            \"manning_n\": [0.04],\n",
    "            \"profile_width\": [6.0],\n",
    "            \"profile_slope\": [3.0],\n",
    "        }\n",
    "    )\n",
    ")"
   ]
  },
  {
   "attachments": {},
   "cell_type": "markdown",
   "metadata": {},
   "source": [
    "Set up a rating curve node:"
   ]
  },
  {
   "cell_type": "code",
   "execution_count": null,
   "metadata": {},
   "outputs": [],
   "source": [
    "# Discharge: lose 1% of storage volume per day at storage = 1000.0.\n",
    "q1000 = 1000.0 * 0.01 / seconds_in_day\n",
    "\n",
    "rating_curve = ribasim.TabulatedRatingCurve(\n",
    "    static=pd.DataFrame(\n",
    "        data={\n",
    "            \"node_id\": [4, 4],\n",
    "            \"level\": [0.0, 1.0],\n",
    "            \"discharge\": [0.0, q1000],\n",
    "        }\n",
    "    )\n",
    ")"
   ]
  },
  {
   "attachments": {},
   "cell_type": "markdown",
   "metadata": {},
   "source": [
    "Setup fractional flows:"
   ]
  },
  {
   "cell_type": "code",
   "execution_count": null,
   "metadata": {},
   "outputs": [],
   "source": [
    "fractional_flow = ribasim.FractionalFlow(\n",
    "    static=pd.DataFrame(\n",
    "        data={\n",
    "            \"node_id\": [5, 8, 13],\n",
    "            \"fraction\": [0.3, 0.6, 0.1],\n",
    "        }\n",
    "    )\n",
    ")"
   ]
  },
  {
   "attachments": {},
   "cell_type": "markdown",
   "metadata": {},
   "source": [
    "Setup pump:"
   ]
  },
  {
   "cell_type": "code",
   "execution_count": null,
   "metadata": {},
   "outputs": [],
   "source": [
    "pump = ribasim.Pump(\n",
    "    static=pd.DataFrame(\n",
    "        data={\n",
    "            \"node_id\": [7],\n",
    "            \"flow_rate\": [0.5 / 3600],\n",
    "        }\n",
    "    )\n",
    ")"
   ]
  },
  {
   "attachments": {},
   "cell_type": "markdown",
   "metadata": {},
   "source": [
    "Setup level boundary:"
   ]
  },
  {
   "cell_type": "code",
   "execution_count": null,
   "metadata": {},
   "outputs": [],
   "source": [
    "level_boundary = ribasim.LevelBoundary(\n",
    "    static=pd.DataFrame(\n",
    "        data={\n",
    "            \"node_id\": [11, 17],\n",
    "            \"level\": [0.5, 1.5],\n",
    "        }\n",
    "    )\n",
    ")"
   ]
  },
  {
   "attachments": {},
   "cell_type": "markdown",
   "metadata": {},
   "source": [
    "Setup flow boundary:"
   ]
  },
  {
   "cell_type": "code",
   "execution_count": null,
   "metadata": {},
   "outputs": [],
   "source": [
    "flow_boundary = ribasim.FlowBoundary(\n",
    "    static=pd.DataFrame(\n",
    "        data={\n",
    "            \"node_id\": [15, 16],\n",
    "            \"flow_rate\": [1e-4, 1e-4],\n",
    "        }\n",
    "    )\n",
    ")"
   ]
  },
  {
   "attachments": {},
   "cell_type": "markdown",
   "metadata": {},
   "source": [
    "Setup terminal:"
   ]
  },
  {
   "cell_type": "code",
   "execution_count": null,
   "metadata": {},
   "outputs": [],
   "source": [
    "terminal = ribasim.Terminal(\n",
    "    static=pd.DataFrame(\n",
    "        data={\n",
    "            \"node_id\": [14],\n",
    "        }\n",
    "    )\n",
    ")"
   ]
  },
  {
   "cell_type": "markdown",
   "metadata": {},
   "source": [
    "Set up the nodes:"
   ]
  },
  {
   "cell_type": "code",
   "execution_count": null,
   "metadata": {},
   "outputs": [],
   "source": [
    "xy = np.array(\n",
    "    [\n",
    "        (0.0, 0.0),  # 1: Basin,\n",
    "        (1.0, 0.0),  # 2: ManningResistance\n",
    "        (2.0, 0.0),  # 3: Basin\n",
    "        (3.0, 0.0),  # 4: TabulatedRatingCurve\n",
    "        (3.0, 1.0),  # 5: FractionalFlow\n",
    "        (3.0, 2.0),  # 6: Basin\n",
    "        (4.0, 1.0),  # 7: Pump\n",
    "        (4.0, 0.0),  # 8: FractionalFlow\n",
    "        (5.0, 0.0),  # 9: Basin\n",
    "        (6.0, 0.0),  # 10: LinearResistance\n",
    "        (2.0, 2.0),  # 11: LevelBoundary\n",
    "        (2.0, 1.0),  # 12: LinearResistance\n",
    "        (3.0, -1.0),  # 13: FractionalFlow\n",
    "        (3.0, -2.0),  # 14: Terminal\n",
    "        (3.0, 3.0),  # 15: FlowBoundary\n",
    "        (0.0, 1.0),  # 16: FlowBoundary\n",
    "        (6.0, 1.0),  # 17: LevelBoundary\n",
    "    ]\n",
    ")\n",
    "node_xy = gpd.points_from_xy(x=xy[:, 0], y=xy[:, 1])\n",
    "\n",
    "node_id, node_type = ribasim.Node.get_node_ids_and_types(\n",
    "    basin,\n",
    "    manning_resistance,\n",
    "    rating_curve,\n",
    "    pump,\n",
    "    fractional_flow,\n",
    "    linear_resistance,\n",
    "    level_boundary,\n",
    "    flow_boundary,\n",
    "    terminal,\n",
    ")\n",
    "\n",
    "# Make sure the feature id starts at 1: explicitly give an index.\n",
    "node = ribasim.Node(\n",
    "    static=gpd.GeoDataFrame(\n",
    "        data={\"type\": node_type},\n",
    "        index=pd.Index(node_id, name=\"fid\"),\n",
    "        geometry=node_xy,\n",
    "        crs=\"EPSG:28992\",\n",
    "    )\n",
    ")"
   ]
  },
  {
   "cell_type": "markdown",
   "metadata": {},
   "source": [
    "Setup the edges:"
   ]
  },
  {
   "cell_type": "code",
   "execution_count": null,
   "metadata": {},
   "outputs": [],
   "source": [
    "from_id = np.array(\n",
    "    [1, 2, 3, 4, 4, 5, 6, 8, 7, 9, 11, 12, 4, 13, 15, 16, 10], dtype=np.int64\n",
    ")\n",
    "to_id = np.array(\n",
    "    [2, 3, 4, 5, 8, 6, 7, 9, 9, 10, 12, 3, 13, 14, 6, 1, 17], dtype=np.int64\n",
    ")\n",
    "lines = ribasim.utils.geometry_from_connectivity(node, from_id, to_id)\n",
    "edge = ribasim.Edge(\n",
    "    static=gpd.GeoDataFrame(\n",
    "        data={\n",
    "            \"from_node_id\": from_id,\n",
    "            \"to_node_id\": to_id,\n",
    "            \"edge_type\": len(from_id) * [\"flow\"],\n",
    "        },\n",
    "        geometry=lines,\n",
    "        crs=\"EPSG:28992\",\n",
    "    )\n",
    ")"
   ]
  },
  {
   "attachments": {},
   "cell_type": "markdown",
   "metadata": {},
   "source": [
    "Setup a model:"
   ]
  },
  {
   "cell_type": "code",
   "execution_count": null,
   "metadata": {},
   "outputs": [],
   "source": [
    "model = ribasim.Model(\n",
    "    node=node,\n",
    "    edge=edge,\n",
    "    basin=basin,\n",
    "    level_boundary=level_boundary,\n",
    "    flow_boundary=flow_boundary,\n",
    "    pump=pump,\n",
    "    linear_resistance=linear_resistance,\n",
    "    manning_resistance=manning_resistance,\n",
    "    tabulated_rating_curve=rating_curve,\n",
    "    fractional_flow=fractional_flow,\n",
    "    terminal=terminal,\n",
    "    starttime=\"2020-01-01 00:00:00\",\n",
    "    endtime=\"2021-01-01 00:00:00\",\n",
    ")"
   ]
  },
  {
   "attachments": {},
   "cell_type": "markdown",
   "metadata": {},
   "source": [
    "Let's take a look at the model:"
   ]
  },
  {
   "cell_type": "code",
   "execution_count": null,
   "metadata": {},
   "outputs": [],
   "source": [
    "model.plot()"
   ]
  },
  {
   "attachments": {},
   "cell_type": "markdown",
   "metadata": {},
   "source": [
    "Write the model to a TOML and GeoPackage:"
   ]
  },
  {
   "cell_type": "code",
   "execution_count": null,
   "metadata": {},
   "outputs": [],
   "source": [
    "datadir = Path(\"data\")\n",
    "model.write(datadir / \"basic\")"
   ]
  },
  {
   "attachments": {},
   "cell_type": "markdown",
   "metadata": {},
   "source": [
    "# Update the basic model with transient forcing\n",
    "\n",
    "This assumes you have already created the basic model with static forcing."
   ]
  },
  {
   "cell_type": "code",
   "execution_count": null,
   "metadata": {},
   "outputs": [],
   "source": [
    "import numpy as np\n",
    "import pandas as pd\n",
    "import ribasim\n",
    "import xarray as xr"
   ]
  },
  {
   "cell_type": "code",
   "execution_count": null,
   "metadata": {},
   "outputs": [],
   "source": [
    "model = ribasim.Model.from_toml(datadir / \"basic/ribasim.toml\")"
   ]
  },
  {
   "cell_type": "code",
   "execution_count": null,
   "metadata": {},
   "outputs": [],
   "source": [
    "time = pd.date_range(model.starttime, model.endtime)\n",
    "day_of_year = time.day_of_year.to_numpy()\n",
    "seconds_per_day = 24 * 60 * 60\n",
    "evaporation = (\n",
    "    (-1.0 * np.cos(day_of_year / 365.0 * 2 * np.pi) + 1.0) * 0.0025 / seconds_per_day\n",
    ")\n",
    "rng = np.random.default_rng(seed=0)\n",
    "precipitation = (\n",
    "    rng.lognormal(mean=-1.0, sigma=1.7, size=time.size) * 0.001 / seconds_per_day\n",
    ")"
   ]
  },
  {
   "attachments": {},
   "cell_type": "markdown",
   "metadata": {},
   "source": [
    "We'll use xarray to easily broadcast the values."
   ]
  },
  {
   "cell_type": "code",
   "execution_count": null,
   "metadata": {},
   "outputs": [],
   "source": [
    "timeseries = (\n",
    "    pd.DataFrame(\n",
    "        data={\n",
    "            \"node_id\": 1,\n",
    "            \"time\": time,\n",
    "            \"drainage\": 0.0,\n",
    "            \"potential_evaporation\": evaporation,\n",
    "            \"infiltration\": 0.0,\n",
    "            \"precipitation\": precipitation,\n",
    "            \"urban_runoff\": 0.0,\n",
    "        }\n",
    "    )\n",
    "    .set_index(\"time\")\n",
    "    .to_xarray()\n",
    ")\n",
    "\n",
    "basin_ids = model.basin.static[\"node_id\"].to_numpy()\n",
    "basin_nodes = xr.DataArray(\n",
    "    np.ones(len(basin_ids)), coords={\"node_id\": basin_ids}, dims=[\"node_id\"]\n",
    ")\n",
    "forcing = (timeseries * basin_nodes).to_dataframe().reset_index()"
   ]
  },
  {
   "cell_type": "code",
   "execution_count": null,
   "metadata": {},
   "outputs": [],
   "source": [
    "state = pd.DataFrame(\n",
    "    data={\n",
    "        \"node_id\": basin_ids,\n",
    "        \"level\": 1.4,\n",
    "        \"concentration\": 0.0,\n",
    "    }\n",
    ")"
   ]
  },
  {
   "cell_type": "code",
   "execution_count": null,
   "metadata": {},
   "outputs": [],
   "source": [
    "model.basin.time = forcing\n",
    "model.basin.state = state"
   ]
  },
  {
   "cell_type": "code",
   "execution_count": null,
   "metadata": {},
   "outputs": [],
   "source": [
    "model.write(datadir / \"basic_transient\")"
   ]
  },
  {
   "cell_type": "code",
   "execution_count": null,
   "metadata": {},
   "outputs": [],
   "source": [
    "# | include: false\n",
    "from subprocess import run\n",
    "\n",
    "run(\n",
    "    [\n",
    "        \"julia\",\n",
    "        \"--project=../../core\",\n",
    "        \"--eval\",\n",
    "        f'using Ribasim; Ribasim.run(\"{datadir.as_posix()}/basic_transient/ribasim.toml\")',\n",
    "    ],\n",
    "    check=True,\n",
    ")"
   ]
  },
  {
   "attachments": {},
   "cell_type": "markdown",
   "metadata": {},
   "source": [
    "Now run the model with `ribasim basic-transient/ribasim.toml`.\n",
    "After running the model, read back the results:"
   ]
  },
  {
   "cell_type": "code",
   "execution_count": null,
   "metadata": {},
   "outputs": [],
   "source": [
    "df_basin = pd.read_feather(datadir / \"basic_transient/results/basin.arrow\")\n",
    "df_basin_wide = df_basin.pivot_table(\n",
    "    index=\"time\", columns=\"node_id\", values=[\"storage\", \"level\"]\n",
    ")\n",
    "df_basin_wide[\"level\"].plot()"
   ]
  },
  {
   "cell_type": "code",
   "execution_count": null,
   "metadata": {},
   "outputs": [],
   "source": [
    "df_flow = pd.read_feather(datadir / \"basic_transient/results/flow.arrow\")\n",
    "df_flow[\"edge\"] = list(zip(df_flow.from_node_id, df_flow.to_node_id))\n",
    "df_flow[\"flow_m3d\"] = df_flow.flow * 86400\n",
    "ax = df_flow.pivot_table(index=\"time\", columns=\"edge\", values=\"flow_m3d\").plot()\n",
    "ax.legend(bbox_to_anchor=(1.3, 1), title=\"Edge\")"
   ]
  },
  {
   "cell_type": "code",
   "execution_count": null,
   "metadata": {},
   "outputs": [],
   "source": [
    "type(df_flow)"
   ]
  },
  {
   "attachments": {},
   "cell_type": "markdown",
   "metadata": {},
   "source": [
    "# Model with discrete control\n",
    "\n",
    "The model constructed below consists of a single basin which slowly drains trough a `TabulatedRatingCurve`, but is held within a range around a target level (setpoint) by two connected pumps. These two pumps behave like a reversible pump. When pumping can be done in only one direction, and the other direction is only possible under gravity, use an Outlet for that direction."
   ]
  },
  {
   "attachments": {},
   "cell_type": "markdown",
   "metadata": {},
   "source": [
    "Set up the nodes:"
   ]
  },
  {
   "cell_type": "code",
   "execution_count": null,
   "metadata": {},
   "outputs": [],
   "source": [
    "xy = np.array(\n",
    "    [\n",
    "        (0.0, 0.0),  # 1: Basin\n",
    "        (1.0, 1.0),  # 2: Pump\n",
    "        (1.0, -1.0),  # 3: Pump\n",
    "        (2.0, 0.0),  # 4: LevelBoundary\n",
    "        (-1.0, 0.0),  # 5: TabulatedRatingCurve\n",
    "        (-2.0, 0.0),  # 6: Terminal\n",
    "        (1.0, 0.0),  # 7: DiscreteControl\n",
    "    ]\n",
    ")\n",
    "\n",
    "node_xy = gpd.points_from_xy(x=xy[:, 0], y=xy[:, 1])\n",
    "\n",
    "node_type = [\n",
    "    \"Basin\",\n",
    "    \"Pump\",\n",
    "    \"Pump\",\n",
    "    \"LevelBoundary\",\n",
    "    \"TabulatedRatingCurve\",\n",
    "    \"Terminal\",\n",
    "    \"DiscreteControl\",\n",
    "]\n",
    "\n",
    "# Make sure the feature id starts at 1: explicitly give an index.\n",
    "node = ribasim.Node(\n",
    "    static=gpd.GeoDataFrame(\n",
    "        data={\"type\": node_type},\n",
    "        index=pd.Index(np.arange(len(xy)) + 1, name=\"fid\"),\n",
    "        geometry=node_xy,\n",
    "        crs=\"EPSG:28992\",\n",
    "    )\n",
    ")"
   ]
  },
  {
   "attachments": {},
   "cell_type": "markdown",
   "metadata": {},
   "source": [
    "Setup the edges:"
   ]
  },
  {
   "cell_type": "code",
   "execution_count": null,
   "metadata": {},
   "outputs": [],
   "source": [
    "from_id = np.array([1, 3, 4, 2, 1, 5, 7, 7], dtype=np.int64)\n",
    "to_id = np.array([3, 4, 2, 1, 5, 6, 2, 3], dtype=np.int64)\n",
    "\n",
    "edge_type = 6 * [\"flow\"] + 2 * [\"control\"]\n",
    "\n",
    "lines = ribasim.utils.geometry_from_connectivity(node, from_id, to_id)\n",
    "edge = ribasim.Edge(\n",
    "    static=gpd.GeoDataFrame(\n",
    "        data={\"from_node_id\": from_id, \"to_node_id\": to_id, \"edge_type\": edge_type},\n",
    "        geometry=lines,\n",
    "        crs=\"EPSG:28992\",\n",
    "    )\n",
    ")"
   ]
  },
  {
   "attachments": {},
   "cell_type": "markdown",
   "metadata": {},
   "source": [
    "Setup the basins:"
   ]
  },
  {
   "cell_type": "code",
   "execution_count": null,
   "metadata": {},
   "outputs": [],
   "source": [
    "profile = pd.DataFrame(\n",
    "    data={\n",
    "        \"node_id\": [1, 1],\n",
    "        \"area\": [1000.0, 1000.0],\n",
    "        \"level\": [0.0, 1.0],\n",
    "    }\n",
    ")\n",
    "\n",
    "static = pd.DataFrame(\n",
    "    data={\n",
    "        \"node_id\": [1],\n",
    "        \"drainage\": [0.0],\n",
    "        \"potential_evaporation\": [0.0],\n",
    "        \"infiltration\": [0.0],\n",
    "        \"precipitation\": [0.0],\n",
    "        \"urban_runoff\": [0.0],\n",
    "    }\n",
    ")\n",
    "\n",
    "state = pd.DataFrame(data={\"node_id\": [1], \"level\": [20.0]})\n",
    "\n",
    "basin = ribasim.Basin(profile=profile, static=static, state=state)"
   ]
  },
  {
   "attachments": {},
   "cell_type": "markdown",
   "metadata": {},
   "source": [
    "Setup the discrete control:"
   ]
  },
  {
   "cell_type": "code",
   "execution_count": null,
   "metadata": {},
   "outputs": [],
   "source": [
    "condition = pd.DataFrame(\n",
    "    data={\n",
    "        \"node_id\": 3 * [7],\n",
    "        \"listen_feature_id\": 3 * [1],\n",
    "        \"variable\": 3 * [\"level\"],\n",
    "        \"greater_than\": [5.0, 10.0, 15.0],  # min, setpoint, max\n",
    "    }\n",
    ")\n",
    "\n",
    "logic = pd.DataFrame(\n",
    "    data={\n",
    "        \"node_id\": 5 * [7],\n",
    "        \"truth_state\": [\"FFF\", \"U**\", \"T*F\", \"**D\", \"TTT\"],\n",
    "        \"control_state\": [\"in\", \"in\", \"none\", \"out\", \"out\"],\n",
    "    }\n",
    ")\n",
    "\n",
    "discrete_control = ribasim.DiscreteControl(condition=condition, logic=logic)"
   ]
  },
  {
   "cell_type": "markdown",
   "metadata": {},
   "source": [
    "The above control logic can be summarized as follows:\n",
    "- If the level gets above the maximum, activate the control state \"out\" until the setpoint is reached;\n",
    "- If the level gets below the minimum, active the control state \"in\" until the setpoint is reached;\n",
    "- Otherwise activate the control state \"none\"."
   ]
  },
  {
   "attachments": {},
   "cell_type": "markdown",
   "metadata": {},
   "source": [
    "Setup the pump:"
   ]
  },
  {
   "cell_type": "code",
   "execution_count": null,
   "metadata": {},
   "outputs": [],
   "source": [
    "pump = ribasim.Pump(\n",
    "    static=pd.DataFrame(\n",
    "        data={\n",
    "            \"node_id\": 3 * [2] + 3 * [3],\n",
    "            \"control_state\": 2 * [\"none\", \"in\", \"out\"],\n",
    "            \"flow_rate\": [0.0, 2e-3, 0.0, 0.0, 0.0, 2e-3],\n",
    "        }\n",
    "    )\n",
    ")"
   ]
  },
  {
   "cell_type": "markdown",
   "metadata": {},
   "source": [
    "The pump data defines the following:\n",
    "\n",
    "Control state | Pump #2 flow rate (m/s)| Pump #3 flow rate (m/s)\n",
    "--------------|------------------------|------------------\n",
    "\"none\"        | 0.0                    | 0.0\n",
    "\"in\"          | 2e-3                   | 0.0\n",
    "\"out\"         | 0.0                    | 2e-3"
   ]
  },
  {
   "cell_type": "markdown",
   "metadata": {},
   "source": [
    "Setup the level boundary:"
   ]
  },
  {
   "cell_type": "code",
   "execution_count": null,
   "metadata": {},
   "outputs": [],
   "source": [
    "level_boundary = ribasim.LevelBoundary(\n",
    "    static=pd.DataFrame(data={\"node_id\": [4], \"level\": [10.0]})\n",
    ")"
   ]
  },
  {
   "cell_type": "markdown",
   "metadata": {},
   "source": [
    "Setup the rating curve:"
   ]
  },
  {
   "cell_type": "code",
   "execution_count": null,
   "metadata": {},
   "outputs": [],
   "source": [
    "rating_curve = ribasim.TabulatedRatingCurve(\n",
    "    static=pd.DataFrame(\n",
    "        data={\"node_id\": 2 * [5], \"level\": [2.0, 15.0], \"discharge\": [0.0, 1e-3]}\n",
    "    )\n",
    ")"
   ]
  },
  {
   "attachments": {},
   "cell_type": "markdown",
   "metadata": {},
   "source": [
    "Setup the terminal:"
   ]
  },
  {
   "cell_type": "code",
   "execution_count": null,
   "metadata": {},
   "outputs": [],
   "source": [
    "terminal = ribasim.Terminal(static=pd.DataFrame(data={\"node_id\": [6]}))"
   ]
  },
  {
   "attachments": {},
   "cell_type": "markdown",
   "metadata": {},
   "source": [
    "Setup a model:"
   ]
  },
  {
   "cell_type": "code",
   "execution_count": null,
   "metadata": {},
   "outputs": [],
   "source": [
    "model = ribasim.Model(\n",
    "    node=node,\n",
    "    edge=edge,\n",
    "    basin=basin,\n",
    "    pump=pump,\n",
    "    level_boundary=level_boundary,\n",
    "    tabulated_rating_curve=rating_curve,\n",
    "    terminal=terminal,\n",
    "    discrete_control=discrete_control,\n",
    "    starttime=\"2020-01-01 00:00:00\",\n",
    "    endtime=\"2021-01-01 00:00:00\",\n",
    ")"
   ]
  },
  {
   "attachments": {},
   "cell_type": "markdown",
   "metadata": {},
   "source": [
    "Let’s take a look at the model:"
   ]
  },
  {
   "cell_type": "code",
   "execution_count": null,
   "metadata": {},
   "outputs": [],
   "source": [
    "model.plot()"
   ]
  },
  {
   "attachments": {},
   "cell_type": "markdown",
   "metadata": {},
   "source": [
    "Listen edges are plotted with a dashed line since they are not present in the \"Edge / static\" schema but only in the \"Control / condition\" schema."
   ]
  },
  {
   "cell_type": "code",
   "execution_count": null,
   "metadata": {},
   "outputs": [],
   "source": [
    "datadir = Path(\"data\")\n",
    "model.write(datadir / \"level_setpoint_with_minmax\")"
   ]
  },
  {
   "cell_type": "code",
   "execution_count": null,
   "metadata": {},
   "outputs": [],
   "source": [
    "# | include: false\n",
    "from subprocess import run\n",
    "\n",
    "run(\n",
    "    [\n",
    "        \"julia\",\n",
    "        \"--project=../../core\",\n",
    "        \"--eval\",\n",
    "        f'using Ribasim; Ribasim.run(\"{datadir.as_posix()}/level_setpoint_with_minmax/ribasim.toml\")',\n",
    "    ],\n",
    "    check=True,\n",
    ")"
   ]
  },
  {
   "cell_type": "markdown",
   "metadata": {},
   "source": [
    "Now run the model with `level_setpoint_with_minmax/ribasim.toml`.\n",
    "After running the model, read back the results:"
   ]
  },
  {
   "cell_type": "code",
   "execution_count": null,
   "metadata": {},
   "outputs": [],
   "source": [
    "from matplotlib.dates import date2num\n",
    "\n",
    "df_basin = pd.read_feather(datadir / \"level_setpoint_with_minmax/results/basin.arrow\")\n",
    "df_basin_wide = df_basin.pivot_table(\n",
    "    index=\"time\", columns=\"node_id\", values=[\"storage\", \"level\"]\n",
    ")\n",
    "\n",
    "ax = df_basin_wide[\"level\"].plot()\n",
    "\n",
    "greater_than = model.discrete_control.condition.greater_than\n",
    "\n",
    "ax.hlines(\n",
    "    greater_than,\n",
    "    df_basin.time[0],\n",
    "    df_basin.time.max(),\n",
    "    lw=1,\n",
    "    ls=\"--\",\n",
    "    color=\"k\",\n",
    ")\n",
    "\n",
    "df_control = pd.read_feather(\n",
    "    datadir / \"level_setpoint_with_minmax/results/control.arrow\"\n",
    ")\n",
    "\n",
    "y_min, y_max = ax.get_ybound()\n",
    "ax.fill_between(df_control.time[:2], 2 * [y_min], 2 * [y_max], alpha=0.2, color=\"C0\")\n",
    "ax.fill_between(df_control.time[2:4], 2 * [y_min], 2 * [y_max], alpha=0.2, color=\"C0\")\n",
    "\n",
    "ax.set_xticks(\n",
    "    date2num(df_control.time).tolist(),\n",
    "    df_control.control_state.tolist(),\n",
    "    rotation=50,\n",
    ")\n",
    "\n",
    "ax.set_yticks(greater_than, [\"min\", \"setpoint\", \"max\"])\n",
    "ax.set_ylabel(\"level\")\n",
    "plt.show()"
   ]
  },
  {
   "cell_type": "markdown",
   "metadata": {},
   "source": [
    "The highlighted regions show where a pump is active."
   ]
  },
  {
   "attachments": {},
   "cell_type": "markdown",
   "metadata": {},
   "source": [
    "Let's print an overview of what happened with control:"
   ]
  },
  {
   "cell_type": "code",
   "execution_count": null,
   "metadata": {},
   "outputs": [],
   "source": [
    "model.print_discrete_control_record(\n",
    "    datadir / \"level_setpoint_with_minmax/results/control.arrow\"\n",
    ")"
   ]
  },
  {
   "cell_type": "markdown",
   "metadata": {},
   "source": [
    "Note that crossing direction specific truth states (containing \"U\", \"D\") are not present in this overview even though they are part of the control logic. This is because in the control logic for this model these truth states are only used to sustain control states, while the overview only shows changes in control states."
   ]
  },
  {
   "cell_type": "markdown",
   "metadata": {},
   "source": [
    "# Model with PID control"
   ]
  },
  {
   "cell_type": "markdown",
   "metadata": {},
   "source": [
    "Set up the nodes:"
   ]
  },
  {
   "cell_type": "code",
   "execution_count": null,
   "metadata": {},
   "outputs": [],
   "source": [
    "xy = np.array(\n",
    "    [\n",
    "        (0.0, 0.0),  # 1: FlowBoundary\n",
    "        (1.0, 0.0),  # 2: Basin\n",
    "        (2.0, 0.5),  # 3: Pump\n",
    "        (3.0, 0.0),  # 4: LevelBoundary\n",
    "        (1.5, 1.0),  # 5: PidControl\n",
    "        (2.0, -0.5),  # 6: outlet\n",
    "        (1.5, -1.0),  # 7: PidControl\n",
    "    ]\n",
    ")\n",
    "\n",
    "node_xy = gpd.points_from_xy(x=xy[:, 0], y=xy[:, 1])\n",
    "\n",
    "node_type = [\n",
    "    \"FlowBoundary\",\n",
    "    \"Basin\",\n",
    "    \"Pump\",\n",
    "    \"LevelBoundary\",\n",
    "    \"PidControl\",\n",
    "    \"Outlet\",\n",
    "    \"PidControl\",\n",
    "]\n",
    "\n",
    "# Make sure the feature id starts at 1: explicitly give an index.\n",
    "node = ribasim.Node(\n",
    "    static=gpd.GeoDataFrame(\n",
    "        data={\"type\": node_type},\n",
    "        index=pd.Index(np.arange(len(xy)) + 1, name=\"fid\"),\n",
    "        geometry=node_xy,\n",
    "        crs=\"EPSG:28992\",\n",
    "    )\n",
    ")"
   ]
  },
  {
   "cell_type": "markdown",
   "metadata": {},
   "source": [
    "Setup the edges:"
   ]
  },
  {
   "cell_type": "code",
   "execution_count": null,
   "metadata": {},
   "outputs": [],
   "source": [
    "from_id = np.array([1, 2, 3, 4, 6, 5, 7], dtype=np.int64)\n",
    "to_id = np.array([2, 3, 4, 6, 2, 3, 6], dtype=np.int64)\n",
    "\n",
    "lines = ribasim.utils.geometry_from_connectivity(node, from_id, to_id)\n",
    "edge = ribasim.Edge(\n",
    "    static=gpd.GeoDataFrame(\n",
    "        data={\n",
    "            \"from_node_id\": from_id,\n",
    "            \"to_node_id\": to_id,\n",
    "            \"edge_type\": 5 * [\"flow\"] + 2 * [\"control\"],\n",
    "        },\n",
    "        geometry=lines,\n",
    "        crs=\"EPSG:28992\",\n",
    "    )\n",
    ")"
   ]
  },
  {
   "cell_type": "markdown",
   "metadata": {},
   "source": [
    "Setup the basins:"
   ]
  },
  {
   "cell_type": "code",
   "execution_count": null,
   "metadata": {},
   "outputs": [],
   "source": [
    "profile = pd.DataFrame(\n",
    "    data={\"node_id\": [2, 2], \"level\": [0.0, 1.0], \"area\": [1000.0, 1000.0]}\n",
    ")\n",
    "\n",
    "static = pd.DataFrame(\n",
    "    data={\n",
    "        \"node_id\": [2],\n",
    "        \"drainage\": [0.0],\n",
    "        \"potential_evaporation\": [0.0],\n",
    "        \"infiltration\": [0.0],\n",
    "        \"precipitation\": [0.0],\n",
    "        \"urban_runoff\": [0.0],\n",
    "    }\n",
    ")\n",
    "\n",
    "state = pd.DataFrame(\n",
    "    data={\n",
    "        \"node_id\": [2],\n",
    "        \"level\": [6.0],\n",
    "    }\n",
    ")\n",
    "\n",
    "basin = ribasim.Basin(profile=profile, static=static, state=state)"
   ]
  },
  {
   "cell_type": "markdown",
   "metadata": {},
   "source": [
    "Setup the pump:"
   ]
  },
  {
   "cell_type": "code",
   "execution_count": null,
   "metadata": {},
   "outputs": [],
   "source": [
    "pump = ribasim.Pump(\n",
    "    static=pd.DataFrame(\n",
    "        data={\n",
    "            \"node_id\": [3],\n",
    "            \"flow_rate\": [0.0],  # Will be overwritten by PID controller\n",
    "        }\n",
    "    )\n",
    ")"
   ]
  },
  {
   "cell_type": "markdown",
   "metadata": {},
   "source": [
    "Setup the outlet:"
   ]
  },
  {
   "cell_type": "code",
   "execution_count": null,
   "metadata": {},
   "outputs": [],
   "source": [
    "outlet = ribasim.Outlet(\n",
    "    static=pd.DataFrame(\n",
    "        data={\n",
    "            \"node_id\": [6],\n",
    "            \"flow_rate\": [0.0],  # Will be overwritten by PID controller\n",
    "        }\n",
    "    )\n",
    ")"
   ]
  },
  {
   "cell_type": "markdown",
   "metadata": {},
   "source": [
    "Setup flow boundary:"
   ]
  },
  {
   "cell_type": "code",
   "execution_count": null,
   "metadata": {},
   "outputs": [],
   "source": [
    "flow_boundary = ribasim.FlowBoundary(\n",
    "    static=pd.DataFrame(data={\"node_id\": [1], \"flow_rate\": [1e-3]})\n",
    ")"
   ]
  },
  {
   "cell_type": "markdown",
   "metadata": {},
   "source": [
    "Setup flow boundary:"
   ]
  },
  {
   "cell_type": "code",
   "execution_count": null,
   "metadata": {},
   "outputs": [],
   "source": [
    "level_boundary = ribasim.LevelBoundary(\n",
    "    static=pd.DataFrame(\n",
    "        data={\n",
    "            \"node_id\": [4],\n",
    "            \"level\": [1.0],  # Not relevant\n",
    "        }\n",
    "    )\n",
    ")"
   ]
  },
  {
   "cell_type": "markdown",
   "metadata": {},
   "source": [
    "Setup PID control:"
   ]
  },
  {
   "cell_type": "code",
   "execution_count": null,
   "metadata": {},
   "outputs": [],
   "source": [
    "pid_control = ribasim.PidControl(\n",
    "    time=pd.DataFrame(\n",
    "        data={\n",
    "            \"node_id\": 4 * [5, 7],\n",
    "            \"time\": [\n",
    "                \"2020-01-01 00:00:00\",\n",
    "                \"2020-01-01 00:00:00\",\n",
    "                \"2020-05-01 00:00:00\",\n",
    "                \"2020-05-01 00:00:00\",\n",
    "                \"2020-07-01 00:00:00\",\n",
    "                \"2020-07-01 00:00:00\",\n",
    "                \"2020-12-01 00:00:00\",\n",
    "                \"2020-12-01 00:00:00\",\n",
    "            ],\n",
    "            \"listen_node_id\": 4 * [2, 2],\n",
    "            \"target\": [5.0, 5.0, 5.0, 5.0, 7.5, 7.5, 7.5, 7.5],\n",
    "            \"proportional\": 4 * [-1e-3, 1e-3],\n",
    "            \"integral\": 4 * [-1e-7, 1e-7],\n",
    "            \"derivative\": 4 * [0.0, 0.0],\n",
    "        }\n",
    "    )\n",
    ")"
   ]
  },
  {
   "cell_type": "markdown",
   "metadata": {},
   "source": [
    "Note that the coefficients for the pump and the outlet are equal in magnitude but opposite in sign. This way the pump and the outlet equally work towards the same goal, while having opposite effects on the controlled basin due to their connectivity to this basin."
   ]
  },
  {
   "cell_type": "markdown",
   "metadata": {},
   "source": [
    "Setup a model:"
   ]
  },
  {
   "cell_type": "code",
   "execution_count": null,
   "metadata": {},
   "outputs": [],
   "source": [
    "model = ribasim.Model(\n",
    "    node=node,\n",
    "    edge=edge,\n",
    "    basin=basin,\n",
    "    flow_boundary=flow_boundary,\n",
    "    level_boundary=level_boundary,\n",
    "    pump=pump,\n",
    "    outlet=outlet,\n",
    "    pid_control=pid_control,\n",
    "    starttime=\"2020-01-01 00:00:00\",\n",
    "    endtime=\"2020-12-01 00:00:00\",\n",
    ")"
   ]
  },
  {
   "cell_type": "markdown",
   "metadata": {},
   "source": [
    "Let's take a look at the model:"
   ]
  },
  {
   "cell_type": "code",
   "execution_count": null,
   "metadata": {},
   "outputs": [],
   "source": [
    "model.plot()"
   ]
  },
  {
   "cell_type": "markdown",
   "metadata": {},
   "source": [
    "Write the model to a TOML and GeoPackage:"
   ]
  },
  {
   "cell_type": "code",
   "execution_count": null,
   "metadata": {},
   "outputs": [],
   "source": [
    "datadir = Path(\"data\")\n",
    "model.write(datadir / \"pid_control\")"
   ]
  },
  {
   "cell_type": "code",
   "execution_count": null,
   "metadata": {},
   "outputs": [],
   "source": [
    "# | include: false\n",
    "from subprocess import run\n",
    "\n",
    "run(\n",
    "    [\n",
    "        \"julia\",\n",
    "        \"--project=../../core\",\n",
    "        \"--eval\",\n",
    "        f'using Ribasim; Ribasim.run(\"{datadir.as_posix()}/pid_control/ribasim.toml\")',\n",
    "    ],\n",
    "    check=True,\n",
    ")"
   ]
  },
  {
   "cell_type": "markdown",
   "metadata": {},
   "source": [
    "Now run the model with `ribasim pid_control/ribasim.toml`.\n",
    "After running the model, read back the results:"
   ]
  },
  {
   "cell_type": "code",
   "execution_count": null,
   "metadata": {},
   "outputs": [],
   "source": [
    "from matplotlib.dates import date2num\n",
    "\n",
    "df_basin = pd.read_feather(datadir / \"pid_control/results/basin.arrow\")\n",
    "df_basin_wide = df_basin.pivot_table(\n",
    "    index=\"time\", columns=\"node_id\", values=[\"storage\", \"level\"]\n",
    ")\n",
    "ax = df_basin_wide[\"level\"].plot()\n",
    "ax.set_ylabel(\"level [m]\")\n",
    "\n",
    "# Plot target level\n",
    "target_levels = model.pid_control.time.target.to_numpy()[::2]\n",
    "times = date2num(model.pid_control.time.time)[::2]\n",
    "ax.plot(times, target_levels, color=\"k\", ls=\":\", label=\"target level\")\n",
    "pass"
   ]
  },
  {
   "cell_type": "code",
   "execution_count": null,
   "metadata": {},
   "outputs": [],
   "source": []
  }
 ],
 "metadata": {
  "kernelspec": {
   "display_name": "Python 3 (ipykernel)",
   "language": "python",
   "name": "python3"
  },
  "language_info": {
   "codemirror_mode": {
    "name": "ipython",
    "version": 3
   },
   "file_extension": ".py",
   "mimetype": "text/x-python",
   "name": "python",
   "nbconvert_exporter": "python",
   "pygments_lexer": "ipython3",
   "version": "3.11.5"
  }
 },
 "nbformat": 4,
 "nbformat_minor": 4
}
