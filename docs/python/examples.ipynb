{
 "cells": [
  {
   "cell_type": "raw",
   "metadata": {},
   "source": [
    "---\n",
    "title: \"Examples\"\n",
    "---"
   ]
  },
  {
   "cell_type": "markdown",
   "metadata": {},
   "source": [
    "# Basic model with static forcing"
   ]
  },
  {
   "cell_type": "code",
   "execution_count": null,
   "metadata": {},
   "outputs": [],
   "source": [
    "# | include: false\n",
    "import os\n",
    "\n",
    "os.environ[\"USE_PYGEOS\"] = \"0\""
   ]
  },
  {
   "cell_type": "code",
   "execution_count": null,
   "metadata": {},
   "outputs": [],
   "source": [
    "import geopandas as gpd\n",
    "import numpy as np\n",
    "import pandas as pd\n",
    "import tempfile\n",
    "from pathlib import Path\n",
    "\n",
    "import ribasim"
   ]
  },
  {
   "cell_type": "markdown",
   "metadata": {},
   "source": [
    "Set up the nodes:"
   ]
  },
  {
   "cell_type": "code",
   "execution_count": null,
   "metadata": {},
   "outputs": [],
   "source": [
    "xy = np.array(\n",
    "    [\n",
    "        (0.0, 0.0),  # 1: Basin,\n",
    "        (1.0, 0.0),  # 2: LinearLevelConnection\n",
    "        (2.0, 0.0),  # 3: Basin\n",
    "        (3.0, 0.0),  # 4: TabulatedRatingCurve\n",
    "        (3.0, 1.0),  # 5: FractionalFlow\n",
    "        (3.0, 2.0),  # 6: Basin\n",
    "        (4.0, 1.0),  # 7: Pump\n",
    "        (4.0, 0.0),  # 8: FractionalFlow\n",
    "        (5.0, 0.0),  # 9: Basin\n",
    "        (6.0, 0.0),  # 10: LevelControl\n",
    "    ]\n",
    ")\n",
    "node_xy = gpd.points_from_xy(x=xy[:, 0], y=xy[:, 1])\n",
    "\n",
    "node_type = [\n",
    "    \"Basin\",\n",
    "    \"LinearLevelConnection\",\n",
    "    \"Basin\",\n",
    "    \"TabulatedRatingCurve\",\n",
    "    \"FractionalFlow\",\n",
    "    \"Basin\",\n",
    "    \"Pump\",\n",
    "    \"FractionalFlow\",\n",
    "    \"Basin\",\n",
    "    \"LevelControl\",\n",
    "]\n",
    "\n",
    "# Make sure the feature id starts at 1: explicitly give an index.\n",
    "node = ribasim.Node(\n",
    "    static=gpd.GeoDataFrame(\n",
    "        data={\"type\": node_type},\n",
    "        index=np.arange(len(xy)) + 1,\n",
    "        geometry=node_xy,\n",
    "        crs=\"EPSG:28992\",\n",
    "    )\n",
    ")"
   ]
  },
  {
   "cell_type": "markdown",
   "metadata": {},
   "source": [
    "Setup the edges:"
   ]
  },
  {
   "cell_type": "code",
   "execution_count": null,
   "metadata": {},
   "outputs": [],
   "source": [
    "from_id = np.array([1, 2, 3, 4, 4, 5, 6, 8, 7, 9], dtype=np.int64)\n",
    "to_id = np.array([2, 3, 4, 5, 8, 6, 7, 9, 9, 10], dtype=np.int64)\n",
    "lines = ribasim.utils.geometry_from_connectivity(node, from_id, to_id)\n",
    "edge = ribasim.Edge(\n",
    "    static=gpd.GeoDataFrame(\n",
    "        data={\"from_node_id\": from_id, \"to_node_id\": to_id},\n",
    "        geometry=lines,\n",
    "        crs=\"EPSG:28992\",\n",
    "    )\n",
    ")"
   ]
  },
  {
   "cell_type": "markdown",
   "metadata": {},
   "source": [
    "Setup the basins:"
   ]
  },
  {
   "cell_type": "code",
   "execution_count": null,
   "metadata": {},
   "outputs": [],
   "source": [
    "profile = pd.DataFrame(\n",
    "    data={\n",
    "        \"node_id\": [0, 0],\n",
    "        \"storage\": [0.0, 1000.0],\n",
    "        \"area\": [0.0, 1000.0],\n",
    "        \"level\": [0.0, 1.0],\n",
    "    }\n",
    ")\n",
    "repeat = np.tile([0, 1], 4)\n",
    "profile = profile.iloc[repeat]\n",
    "profile[\"node_id\"] = [1, 1, 3, 3, 6, 6, 9, 9]\n",
    "\n",
    "\n",
    "# Convert steady forcing to m/s\n",
    "# 2 mm/d precipitation, 1 mm/d evaporation\n",
    "seconds_in_day = 24 * 3600\n",
    "precipitation = 0.002 / seconds_in_day\n",
    "evaporation = 0.001 / seconds_in_day\n",
    "\n",
    "\n",
    "static = pd.DataFrame(\n",
    "    data={\n",
    "        \"node_id\": [0],\n",
    "        \"drainage\": [0.0],\n",
    "        \"potential_evaporation\": [evaporation],\n",
    "        \"infiltration\": [0.0],\n",
    "        \"precipitation\": [precipitation],\n",
    "        \"urban_runoff\": [0.0],\n",
    "    }\n",
    ")\n",
    "static = static.iloc[[0, 0, 0, 0]]\n",
    "static[\"node_id\"] = [1, 3, 6, 9]\n",
    "\n",
    "basin = ribasim.Basin(profile=profile, static=static)"
   ]
  },
  {
   "cell_type": "markdown",
   "metadata": {},
   "source": [
    "Setup linear level connection:"
   ]
  },
  {
   "cell_type": "code",
   "execution_count": null,
   "metadata": {},
   "outputs": [],
   "source": [
    "linear_connection = ribasim.LinearLevelConnection(\n",
    "    static=pd.DataFrame(data={\"node_id\": [2], \"conductance\": [1.5e-4]})\n",
    ")"
   ]
  },
  {
   "cell_type": "markdown",
   "metadata": {},
   "source": [
    "Set up a rating curve node:"
   ]
  },
  {
   "cell_type": "code",
   "execution_count": null,
   "metadata": {},
   "outputs": [],
   "source": [
    "# Discharge: lose 1% of storage volume per day at storage = 1000.0.\n",
    "q1000 = 1000.0 * 0.01 / seconds_in_day\n",
    "\n",
    "rating_curve = ribasim.TabulatedRatingCurve(\n",
    "    static=pd.DataFrame(\n",
    "        data={\n",
    "            \"node_id\": [4, 4],\n",
    "            \"storage\": [0.0, 1000.0],\n",
    "            \"discharge\": [0.0, q1000],\n",
    "        }\n",
    "    )\n",
    ")"
   ]
  },
  {
   "cell_type": "markdown",
   "metadata": {},
   "source": [
    "Setup fractional flows:"
   ]
  },
  {
   "cell_type": "code",
   "execution_count": null,
   "metadata": {},
   "outputs": [],
   "source": [
    "fractional_flow = ribasim.FractionalFlow(\n",
    "    static=pd.DataFrame(\n",
    "        data={\n",
    "            \"node_id\": [5, 8],\n",
    "            \"fraction\": [0.3, 0.7],\n",
    "        }\n",
    "    )\n",
    ")"
   ]
  },
  {
   "cell_type": "markdown",
   "metadata": {},
   "source": [
    "Setup level control:"
   ]
  },
  {
   "cell_type": "code",
   "execution_count": null,
   "metadata": {},
   "outputs": [],
   "source": [
    "level_control = ribasim.LevelControl(\n",
    "    static=pd.DataFrame(\n",
    "        data={\n",
    "            \"node_id\": [10],\n",
    "            \"target_level\": [1.5],\n",
    "        }\n",
    "    )\n",
    ")"
   ]
  },
  {
   "attachments": {},
   "cell_type": "markdown",
   "metadata": {},
   "source": [
    "Setup pump:"
   ]
  },
  {
   "cell_type": "code",
   "execution_count": null,
   "metadata": {},
   "outputs": [],
   "source": [
    "pump = ribasim.Pump(\n",
    "    static=pd.DataFrame(\n",
    "        data={\n",
    "            \"node_id\": [7],\n",
    "            \"flow_rate\": [0.5 / 3600],\n",
    "        }\n",
    "    )\n",
    ")"
   ]
  },
  {
   "cell_type": "markdown",
   "metadata": {},
   "source": [
    "Setup a model:"
   ]
  },
  {
   "cell_type": "code",
   "execution_count": null,
   "metadata": {},
   "outputs": [],
   "source": [
    "model = ribasim.Model(\n",
    "    modelname=\"basic\",\n",
    "    node=node,\n",
    "    edge=edge,\n",
    "    basin=basin,\n",
    "    level_control=level_control,\n",
    "    pump=pump,\n",
    "    linear_level_connection=linear_connection,\n",
    "    tabulated_rating_curve=rating_curve,\n",
    "    fractional_flow=fractional_flow,\n",
    "    starttime=\"2020-01-01 00:00:00\",\n",
    "    endtime=\"2021-01-01 00:00:00\",\n",
    ")"
   ]
  },
  {
   "attachments": {},
   "cell_type": "markdown",
   "metadata": {},
   "source": [
    "Let's take a look at the model:"
   ]
  },
  {
   "cell_type": "code",
   "execution_count": null,
   "metadata": {},
   "outputs": [],
   "source": [
    "model.plot();"
   ]
  },
  {
   "cell_type": "markdown",
   "metadata": {},
   "source": [
    "Write the model to a TOML and GeoPackage:"
   ]
  },
  {
   "cell_type": "code",
   "execution_count": null,
   "metadata": {},
   "outputs": [],
   "source": [
    "tempdir = Path(tempfile.mkdtemp(prefix=\"ribasim_\"))\n",
    "model.write(tempdir / \"basic\")"
   ]
  },
  {
   "cell_type": "markdown",
   "metadata": {},
   "source": [
    "# Update the basic model with transient forcing\n",
    "\n",
    "This assumes you have already created the basic model with static forcing."
   ]
  },
  {
   "cell_type": "code",
   "execution_count": null,
   "metadata": {},
   "outputs": [],
   "source": [
    "import numpy as np\n",
    "import pandas as pd\n",
    "import xarray as xr\n",
    "\n",
    "import ribasim"
   ]
  },
  {
   "cell_type": "code",
   "execution_count": null,
   "metadata": {},
   "outputs": [],
   "source": [
    "model = ribasim.Model.from_toml(tempdir / \"basic/basic.toml\")"
   ]
  },
  {
   "cell_type": "code",
   "execution_count": null,
   "metadata": {},
   "outputs": [],
   "source": [
    "time = pd.date_range(model.starttime, model.endtime)\n",
    "day_of_year = time.day_of_year.values\n",
    "seconds_per_day = 24 * 60 * 60\n",
    "evaporation = (\n",
    "    (-1.0 * np.cos(day_of_year / 365.0 * 2 * np.pi) + 1.0) * 0.0025 / seconds_per_day\n",
    ")\n",
    "rng = np.random.default_rng()\n",
    "precipitation = (\n",
    "    rng.lognormal(mean=-1.0, sigma=1.7, size=time.size) * 0.001 / seconds_per_day\n",
    ")"
   ]
  },
  {
   "cell_type": "markdown",
   "metadata": {},
   "source": [
    "We'll use xarray to easily broadcast the values."
   ]
  },
  {
   "cell_type": "code",
   "execution_count": null,
   "metadata": {},
   "outputs": [],
   "source": [
    "timeseries = (\n",
    "    pd.DataFrame(\n",
    "        data={\n",
    "            \"node_id\": 1,\n",
    "            \"time\": time,\n",
    "            \"drainage\": 0.0,\n",
    "            \"potential_evaporation\": evaporation,\n",
    "            \"infiltration\": 0.0,\n",
    "            \"precipitation\": precipitation,\n",
    "            \"urban_runoff\": 0.0,\n",
    "        }\n",
    "    )\n",
    "    .set_index(\"time\")\n",
    "    .to_xarray()\n",
    ")\n",
    "\n",
    "basin_ids = model.basin.static[\"node_id\"].unique()\n",
    "basin_nodes = xr.DataArray(\n",
    "    np.ones(len(basin_ids)), coords={\"node_id\": basin_ids}, dims=[\"node_id\"]\n",
    ")\n",
    "forcing = (timeseries * basin_nodes).to_dataframe().reset_index()"
   ]
  },
  {
   "cell_type": "code",
   "execution_count": null,
   "metadata": {},
   "outputs": [],
   "source": [
    "state = pd.DataFrame(\n",
    "    data={\n",
    "        \"node_id\": basin_ids,\n",
    "        \"storage\": 1000.0,\n",
    "        \"concentration\": 0.0,\n",
    "    }\n",
    ")"
   ]
  },
  {
   "cell_type": "code",
   "execution_count": null,
   "metadata": {},
   "outputs": [],
   "source": [
    "model.basin.forcing = forcing\n",
    "model.basin.state = state"
   ]
  },
  {
   "cell_type": "code",
   "execution_count": null,
   "metadata": {},
   "outputs": [],
   "source": [
    "model.write(tempdir / \"basic-transient\")"
   ]
  },
  {
   "cell_type": "code",
   "execution_count": null,
   "metadata": {},
   "outputs": [],
   "source": [
    "# | include: false\n",
    "from subprocess import run\n",
    "\n",
    "run(\n",
    "    [\n",
    "        \"julia\",\n",
    "        \"--project=../../core\",\n",
    "        \"-e\",\n",
    "        f'using Ribasim; Ribasim.run(\"{tempdir.as_posix()}/basic-transient/basic.toml\")',\n",
    "    ],\n",
    "    check=True,\n",
    ")"
   ]
  },
  {
   "attachments": {},
   "cell_type": "markdown",
   "metadata": {},
   "source": [
    "Now run the model with `ribasim basic-transient/basic.toml`.\n",
    "After running the model, read back the output:"
   ]
  },
  {
   "cell_type": "code",
   "execution_count": null,
   "metadata": {},
   "outputs": [],
   "source": [
    "df_basin = pd.read_feather(tempdir / \"basic-transient/output/basin.arrow\")\n",
    "ds_basin = df_basin.set_index([\"time\", \"node_id\"]).to_xarray()\n",
    "ds_basin[\"level\"].plot(hue=\"node_id\");"
   ]
  },
  {
   "cell_type": "code",
   "execution_count": null,
   "metadata": {},
   "outputs": [],
   "source": [
    "df_flow = pd.read_feather(tempdir / \"basic-transient/output/flow.arrow\")\n",
    "df_flow[\"edge\"] = list(zip(df_flow.from_node_id, df_flow.to_node_id))\n",
    "df_flow[\"flow_m3d\"] = df_flow.flow * 86400\n",
    "df_flow.pivot_table(index=\"time\", columns=\"edge\", values=\"flow_m3d\").plot();"
   ]
  },
  {
   "cell_type": "code",
   "execution_count": null,
   "metadata": {},
   "outputs": [],
   "source": [
    "# | include: false\n",
    "import shutil\n",
    "\n",
    "shutil.rmtree(tempdir)"
   ]
  }
 ],
 "metadata": {
  "kernelspec": {
   "display_name": "Python 3",
   "language": "python",
   "name": "python3"
  },
  "language_info": {
   "codemirror_mode": {
    "name": "ipython",
    "version": 3
   },
   "file_extension": ".py",
   "mimetype": "text/x-python",
   "name": "python",
   "nbconvert_exporter": "python",
   "pygments_lexer": "ipython3",
   "version": "3.11.0"
  }
 },
 "nbformat": 4,
 "nbformat_minor": 4
}
