{
 "cells": [
  {
   "cell_type": "markdown",
   "metadata": {},
   "source": [
    "# Ribasim Functionality Demonstration\n",
    "\n",
    "On this page we present a range of mostly synthetic models, set up to highlight individual\n",
    "functionalities of Ribasim. The demonstrations are divided across two sections, in @sec-free\n",
    "free-flowing basins are used, which can drain freely to a downstream basin. In @sec-level\n",
    "level controlled basins are used. Here there is no free drainage, but water levels are\n",
    "controlled by water management, such as pumping. Note that this is the only difference\n",
    "between both, so all other functionality equally applies to free draining and level\n",
    "controlled basins."
   ]
  },
  {
   "cell_type": "markdown",
   "metadata": {},
   "source": [
    "# Demonstration of Free Flowing LSW {#sec-free}\n",
    "\n",
    "The following examples demonstrate the impact of forcings and the user allocation functionality for a single free draining LSW. The examples are simulated with synthetic data to highlight the functionality of Ribasim, with the exception of example @sec-free-balance and @sec-free-comparison, which show the Ribasim prototype simulation of the Hupsel LSW."
   ]
  },
  {
   "cell_type": "code",
   "execution_count": null,
   "metadata": {},
   "outputs": [],
   "source": [
    "import Pkg\n",
    "Pkg.activate(\"../run\")\n",
    "VERSION"
   ]
  },
  {
   "cell_type": "code",
   "execution_count": null,
   "metadata": {},
   "outputs": [],
   "source": [
    "using Ribasim\n",
    "using Dates\n",
    "using TOML\n",
    "using Arrow\n",
    "using DataFrames\n",
    "import BasicModelInterface as BMI\n",
    "using SciMLBase\n",
    "using Graphs\n",
    "using CairoMakie\n",
    "using DataFrameMacros\n",
    "using Revise\n",
    "\n",
    "includet(\"../run/plot.jl\")"
   ]
  },
  {
   "cell_type": "code",
   "execution_count": null,
   "metadata": {},
   "outputs": [],
   "source": [
    "# Load LSW forcings data, used in several examples below\n",
    "lswforcing = DataFrame(Arrow.Table(\"../test/data/lhm/forcing.arrow\"));"
   ]
  },
  {
   "cell_type": "markdown",
   "metadata": {},
   "source": [
    "## No external forcing {#sec-free-no}\n",
    "\n",
    "This fictional free flowing LSW has no input or output forcing flux. The LSW empties according to the Volume-Area-Discharge relationship.\n",
    "The two examples below show the impact the profile has on the LSW drainage."
   ]
  },
  {
   "cell_type": "code",
   "execution_count": null,
   "metadata": {},
   "outputs": [],
   "source": [
    "case = \"emptying_sloping_profile\"\n",
    "\n",
    "## Set up\n",
    "config = Dict{String,Any}()\n",
    "id_lsw = 1\n",
    "id_out = 2\n",
    "id_lsw_end = 3\n",
    "ids = [id_lsw, id_out, id_lsw_end]\n",
    "config[\"ids\"] = ids\n",
    "config[\"update_timestep\"] = 86400.0\n",
    "config[\"starttime\"] = Date(\"2022-01-01\")\n",
    "config[\"endtime\"] = Date(\"2022-02-01\")\n",
    "config[\"state\"] = DataFrame(; id=ids, S=1e6, C=0.1)\n",
    "config[\"static\"] = DataFrame(; id=[], variable=[], value=[])\n",
    "config[\"forcing\"] = DataFrame(; time=DateTime[], variable=Symbol[], id=Int[], value=Float64[])\n",
    "config[\"node\"] = DataFrame(; id=ids, node=[\"LSW\", \"OutflowTable\", \"LSW\"])\n",
    "config[\"edge\"] = Ribasim.edgepairs([\n",
    "    (id_lsw, \"LSW\", \"x\") => (id_out, \"OutflowTable\", \"a\"),\n",
    "    (id_lsw, \"LSW\", \"s\") => (id_out, \"OutflowTable\", \"s\"),\n",
    "    (id_out, \"OutflowTable\", \"b\") => (id_lsw_end, \"LSW\", \"x\"),\n",
    "])\n",
    "config[\"profile\"] = Ribasim.profilesets(;\n",
    "    ids, volume=[0.0, 1e6], area=[1e6, 1e6],\n",
    "    discharge=[0.0, 1e0], level=[10.0, 11.0])\n",
    "\n",
    "## Simulate\n",
    "reg = Ribasim.run(config)\n",
    "\n",
    "## Plot results\n",
    "plot_series(reg, id_lsw)"
   ]
  },
  {
   "cell_type": "code",
   "execution_count": null,
   "metadata": {},
   "outputs": [],
   "source": [
    "case = \"emptying_steep_profile_Hupsel\"\n",
    "\n",
    "## Set up\n",
    "config = Dict{String,Any}()\n",
    "id_lsw = 1\n",
    "id_out = 2\n",
    "id_lsw_end = 3\n",
    "ids = [id_lsw, id_out, id_lsw_end]\n",
    "config[\"ids\"] = ids\n",
    "config[\"update_timestep\"] = 86400.0\n",
    "config[\"starttime\"] = Date(\"2022-01-01\")\n",
    "config[\"endtime\"] = Date(\"2022-02-01\")\n",
    "config[\"state\"] = DataFrame(; id=ids, S=1e6, C=0.1)\n",
    "config[\"static\"] = DataFrame(; id=[], variable=[], value=[])\n",
    "config[\"forcing\"] = DataFrame(; time=DateTime[], variable=Symbol[], id=Int[], value=Float64[])\n",
    "config[\"node\"] = DataFrame(; id=ids, node=[\"LSW\", \"OutflowTable\", \"LSW\"])\n",
    "config[\"edge\"] = Ribasim.edgepairs([\n",
    "    (id_lsw, \"LSW\", \"x\") => (id_out, \"OutflowTable\", \"a\"),\n",
    "    (id_lsw, \"LSW\", \"s\") => (id_out, \"OutflowTable\", \"s\"),\n",
    "    (id_out, \"OutflowTable\", \"b\") => (id_lsw_end, \"LSW\", \"x\"),\n",
    "])\n",
    "config[\"profile\"] = Ribasim.profilesets(;\n",
    "    ids,\n",
    "    volume=[0.0, 7427.69, 14855.39, 750197.37],\n",
    "    area=[92152.28, 92152.28, 92152.28, 92152.28],\n",
    "    discharge=[0.0, 0.0, 0.096, 9.60],\n",
    "    level=[18.90, 19.10, 19.30, 39.10])\n",
    "\n",
    "## Simulate\n",
    "reg = Ribasim.run(config)\n",
    "\n",
    "## Plot results\n",
    "plot_series(reg, id_lsw)"
   ]
  },
  {
   "cell_type": "markdown",
   "metadata": {},
   "source": [
    "## Precipitation forcing\n",
    "\n",
    "This fictional free flowing LSW is simulated with only the external forcing of synthetic precipitation data. The storage and the outflow respond to the preciptation as shown below."
   ]
  },
  {
   "cell_type": "code",
   "execution_count": null,
   "metadata": {},
   "outputs": [],
   "source": [
    "case = \"precipitation\"\n",
    "\n",
    "## Set up\n",
    "config = Dict{String,Any}()\n",
    "id_lsw = 1\n",
    "id_out = 2\n",
    "id_lsw_end = 3\n",
    "ids = [id_lsw, id_out, id_lsw_end]\n",
    "config[\"ids\"] = ids\n",
    "config[\"update_timestep\"] = 86400.0\n",
    "config[\"starttime\"] = Date(\"2019-01-01\")\n",
    "config[\"endtime\"] = Date(\"2020-01-01\")\n",
    "config[\"state\"] = DataFrame(; id=ids, S=1e6, C=0.1)\n",
    "config[\"static\"] = DataFrame(; id=[], variable=[], value=[])\n",
    "config[\"forcing\"] = @subset(lswforcing, :variable == \"P\", :id == 1)\n",
    "config[\"node\"] = DataFrame(; id=ids, node=[\"LSW\", \"OutflowTable\", \"LSW\"])\n",
    "config[\"edge\"] = Ribasim.edgepairs([\n",
    "    (id_lsw, \"LSW\", \"x\") => (id_out, \"OutflowTable\", \"a\"),\n",
    "    (id_lsw, \"LSW\", \"s\") => (id_out, \"OutflowTable\", \"s\"),\n",
    "    (id_out, \"OutflowTable\", \"b\") => (id_lsw_end, \"LSW\", \"x\"),\n",
    "])\n",
    "config[\"profile\"] = Ribasim.profilesets(;\n",
    "    ids, volume=[0.0, 1e6], area=[1e6, 1e6],\n",
    "    discharge=[0.0, 1e0], level=[10.0, 11.0])\n",
    "\n",
    "# Simulate\n",
    "reg = Ribasim.run(config)\n",
    "\n",
    "# Plot results\n",
    "plot_series(reg, id_lsw)"
   ]
  },
  {
   "cell_type": "markdown",
   "metadata": {},
   "source": [
    "## Evaporation forcing\n",
    "\n",
    "The LSW loses water from evaporation. Outflow occurs according to the relation as in @sec-free-no, but overall volume decline is faster rate due to additional loss from evaporation. Evaporation does not occur in an empty LSW.\n",
    "\n",
    "The second example shows the LSW with no simulated discharge, so that the only output is evaporation"
   ]
  },
  {
   "cell_type": "code",
   "execution_count": null,
   "metadata": {},
   "outputs": [],
   "source": [
    "case = \"evaporation\"\n",
    "\n",
    "## Set up\n",
    "config = Dict{String,Any}()\n",
    "id_lsw = 1\n",
    "id_out = 2\n",
    "id_lsw_end = 3\n",
    "ids = [id_lsw, id_out, id_lsw_end]\n",
    "config[\"ids\"] = ids\n",
    "config[\"update_timestep\"] = 86400.0\n",
    "config[\"starttime\"] = Date(\"2019-01-01\")\n",
    "config[\"endtime\"] = Date(\"2019-06-01\")\n",
    "config[\"state\"] = DataFrame(; id=ids, S=1e6, C=0.1)\n",
    "config[\"static\"] = DataFrame(; id=[], variable=[], value=[])\n",
    "config[\"forcing\"] = @subset(lswforcing, :variable == \"E_pot\", :id == 1)\n",
    "config[\"node\"] = DataFrame(; id=ids, node=[\"LSW\", \"OutflowTable\", \"LSW\"])\n",
    "config[\"edge\"] = Ribasim.edgepairs([\n",
    "    (id_lsw, \"LSW\", \"x\") => (id_out, \"OutflowTable\", \"a\"),\n",
    "    (id_lsw, \"LSW\", \"s\") => (id_out, \"OutflowTable\", \"s\"),\n",
    "    (id_out, \"OutflowTable\", \"b\") => (id_lsw_end, \"LSW\", \"x\"),\n",
    "])\n",
    "config[\"profile\"] = Ribasim.profilesets(;\n",
    "    ids, volume=[0.0, 1e6], area=[1e6, 1e6],\n",
    "    discharge=[0.0, 1e0], level=[10.0, 11.0])\n",
    "\n",
    "## Simulate\n",
    "reg = Ribasim.run(config)\n",
    "\n",
    "## Plot results\n",
    "plot_series(reg, id_lsw)"
   ]
  },
  {
   "cell_type": "code",
   "execution_count": null,
   "metadata": {},
   "outputs": [],
   "source": [
    "case = \"evaporation2\"\n",
    "\n",
    "## Set up\n",
    "config = Dict{String,Any}()\n",
    "id_lsw = 1\n",
    "id_bnd = 2\n",
    "ids = [id_lsw, id_bnd]\n",
    "config[\"ids\"] = ids\n",
    "config[\"update_timestep\"] = 86400.0\n",
    "config[\"starttime\"] = Date(\"2019-01-01\")\n",
    "config[\"endtime\"] = Date(\"2020-01-01\")\n",
    "config[\"state\"] = DataFrame(; id=ids, S=1e6, C=0.1)\n",
    "config[\"static\"] = DataFrame(; id=[], variable=[], value=[])\n",
    "config[\"forcing\"] = @subset(lswforcing, :variable == \"E_pot\", :id == 1)\n",
    "config[\"node\"] = DataFrame(; id=ids, node=[\"LSW\", \"NoFlowBoundary\"])\n",
    "config[\"edge\"] = Ribasim.edgepairs([\n",
    "    (id_lsw, \"LSW\", \"x\") => (id_bnd, \"NoFlowBoundary\", \"x\"),\n",
    "])\n",
    "config[\"profile\"] = Ribasim.profilesets(;\n",
    "    ids=[1], volume=[0.0, 1e6], area=[1e6, 1e6],\n",
    "    discharge=[0.0, 1e0], level=[10.0, 11.0])\n",
    "\n",
    "## Simulate\n",
    "reg = Ribasim.run(config)\n",
    "\n",
    "## Plot results\n",
    "plot_series(reg, id_lsw)"
   ]
  },
  {
   "cell_type": "markdown",
   "metadata": {},
   "source": [
    "## Evaporation and precipitation forcings\n",
    "\n",
    "This example shows the evaporation and precipitation flux simulated together."
   ]
  },
  {
   "cell_type": "code",
   "execution_count": null,
   "metadata": {},
   "outputs": [],
   "source": [
    "case = \"evaporation_precipitation\"\n",
    "\n",
    "## Set up\n",
    "config = Dict{String,Any}()\n",
    "id_lsw = 1\n",
    "id_bnd = 2\n",
    "ids = [id_lsw, id_bnd]\n",
    "config[\"ids\"] = ids\n",
    "config[\"update_timestep\"] = 86400.0\n",
    "config[\"starttime\"] = Date(\"2019-01-01\")\n",
    "config[\"endtime\"] = Date(\"2020-01-01\")\n",
    "config[\"state\"] = DataFrame(; id=ids, S=1e6, C=0.1)\n",
    "config[\"static\"] = DataFrame(; id=[], variable=[], value=[])\n",
    "config[\"forcing\"] = @subset(lswforcing, :variable in [\"P\", \"E_pot\"], :id == 1)\n",
    "config[\"node\"] = DataFrame(; id=ids, node=[\"LSW\", \"NoFlowBoundary\"])\n",
    "config[\"edge\"] = Ribasim.edgepairs([\n",
    "    (id_lsw, \"LSW\", \"x\") => (id_bnd, \"NoFlowBoundary\", \"x\"),\n",
    "])\n",
    "config[\"profile\"] = Ribasim.profilesets(;\n",
    "    ids=[1], volume=[0.0, 1e6], area=[1e6, 1e6],\n",
    "    discharge=[0.0, 1e0], level=[10.0, 11.0])\n",
    "\n",
    "## Simulate\n",
    "reg = Ribasim.run(config)\n",
    "\n",
    "## Plot\n",
    "plot_series(reg, id_lsw)"
   ]
  },
  {
   "attachments": {},
   "cell_type": "markdown",
   "metadata": {},
   "source": [
    "## Infiltration \n",
    "\n",
    "Infiltration is an out flux of the LSW. This example shows the LSW storage responding to an enhanced forcing of infiltration. There is no outflow simulated of this LSW, so that the only output is the infiltration."
   ]
  },
  {
   "cell_type": "code",
   "execution_count": null,
   "metadata": {},
   "outputs": [],
   "source": [
    "case = \"Infiltration\"\n",
    "\n",
    "## Set up\n",
    "config = Dict{String,Any}()\n",
    "id_lsw = 1\n",
    "id_bnd = 2\n",
    "ids = [id_lsw, id_bnd]\n",
    "config[\"ids\"] = ids\n",
    "config[\"update_timestep\"] = 86400.0\n",
    "config[\"starttime\"] = Date(\"2019-01-01\")\n",
    "config[\"endtime\"] = Date(\"2019-02-01\")\n",
    "config[\"state\"] = DataFrame(; id=ids, S=1e6, C=0.1)\n",
    "config[\"static\"] = DataFrame(; id=[id_lsw], variable=[\"infiltration\"], value=[1.5e-1])\n",
    "config[\"forcing\"] = lswforcing[1:0, :]  # no forcing\n",
    "config[\"node\"] = DataFrame(; id=ids, node=[\"LSW\", \"NoFlowBoundary\"])\n",
    "config[\"edge\"] = Ribasim.edgepairs([\n",
    "    (id_lsw, \"LSW\", \"x\") => (id_bnd, \"NoFlowBoundary\", \"x\"),\n",
    "])\n",
    "config[\"profile\"] = Ribasim.profilesets(;\n",
    "    ids=[id_lsw], volume=[0.0, 1e6], area=[1e6, 1e6],\n",
    "    discharge=[0.0, 1e0], level=[10.0, 11.0])\n",
    "\n",
    "## Simulate\n",
    "reg = Ribasim.run(config)\n",
    "\n",
    "## Plot results\n",
    "plot_series(reg, id_lsw)"
   ]
  },
  {
   "cell_type": "markdown",
   "metadata": {},
   "source": [
    "## Urban Runoff\n",
    "\n",
    "Urban runoff is a surface water input to the LSW. In case of the Netherlands, this is not calculated by MODFLOW but by the unsaturated zone model MetaSWAP.\n",
    "This example shows the LSW storage responding to the influx forcing of urban runoff."
   ]
  },
  {
   "cell_type": "code",
   "execution_count": null,
   "metadata": {},
   "outputs": [],
   "source": [
    "case = \"Urban Runoff\"\n",
    "\n",
    "## Set up\n",
    "config = Dict{String,Any}()\n",
    "id_lsw = 1\n",
    "id_bnd = 2\n",
    "ids = [id_lsw, id_bnd]\n",
    "config[\"ids\"] = ids\n",
    "config[\"update_timestep\"] = 86400.0\n",
    "config[\"starttime\"] = Date(\"2019-01-01\")\n",
    "config[\"endtime\"] = Date(\"2019-06-01\")\n",
    "config[\"state\"] = DataFrame(; id=ids, S=1e6, C=0.1)\n",
    "config[\"static\"] = DataFrame(; id=[], variable=[], value=[])\n",
    "config[\"forcing\"] = @subset(lswforcing, :variable == \"urban_runoff\", :id == 1)\n",
    "config[\"node\"] = DataFrame(; id=ids, node=[\"LSW\", \"NoFlowBoundary\"])\n",
    "config[\"edge\"] = Ribasim.edgepairs([\n",
    "    (id_lsw, \"LSW\", \"x\") => (id_bnd, \"NoFlowBoundary\", \"x\"),\n",
    "])\n",
    "config[\"profile\"] = Ribasim.profilesets(;\n",
    "    ids=[id_lsw], volume=[0.0, 1e6], area=[1e6, 1e6],\n",
    "    discharge=[0.0, 1e0], level=[10.0, 11.0])\n",
    "\n",
    "## Simulate\n",
    "reg = Ribasim.run(config)\n",
    "\n",
    "## Plot\n",
    "plot_series(reg, id_lsw)"
   ]
  },
  {
   "cell_type": "markdown",
   "metadata": {},
   "source": [
    "## Allocation to multiple users (agriculture and industry)\n",
    "\n",
    "The allocation is based upon demand and prioritisation of the users and the available water in the LSW. In a free flowing LSW only water from the LSW can be abstracted by the users: agriculture and industry.\n",
    "In this example there are two users. Agriculture has higher prioirty than industry, therefore when there is a shortage of available water, agriculture abstracts water before industry as demonstrated.\n",
    "\n",
    "When water supply is limited, the model follows “de verdringingsreeks” (water prioritization rules in times of water shortage in the Netherlands)."
   ]
  },
  {
   "cell_type": "markdown",
   "metadata": {},
   "source": [
    "<img src=\"https://user-images.githubusercontent.com/103200724/187085506-0ee79dd0-8023-42e8-9b05-4b9f433ae73e.jpg\" alt=\"Multi user\" title=\"Ribasim multi user allocation\" width=\"800\"/>"
   ]
  },
  {
   "cell_type": "markdown",
   "metadata": {},
   "source": [
    "## Water balance of a single LSW (Hupsel) {#sec-free-balance}\n",
    "\n",
    "This simulation is for the LSW Hupsel. The LSW is a free flowing LSW."
   ]
  },
  {
   "cell_type": "markdown",
   "metadata": {},
   "source": [
    "<img src=\"https://user-images.githubusercontent.com/103200724/187200598-edae91ad-8140-466a-b06e-3289babeee27.png\" alt=\"Hupsel\" title=\"Hupsel Water Balance\" width=\"800\"/>"
   ]
  },
  {
   "cell_type": "markdown",
   "metadata": {},
   "source": [
    "## Water balance comparison Hupsel {#sec-free-comparison}\n",
    "\n",
    "The following two figures show Hupsel LSW water balance for the Ribasim prototype compared to the water balance simulated by Mozart, the precursor to Ribasim.\n",
    "The figures show a good agreement between the two simulations."
   ]
  },
  {
   "cell_type": "markdown",
   "metadata": {},
   "source": [
    "<img src=\"https://user-images.githubusercontent.com/4471859/179259174-0caccd4a-c51b-449e-873c-17d48cfc8870.png\" alt=\"Mozart - Ribasim Water Balance Comparison\" title=\"Mozart - Ribasim Water Balance Comparison\" width=\"800\"/>\n",
    "\n",
    "<img src=\"https://user-images.githubusercontent.com/103200724/186892581-557e2a0a-7b17-47cc-b65c-a2f7e3e30b66.PNG\" alt=\"Mozart - Ribasim Storage Comparison\" title=\"Mozart - Ribasim Water Balance Comparison\" width=\"800\"/>"
   ]
  },
  {
   "cell_type": "markdown",
   "metadata": {},
   "source": [
    "<img src=\"https://user-images.githubusercontent.com/103200724/186892581-557e2a0a-7b17-47cc-b65c-a2f7e3e30b66.PNG\" alt=\"\" title=\"Mozart - Ribasim Storage Comparison\" width=\"800\"/>"
   ]
  },
  {
   "attachments": {},
   "cell_type": "markdown",
   "metadata": {},
   "source": [
    "## Bifurcation\n",
    "\n",
    "To handle bifurcations, we want to be able to model them using an adjustable fraction.\n",
    "To implement this we use a separate `Bifurcation` node, that has an inflow `src`, and\n",
    "outflows `dst_1` and `dst_2`. In this example `dst_1` will receive 33% of the flow, and\n",
    "`dst_2` will receive `67%`. An error is raised if the fractions do not add up to 100%."
   ]
  },
  {
   "cell_type": "code",
   "execution_count": null,
   "metadata": {},
   "outputs": [],
   "source": [
    "case = \"Bifurcation\"\n",
    "\n",
    "## Set up\n",
    "config = Dict{String,Any}()\n",
    "id_lsw = 1\n",
    "id_out = 2\n",
    "id_bif = 3\n",
    "id_end1 = 4\n",
    "id_end2 = 5\n",
    "ids = [id_lsw, id_out, id_bif, id_end1, id_end2]\n",
    "config[\"ids\"] = ids\n",
    "config[\"update_timestep\"] = 86400.0\n",
    "config[\"starttime\"] = DateTime(\"2022-01-01\")\n",
    "config[\"endtime\"] = DateTime(\"2022-02-01\")\n",
    "config[\"state\"] = DataFrame(id=ids, S=1e6, C=0.1)\n",
    "config[\"static\"] = DataFrame(; id=id_bif, variable=[\"fraction_1\", \"fraction_2\"], value=[0.33, 0.67])\n",
    "config[\"forcing\"] = DataFrame(; time=DateTime[], variable=Symbol[], id=Int[], value=Float64[])\n",
    "config[\"node\"] = DataFrame(; id=ids, node=[\"LSW\", \"OutflowTable\", \"Bifurcation\", \"LSW\", \"LSW\"])\n",
    "config[\"edge\"] = Ribasim.edgepairs([\n",
    "    (id_lsw, \"LSW\", \"x\") => (id_out, \"OutflowTable\", \"a\"),\n",
    "    (id_lsw, \"LSW\", \"s\") => (id_out, \"OutflowTable\", \"s\"),\n",
    "    (id_out, \"OutflowTable\", \"b\") => (id_bif, \"Bifurcation\", \"src\"),\n",
    "    (id_bif, \"Bifurcation\", \"dst_1\") => (id_end1, \"LSW\", \"x\"),\n",
    "    (id_bif, \"Bifurcation\", \"dst_2\") => (id_end2, \"LSW\", \"x\"),\n",
    "])\n",
    "config[\"profile\"] = Ribasim.profilesets(;\n",
    "    ids, volume=[0.0, 1e6], area=[1e6, 1e6],\n",
    "    discharge=[0.0, 1e0], level=[10.0, 11.0])\n",
    "\n",
    "## Simulate\n",
    "reg = Ribasim.run(config)\n",
    "\n",
    "## Plot results\n",
    "fig = Figure()\n",
    "ylabel = \"flow rate / m³ s⁻¹\"\n",
    "timespan = datetime2unix(config[\"starttime\"]) .. datetime2unix(config[\"endtime\"])\n",
    "ax = time!(Axis(fig[1, 1]; ylabel), timespan.left, timespan.right)\n",
    "\n",
    "name = Symbol(:bifurcation_, 3)\n",
    "lines!(ax, timespan, interpolator(reg, Symbol(name, :₊src₊Q)), label=\"bifurcation inflow\")\n",
    "lines!(ax, timespan, interpolator(reg, Symbol(name, :₊dst_1₊Q)), label=\"bifurcation outflow 1\")\n",
    "lines!(ax, timespan, interpolator(reg, Symbol(name, :₊dst_2₊Q)), label=\"bifurcation outflow 2\")\n",
    "fig[1, 2] = Legend(fig, ax, \"\", framevisible=true)\n",
    "hidexdecorations!(ax, grid=false)\n",
    "fig"
   ]
  },
  {
   "cell_type": "markdown",
   "metadata": {},
   "source": [
    "# Demonstration of a Level Controlled LSW {#sec-level}\n",
    "\n",
    "The following examples demonstrate the water management and user allocation functionality for a level controlled LSW. Polder de Tol is used as the example for these demonstrations."
   ]
  },
  {
   "cell_type": "markdown",
   "metadata": {},
   "source": [
    "## Single Level Controlled LSW (Tol)\n",
    "\n",
    "This simulation is for the LSW De Tol. The LSW is a level controlled meaning that water is allocated to maintain water levels at a target level. "
   ]
  },
  {
   "cell_type": "markdown",
   "metadata": {},
   "source": [
    "<img src=\"https://user-images.githubusercontent.com/103200724/187208026-22b39c44-03c4-4694-8f82-79a0fa52551e.png\" alt=\"tol\" title=\"Tol Water Balance\" width=\"800\"/>\n",
    "\n",
    "\n"
   ]
  },
  {
   "cell_type": "markdown",
   "metadata": {},
   "source": [
    "## De Tol water balance comparison with Mozart\n",
    "\n",
    "The following two figures show De Tol LSW water balance for the Ribasim prototype compared to the water balance simulated by Mozart, the precursor to Ribasim.\n",
    "The figures show a good agreement between the two simulations"
   ]
  },
  {
   "cell_type": "markdown",
   "metadata": {},
   "source": [
    "<img src=\"https://user-images.githubusercontent.com/103200724/186892605-db217b55-13d6-48bb-a78e-3bbf4acc70c1.PNG\" alt=\"Mozart - Ribasim Water Balance Comparison\" title=\"Mozart - Ribasim Water Balance Comparison\" width=\"800\"/>\n",
    "\n",
    "<img src=\"https://user-images.githubusercontent.com/103200724/186892628-7cb0d3cd-9439-46cb-b6b8-9908d9c7e09a.PNG\" alt=\"Mozart - Ribasim Water Balance Comparison\" title=\"Mozart - Ribasim Water Balance Comparison\" width=\"800\"/>"
   ]
  }
 ],
 "metadata": {
  "kernelspec": {
   "display_name": "Julia 1.9.0-alpha1",
   "language": "julia",
   "name": "julia-1.9"
  },
  "language_info": {
   "file_extension": ".jl",
   "mimetype": "application/julia",
   "name": "julia",
   "version": "1.9.0-alpha1"
  }
 },
 "nbformat": 4,
 "nbformat_minor": 2
}
