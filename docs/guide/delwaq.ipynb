{
 "cells": [
  {
   "cell_type": "markdown",
   "metadata": {},
   "source": [
    "---\n",
    "title: \"Ribasim Delwaq coupling\"\n",
    "---"
   ]
  },
  {
   "cell_type": "code",
   "execution_count": null,
   "metadata": {},
   "outputs": [],
   "source": [
    "from pathlib import Path\n",
    "\n",
    "import matplotlib.pyplot as plt\n",
    "import networkx as nx\n",
    "from ribasim import Model\n",
    "from ribasim.delwaq import generate"
   ]
  },
  {
   "cell_type": "markdown",
   "metadata": {},
   "source": [
    "In order to generate the Delwaq input files, we need a completed Ribasim simulation (typically one with a results folder). Let's take a complete HWS model for example. Please adjust the paths and filenames to your own case.\n"
   ]
  },
  {
   "cell_type": "code",
   "execution_count": null,
   "metadata": {},
   "outputs": [],
   "source": [
    "toml_path = Path(\"../../hws_2024_6_0/hws.toml\")\n",
    "output_path = Path(\n",
    "    \"../../hws_2024_6_0/delwaq\"\n",
    ")  # also set a path where we store the Delwaq input files\n",
    "assert toml_path.is_file()"
   ]
  },
  {
   "cell_type": "markdown",
   "metadata": {},
   "source": [
    "Now we can call `generate`, generating the required input files for Delwaq."
   ]
  },
  {
   "cell_type": "code",
   "execution_count": null,
   "metadata": {},
   "outputs": [],
   "source": [
    "graph, substances = generate(toml_path, output_path)"
   ]
  },
  {
   "cell_type": "markdown",
   "metadata": {},
   "source": [
    "Let's inspect the generated files.\n"
   ]
  },
  {
   "cell_type": "code",
   "execution_count": null,
   "metadata": {},
   "outputs": [],
   "source": [
    "list(output_path.iterdir())"
   ]
  },
  {
   "cell_type": "markdown",
   "metadata": {},
   "source": [
    "The two output variables `graph` and `substances` are required for parsing the results of the Delwaq model later on. Nonetheless, we can also inspect them here, and inspect the graph."
   ]
  },
  {
   "cell_type": "code",
   "execution_count": null,
   "metadata": {},
   "outputs": [],
   "source": [
    "substances  # list of substances, as will be present in the Delwaq netcdf output"
   ]
  },
  {
   "cell_type": "code",
   "execution_count": null,
   "metadata": {},
   "outputs": [],
   "source": [
    "# Let's draw the graph\n",
    "# plt.clf()\n",
    "plt.figure(figsize=(15, 15))\n",
    "nx.draw(\n",
    "    graph,\n",
    "    pos={k: v[\"pos\"] for k, v in graph.nodes(data=True)},\n",
    "    with_labels=True,\n",
    "    labels={\n",
    "        k: v[\"id\"] for k, v in graph.nodes(data=True)\n",
    "    },  # uncomment for original node id\n",
    ")"
   ]
  },
  {
   "cell_type": "markdown",
   "metadata": {},
   "source": [
    "Let's create a geopackage that contains our node mapping between Ribasim and Delwaq."
   ]
  },
  {
   "cell_type": "code",
   "execution_count": null,
   "metadata": {},
   "outputs": [],
   "source": [
    "model = Model.read(toml_path)\n",
    "nodes = model.node_table()\n",
    "\n",
    "mapping = {k: v[\"id\"] for k, v in graph.nodes(data=True)}\n",
    "\n",
    "df = nodes.df[nodes.df[\"node_id\"].isin(mapping.values())]\n",
    "df.set_index(\"node_id\", inplace=True)\n",
    "df = df.loc[list(mapping.values())]\n",
    "df[\"meta_delwaq_id\"] = mapping.keys()\n",
    "\n",
    "df.to_file(output_path / \"mapping.gpkg\")"
   ]
  }
 ],
 "metadata": {
  "kernelspec": {
   "display_name": "default",
   "language": "python",
   "name": "python3"
  },
  "language_info": {
   "codemirror_mode": {
    "name": "ipython",
    "version": 3
   },
   "file_extension": ".py",
   "mimetype": "text/x-python",
   "name": "python",
   "nbconvert_exporter": "python",
   "pygments_lexer": "ipython3",
   "version": "3.12.3"
  }
 },
 "nbformat": 4,
 "nbformat_minor": 2
}
